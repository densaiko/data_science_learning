{
  "nbformat": 4,
  "nbformat_minor": 0,
  "metadata": {
    "colab": {
      "name": "Regression",
      "provenance": [],
      "collapsed_sections": [],
      "authorship_tag": "ABX9TyOwG2OulqjUZmQvwE8ase69"
    },
    "kernelspec": {
      "name": "python3",
      "display_name": "Python 3"
    },
    "language_info": {
      "name": "python"
    }
  },
  "cells": [
    {
      "cell_type": "markdown",
      "metadata": {
        "id": "BR2iPwgRhR-y"
      },
      "source": [
        "# Regression\n",
        "by. Ari Sulistiyo Prabowo\n",
        "____\n",
        "\n",
        "**Contents**:\n",
        "1. What is linear regression model\n",
        "2. Applied regression model\n",
        "  - Linear regression\n",
        "  - Polynomial regression\n",
        "  - Decision tree regression\n",
        "  - Gradient boosting regression"
      ]
    },
    {
      "cell_type": "markdown",
      "metadata": {
        "id": "JC8d9l03hsIA"
      },
      "source": [
        "## What is linear regression model\n",
        "A model that assume linear relationship between input variable (x) and output variable (y)\n",
        "![picture](https://ilmudatapy.com/wp-content/uploads/2020/07/simple-linear-regression-2.png)\n",
        "\n",
        "There are two types of regression:\n",
        "- **Simple linear regression**: there is only one input variable and one target variable\n",
        "- **Multiple linear regression**: there are more than one input variables and one target variable\n",
        "\n",
        "![picture](https://miro.medium.com/max/1838/1*uLHXR8LKGDucpwUYHx3VaQ.png)"
      ]
    },
    {
      "cell_type": "markdown",
      "metadata": {
        "id": "_qCYNUt4kJnQ"
      },
      "source": [
        "## Applied Linear Regression"
      ]
    },
    {
      "cell_type": "code",
      "metadata": {
        "id": "t2AVKvgvlVis"
      },
      "source": [
        "#import library\n",
        "import pandas as pd\n",
        "import numpy as np\n",
        "\n",
        "#import visualization library\n",
        "import matplotlib.pyplot as plt\n",
        "import seaborn as sns\n",
        "\n",
        "#import ML model\n",
        "from sklearn.linear_model import LinearRegression\n",
        "from sklearn.tree import DecisionTreeRegressor\n",
        "from sklearn.preprocessing import PolynomialFeatures, LabelEncoder, StandardScaler\n",
        "from sklearn.ensemble import GradientBoostingRegressor\n",
        "from sklearn.model_selection import train_test_split\n",
        "\n",
        "#import evaluation metrics\n",
        "from sklearn.metrics import mean_absolute_error, mean_squared_error, r2_score\n",
        "import warnings\n",
        "warnings.filterwarnings(\"ignore\")"
      ],
      "execution_count": 40,
      "outputs": []
    },
    {
      "cell_type": "code",
      "metadata": {
        "colab": {
          "base_uri": "https://localhost:8080/",
          "height": 221
        },
        "id": "p6cPc4myCsok",
        "outputId": "0d19103c-b98d-45bc-9787-71096a28370f"
      },
      "source": [
        "data = pd.read_csv(\"https://raw.githubusercontent.com/densaiko/data_science_learning/main/dataset/insurance.csv\")\n",
        "display(data.shape)\n",
        "data.head()"
      ],
      "execution_count": 2,
      "outputs": [
        {
          "output_type": "display_data",
          "data": {
            "text/plain": [
              "(1338, 7)"
            ]
          },
          "metadata": {}
        },
        {
          "output_type": "execute_result",
          "data": {
            "text/html": [
              "<div>\n",
              "<style scoped>\n",
              "    .dataframe tbody tr th:only-of-type {\n",
              "        vertical-align: middle;\n",
              "    }\n",
              "\n",
              "    .dataframe tbody tr th {\n",
              "        vertical-align: top;\n",
              "    }\n",
              "\n",
              "    .dataframe thead th {\n",
              "        text-align: right;\n",
              "    }\n",
              "</style>\n",
              "<table border=\"1\" class=\"dataframe\">\n",
              "  <thead>\n",
              "    <tr style=\"text-align: right;\">\n",
              "      <th></th>\n",
              "      <th>age</th>\n",
              "      <th>sex</th>\n",
              "      <th>bmi</th>\n",
              "      <th>children</th>\n",
              "      <th>smoker</th>\n",
              "      <th>region</th>\n",
              "      <th>charges</th>\n",
              "    </tr>\n",
              "  </thead>\n",
              "  <tbody>\n",
              "    <tr>\n",
              "      <th>0</th>\n",
              "      <td>19</td>\n",
              "      <td>female</td>\n",
              "      <td>27.900</td>\n",
              "      <td>0</td>\n",
              "      <td>yes</td>\n",
              "      <td>southwest</td>\n",
              "      <td>16884.92400</td>\n",
              "    </tr>\n",
              "    <tr>\n",
              "      <th>1</th>\n",
              "      <td>18</td>\n",
              "      <td>male</td>\n",
              "      <td>33.770</td>\n",
              "      <td>1</td>\n",
              "      <td>no</td>\n",
              "      <td>southeast</td>\n",
              "      <td>1725.55230</td>\n",
              "    </tr>\n",
              "    <tr>\n",
              "      <th>2</th>\n",
              "      <td>28</td>\n",
              "      <td>male</td>\n",
              "      <td>33.000</td>\n",
              "      <td>3</td>\n",
              "      <td>no</td>\n",
              "      <td>southeast</td>\n",
              "      <td>4449.46200</td>\n",
              "    </tr>\n",
              "    <tr>\n",
              "      <th>3</th>\n",
              "      <td>33</td>\n",
              "      <td>male</td>\n",
              "      <td>22.705</td>\n",
              "      <td>0</td>\n",
              "      <td>no</td>\n",
              "      <td>northwest</td>\n",
              "      <td>21984.47061</td>\n",
              "    </tr>\n",
              "    <tr>\n",
              "      <th>4</th>\n",
              "      <td>32</td>\n",
              "      <td>male</td>\n",
              "      <td>28.880</td>\n",
              "      <td>0</td>\n",
              "      <td>no</td>\n",
              "      <td>northwest</td>\n",
              "      <td>3866.85520</td>\n",
              "    </tr>\n",
              "  </tbody>\n",
              "</table>\n",
              "</div>"
            ],
            "text/plain": [
              "   age     sex     bmi  children smoker     region      charges\n",
              "0   19  female  27.900         0    yes  southwest  16884.92400\n",
              "1   18    male  33.770         1     no  southeast   1725.55230\n",
              "2   28    male  33.000         3     no  southeast   4449.46200\n",
              "3   33    male  22.705         0     no  northwest  21984.47061\n",
              "4   32    male  28.880         0     no  northwest   3866.85520"
            ]
          },
          "metadata": {},
          "execution_count": 2
        }
      ]
    },
    {
      "cell_type": "markdown",
      "metadata": {
        "id": "HbZSA-LBmawo"
      },
      "source": [
        "### Eploratory Data Analysis"
      ]
    },
    {
      "cell_type": "code",
      "metadata": {
        "colab": {
          "base_uri": "https://localhost:8080/",
          "height": 345
        },
        "id": "cj64I3I6mchk",
        "outputId": "a3f627dc-c947-4db1-9d62-cfb2dfab3b5d"
      },
      "source": [
        "# perform the distribution of charges\n",
        "fig, ax = plt.subplots(figsize=(12,5))\n",
        "sns.distplot(data[\"charges\"], color='orange', kde_kws={'shade':True}, hist=False,\n",
        "             bins=10, ax=ax)\n",
        "\n",
        "ax.text(data['charges'].mean() + 10000, 0.00005, \"Mean: \"+ str(round(data['charges'].mean(),2)), style='italic', fontsize=10)\n",
        "ax.text(data['charges'].mean() + 10000, 0.000045, \"Median: \"+ str(round(data['charges'].median(),2)), style='italic', fontsize=10)\n",
        "ax.text(data['charges'].mean() + 10000, 0.00004, \"Mode: \"+ str(round(data['charges'].mode()[0],2)), style='italic', fontsize=10)\n",
        "ax.text(data['charges'].mean() + 10000, 0.000035, \"Minimum of Charges: \" + str(data['charges'].min()))\n",
        "ax.text(data['charges'].mean() + 10000, 0.00003, \"Maximum of Charges: \" + str(data['charges'].max()))\n",
        "plt.show()"
      ],
      "execution_count": 3,
      "outputs": [
        {
          "output_type": "display_data",
          "data": {
            "image/png": "[encoded data removed]",
            "text/plain": [
              "<Figure size 864x360 with 1 Axes>"
            ]
          },
          "metadata": {
            "needs_background": "light"
          }
        }
      ]
    },
    {
      "cell_type": "code",
      "metadata": {
        "colab": {
          "base_uri": "https://localhost:8080/",
          "height": 341
        },
        "id": "OQACQdnqnLr8",
        "outputId": "27c34914-b7cd-4c7e-ad8c-da770649c58d"
      },
      "source": [
        "#show the correlation\n",
        "plt.figure(figsize=(10,5))\n",
        "sns.heatmap(data.corr(), annot=True)"
      ],
      "execution_count": 4,
      "outputs": [
        {
          "output_type": "execute_result",
          "data": {
            "text/plain": [
              "<matplotlib.axes._subplots.AxesSubplot at 0x7fb0bd897c90>"
            ]
          },
          "metadata": {},
          "execution_count": 4
        },
        {
          "output_type": "display_data",
          "data": {
            "image/png": "[encoded data removed]",
            "text/plain": [
              "<Figure size 720x360 with 2 Axes>"
            ]
          },
          "metadata": {
            "needs_background": "light"
          }
        }
      ]
    },
    {
      "cell_type": "markdown",
      "metadata": {
        "id": "hG5PDgPXpxIy"
      },
      "source": [
        "It shows that charges of insurance has positive correlation with age "
      ]
    },
    {
      "cell_type": "markdown",
      "metadata": {
        "id": "aKcbI09-qMSH"
      },
      "source": [
        "## Data Pre-processing"
      ]
    },
    {
      "cell_type": "code",
      "metadata": {
        "colab": {
          "base_uri": "https://localhost:8080/",
          "height": 68
        },
        "id": "GceZdHlKptK2",
        "outputId": "094459cf-d1c3-4278-c344-899f0bf87689"
      },
      "source": [
        "display(data['sex'].unique())\n",
        "display(data['region'].unique())\n",
        "display(data['smoker'].unique())"
      ],
      "execution_count": 5,
      "outputs": [
        {
          "output_type": "display_data",
          "data": {
            "text/plain": [
              "array(['female', 'male'], dtype=object)"
            ]
          },
          "metadata": {}
        },
        {
          "output_type": "display_data",
          "data": {
            "text/plain": [
              "array(['southwest', 'southeast', 'northwest', 'northeast'], dtype=object)"
            ]
          },
          "metadata": {}
        },
        {
          "output_type": "display_data",
          "data": {
            "text/plain": [
              "array(['yes', 'no'], dtype=object)"
            ]
          },
          "metadata": {}
        }
      ]
    },
    {
      "cell_type": "code",
      "metadata": {
        "colab": {
          "base_uri": "https://localhost:8080/",
          "height": 204
        },
        "id": "klY3SWd1qN1g",
        "outputId": "ddf9c926-a47c-4011-9eee-59647bb16ad9"
      },
      "source": [
        "#labeling the sex and region features\n",
        "le = LabelEncoder()\n",
        "cols = ['sex', 'region', 'smoker']\n",
        "for i in cols:\n",
        "  le.fit(data[i])\n",
        "  data[i] = le.transform(data[i])\n",
        "\n",
        "data.head()"
      ],
      "execution_count": 6,
      "outputs": [
        {
          "output_type": "execute_result",
          "data": {
            "text/html": [
              "<div>\n",
              "<style scoped>\n",
              "    .dataframe tbody tr th:only-of-type {\n",
              "        vertical-align: middle;\n",
              "    }\n",
              "\n",
              "    .dataframe tbody tr th {\n",
              "        vertical-align: top;\n",
              "    }\n",
              "\n",
              "    .dataframe thead th {\n",
              "        text-align: right;\n",
              "    }\n",
              "</style>\n",
              "<table border=\"1\" class=\"dataframe\">\n",
              "  <thead>\n",
              "    <tr style=\"text-align: right;\">\n",
              "      <th></th>\n",
              "      <th>age</th>\n",
              "      <th>sex</th>\n",
              "      <th>bmi</th>\n",
              "      <th>children</th>\n",
              "      <th>smoker</th>\n",
              "      <th>region</th>\n",
              "      <th>charges</th>\n",
              "    </tr>\n",
              "  </thead>\n",
              "  <tbody>\n",
              "    <tr>\n",
              "      <th>0</th>\n",
              "      <td>19</td>\n",
              "      <td>0</td>\n",
              "      <td>27.900</td>\n",
              "      <td>0</td>\n",
              "      <td>1</td>\n",
              "      <td>3</td>\n",
              "      <td>16884.92400</td>\n",
              "    </tr>\n",
              "    <tr>\n",
              "      <th>1</th>\n",
              "      <td>18</td>\n",
              "      <td>1</td>\n",
              "      <td>33.770</td>\n",
              "      <td>1</td>\n",
              "      <td>0</td>\n",
              "      <td>2</td>\n",
              "      <td>1725.55230</td>\n",
              "    </tr>\n",
              "    <tr>\n",
              "      <th>2</th>\n",
              "      <td>28</td>\n",
              "      <td>1</td>\n",
              "      <td>33.000</td>\n",
              "      <td>3</td>\n",
              "      <td>0</td>\n",
              "      <td>2</td>\n",
              "      <td>4449.46200</td>\n",
              "    </tr>\n",
              "    <tr>\n",
              "      <th>3</th>\n",
              "      <td>33</td>\n",
              "      <td>1</td>\n",
              "      <td>22.705</td>\n",
              "      <td>0</td>\n",
              "      <td>0</td>\n",
              "      <td>1</td>\n",
              "      <td>21984.47061</td>\n",
              "    </tr>\n",
              "    <tr>\n",
              "      <th>4</th>\n",
              "      <td>32</td>\n",
              "      <td>1</td>\n",
              "      <td>28.880</td>\n",
              "      <td>0</td>\n",
              "      <td>0</td>\n",
              "      <td>1</td>\n",
              "      <td>3866.85520</td>\n",
              "    </tr>\n",
              "  </tbody>\n",
              "</table>\n",
              "</div>"
            ],
            "text/plain": [
              "   age  sex     bmi  children  smoker  region      charges\n",
              "0   19    0  27.900         0       1       3  16884.92400\n",
              "1   18    1  33.770         1       0       2   1725.55230\n",
              "2   28    1  33.000         3       0       2   4449.46200\n",
              "3   33    1  22.705         0       0       1  21984.47061\n",
              "4   32    1  28.880         0       0       1   3866.85520"
            ]
          },
          "metadata": {},
          "execution_count": 6
        }
      ]
    },
    {
      "cell_type": "code",
      "metadata": {
        "colab": {
          "base_uri": "https://localhost:8080/",
          "height": 341
        },
        "id": "LfvULfdOq_b8",
        "outputId": "8b71389a-374f-4419-96ab-bc17a418021d"
      },
      "source": [
        "#show the correlation\n",
        "plt.figure(figsize=(10,5))\n",
        "sns.heatmap(data.corr(), annot=True)"
      ],
      "execution_count": 7,
      "outputs": [
        {
          "output_type": "execute_result",
          "data": {
            "text/plain": [
              "<matplotlib.axes._subplots.AxesSubplot at 0x7fb0b27c5590>"
            ]
          },
          "metadata": {},
          "execution_count": 7
        },
        {
          "output_type": "display_data",
          "data": {
            "image/png": "[encoded data removed]",
            "text/plain": [
              "<Figure size 720x360 with 2 Axes>"
            ]
          },
          "metadata": {
            "needs_background": "light"
          }
        }
      ]
    },
    {
      "cell_type": "markdown",
      "metadata": {
        "id": "ybg9Fl-PrMVt"
      },
      "source": [
        "Then we can see that a smoker is very related to the charge of insurance"
      ]
    },
    {
      "cell_type": "markdown",
      "metadata": {
        "id": "GosQ0Jg_NZl2"
      },
      "source": [
        "## Modelling"
      ]
    },
    {
      "cell_type": "markdown",
      "metadata": {
        "id": "Qf4FAW6PNcIF"
      },
      "source": [
        "### Benchmark"
      ]
    },
    {
      "cell_type": "code",
      "metadata": {
        "id": "CZhq9_wmrI8q"
      },
      "source": [
        "def benchmark(model):\n",
        "\n",
        "  X = data.drop(columns='charges')\n",
        "  y = data['charges']\n",
        "\n",
        "  #splitting data into training and testing data\n",
        "  X_train, X_test, y_train, y_test = train_test_split(X, y, test_size=0.2, random_state=43)\n",
        "\n",
        "  #modelling\n",
        "  lr = model\n",
        "  lr.fit(X_train, y_train)\n",
        "\n",
        "  y_train_pred = lr.predict(X_train)\n",
        "  y_test_pred = lr.predict(X_test)\n",
        "\n",
        "  print(\"R2 training: {:.3f}\".format(r2_score(y_train, y_train_pred)))\n",
        "  print(\"R2 testing: {:.3f}\".format(r2_score(y_test, y_test_pred)))"
      ],
      "execution_count": 91,
      "outputs": []
    },
    {
      "cell_type": "code",
      "metadata": {
        "colab": {
          "base_uri": "https://localhost:8080/"
        },
        "id": "9CPIK3EvU6f5",
        "outputId": "d5ff8a5b-efc3-4eec-d524-61758bcefc4f"
      },
      "source": [
        "# Linear Regression\n",
        "benchmark(LinearRegression())"
      ],
      "execution_count": 92,
      "outputs": [
        {
          "output_type": "stream",
          "name": "stdout",
          "text": [
            "R2 training: 0.764\n",
            "R2 testing: 0.694\n"
          ]
        }
      ]
    },
    {
      "cell_type": "code",
      "metadata": {
        "colab": {
          "base_uri": "https://localhost:8080/"
        },
        "id": "n7FoqbomVDFl",
        "outputId": "de10e68b-5bf9-4ae4-996f-00ccf0b02d11"
      },
      "source": [
        "# Decision tree\n",
        "benchmark(DecisionTreeRegressor())"
      ],
      "execution_count": 93,
      "outputs": [
        {
          "output_type": "stream",
          "name": "stdout",
          "text": [
            "R2 training: 0.998\n",
            "R2 testing: 0.652\n"
          ]
        }
      ]
    },
    {
      "cell_type": "code",
      "metadata": {
        "colab": {
          "base_uri": "https://localhost:8080/"
        },
        "id": "zhr7U2MUVe1C",
        "outputId": "e60f638f-78a1-4eee-b9bc-d4b3469593e7"
      },
      "source": [
        "# Gradient Boosting\n",
        "benchmark(GradientBoostingRegressor())"
      ],
      "execution_count": 94,
      "outputs": [
        {
          "output_type": "stream",
          "name": "stdout",
          "text": [
            "R2 training: 0.920\n",
            "R2 testing: 0.781\n"
          ]
        }
      ]
    },
    {
      "cell_type": "markdown",
      "metadata": {
        "id": "P6YRD7uaR5JJ"
      },
      "source": [
        "### Model with Polynomial Degree"
      ]
    },
    {
      "cell_type": "code",
      "metadata": {
        "id": "Nxuwey-wOkZE"
      },
      "source": [
        "def model_poly(model):\n",
        "  for i in list(range(2,6)):\n",
        "    pol = PolynomialFeatures(degree=i)\n",
        "    x_pol = pol.fit_transform(X)\n",
        "\n",
        "    X_train, X_test, y_train, y_test = train_test_split(x_pol, y, test_size=0.3, random_state=43)\n",
        "\n",
        "    plr = model\n",
        "    plr.fit(X_train, y_train)\n",
        "\n",
        "    y_train_pred = plr.predict(X_train)\n",
        "    y_test_pred = plr.predict(X_test)\n",
        "\n",
        "    print(\"Degree\",i)\n",
        "    print(\"R2 training: {:.3f}\".format(r2_score(y_train, y_train_pred)))\n",
        "    print(\"R2 testing: {:.3f}\".format(r2_score(y_test, y_test_pred)))\n",
        "    print()"
      ],
      "execution_count": 83,
      "outputs": []
    },
    {
      "cell_type": "code",
      "metadata": {
        "colab": {
          "base_uri": "https://localhost:8080/"
        },
        "id": "Om8RCe87VRON",
        "outputId": "97041a5b-e584-4298-e6c7-f4f49c277107"
      },
      "source": [
        "# Linear Regression\n",
        "model_poly(LinearRegression())"
      ],
      "execution_count": 84,
      "outputs": [
        {
          "output_type": "stream",
          "name": "stdout",
          "text": [
            "Degree 2\n",
            "R2 training: 0.856\n",
            "R2 testing: 0.820\n",
            "\n",
            "Degree 3\n",
            "R2 training: 0.866\n",
            "R2 testing: 0.818\n",
            "\n",
            "Degree 4\n",
            "R2 training: 0.879\n",
            "R2 testing: 0.797\n",
            "\n",
            "Degree 5\n",
            "R2 training: 0.903\n",
            "R2 testing: 0.530\n",
            "\n"
          ]
        }
      ]
    },
    {
      "cell_type": "code",
      "metadata": {
        "colab": {
          "base_uri": "https://localhost:8080/"
        },
        "id": "yQPEf3Y9VTmj",
        "outputId": "ee6abf0b-ba0f-437a-9edb-4a4ec3eae046"
      },
      "source": [
        "# Decision Tree\n",
        "model_poly(DecisionTreeRegressor())"
      ],
      "execution_count": 85,
      "outputs": [
        {
          "output_type": "stream",
          "name": "stdout",
          "text": [
            "Degree 2\n",
            "R2 training: 0.999\n",
            "R2 testing: 0.711\n",
            "\n",
            "Degree 3\n",
            "R2 training: 0.999\n",
            "R2 testing: 0.759\n",
            "\n",
            "Degree 4\n",
            "R2 training: 0.999\n",
            "R2 testing: 0.760\n",
            "\n",
            "Degree 5\n",
            "R2 training: 0.999\n",
            "R2 testing: 0.769\n",
            "\n"
          ]
        }
      ]
    },
    {
      "cell_type": "code",
      "metadata": {
        "colab": {
          "base_uri": "https://localhost:8080/"
        },
        "id": "saMMhR6YVWfh",
        "outputId": "959a245b-912b-4316-d040-b2c3f72046ae"
      },
      "source": [
        "# Gradient Boosting\n",
        "model_poly(GradientBoostingRegressor())"
      ],
      "execution_count": 86,
      "outputs": [
        {
          "output_type": "stream",
          "name": "stdout",
          "text": [
            "Degree 2\n",
            "R2 training: 0.932\n",
            "R2 testing: 0.841\n",
            "\n",
            "Degree 3\n",
            "R2 training: 0.938\n",
            "R2 testing: 0.844\n",
            "\n",
            "Degree 4\n",
            "R2 training: 0.946\n",
            "R2 testing: 0.843\n",
            "\n",
            "Degree 5\n",
            "R2 training: 0.946\n",
            "R2 testing: 0.841\n",
            "\n"
          ]
        }
      ]
    }
  ]
}