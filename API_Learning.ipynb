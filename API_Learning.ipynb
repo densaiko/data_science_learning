{
  "nbformat": 4,
  "nbformat_minor": 0,
  "metadata": {
    "colab": {
      "name": "Exercise API",
      "provenance": [],
      "collapsed_sections": [
        "yFaIRG9wheT9",
        "b78eEzDThwPi",
        "IYIrooN4kgPD",
        "WpWATz7klpj1",
        "Q9CymqcLagyI",
        "hELPd83-3LGu"
      ]
    },
    "kernelspec": {
      "name": "python3",
      "display_name": "Python 3"
    },
    "language_info": {
      "name": "python"
    }
  },
  "cells": [
    {
      "cell_type": "markdown",
      "metadata": {
        "id": "MLgvE5cMZ-Rk"
      },
      "source": [
        "# API Exercise by Ari Sulistiyo Prabowo\n",
        "This notebook is used to guide everyone who wants to understand about API and get the data from it.\n",
        "\n",
        "1. **Spotify API**\n",
        "\n",
        "2. **Twitter API**\n",
        "\n",
        "____"
      ]
    },
    {
      "cell_type": "markdown",
      "metadata": {
        "id": "yFaIRG9wheT9"
      },
      "source": [
        "## Prerequisite\n",
        "- List\n",
        "- Tupple\n",
        "- Dictionary"
      ]
    },
    {
      "cell_type": "markdown",
      "metadata": {
        "id": "b78eEzDThwPi"
      },
      "source": [
        "### List"
      ]
    },
    {
      "cell_type": "code",
      "metadata": {
        "colab": {
          "base_uri": "https://localhost:8080/",
          "height": 165
        },
        "id": "XX2XB5dmhuSE",
        "outputId": "29e795f4-6f1c-4620-aa49-f78e5504e03d"
      },
      "source": [
        "example_list = ['Mawar','Jagung','Pizza Hut'] #list\n",
        "display(example_list[0])\n",
        "display(type(example_list[2]))\n",
        "print()\n",
        "display(example_list[0:2])\n",
        "display(type(example_list[0:2]))\n",
        "print()\n",
        "for i in example_list:\n",
        "  print(i)"
      ],
      "execution_count": null,
      "outputs": [
        {
          "output_type": "display_data",
          "data": {
            "application/vnd.google.colaboratory.intrinsic+json": {
              "type": "string"
            },
            "text/plain": [
              "'Mawar'"
            ]
          },
          "metadata": {
            "tags": []
          }
        },
        {
          "output_type": "display_data",
          "data": {
            "text/plain": [
              "str"
            ]
          },
          "metadata": {
            "tags": []
          }
        },
        {
          "output_type": "stream",
          "text": [
            "\n"
          ],
          "name": "stdout"
        },
        {
          "output_type": "display_data",
          "data": {
            "text/plain": [
              "['Mawar', 'Jagung']"
            ]
          },
          "metadata": {
            "tags": []
          }
        },
        {
          "output_type": "display_data",
          "data": {
            "text/plain": [
              "list"
            ]
          },
          "metadata": {
            "tags": []
          }
        },
        {
          "output_type": "stream",
          "text": [
            "\n",
            "Mawar\n",
            "Jagung\n",
            "Pizza Hut\n"
          ],
          "name": "stdout"
        }
      ]
    },
    {
      "cell_type": "markdown",
      "metadata": {
        "id": "IYIrooN4kgPD"
      },
      "source": [
        "### Tupple"
      ]
    },
    {
      "cell_type": "code",
      "metadata": {
        "colab": {
          "base_uri": "https://localhost:8080/",
          "height": 165
        },
        "id": "QmJu1jFMkemt",
        "outputId": "356a41e6-e6c0-4bc9-f00c-bd9c708c4484"
      },
      "source": [
        "example_tupple = ('Mawar','Jagung','Pizza Hut') #tupple\n",
        "display(example_tupple[0])\n",
        "display(type(example_tupple[2]))\n",
        "print()\n",
        "display(example_tupple[0:2])\n",
        "display(type(example_tupple[0:2]))\n",
        "print()\n",
        "for i in example_tupple:\n",
        "  print(i)"
      ],
      "execution_count": null,
      "outputs": [
        {
          "output_type": "display_data",
          "data": {
            "application/vnd.google.colaboratory.intrinsic+json": {
              "type": "string"
            },
            "text/plain": [
              "'Mawar'"
            ]
          },
          "metadata": {
            "tags": []
          }
        },
        {
          "output_type": "display_data",
          "data": {
            "text/plain": [
              "str"
            ]
          },
          "metadata": {
            "tags": []
          }
        },
        {
          "output_type": "stream",
          "text": [
            "\n"
          ],
          "name": "stdout"
        },
        {
          "output_type": "display_data",
          "data": {
            "text/plain": [
              "('Mawar', 'Jagung')"
            ]
          },
          "metadata": {
            "tags": []
          }
        },
        {
          "output_type": "display_data",
          "data": {
            "text/plain": [
              "tuple"
            ]
          },
          "metadata": {
            "tags": []
          }
        },
        {
          "output_type": "stream",
          "text": [
            "\n",
            "Mawar\n",
            "Jagung\n",
            "Pizza Hut\n"
          ],
          "name": "stdout"
        }
      ]
    },
    {
      "cell_type": "markdown",
      "metadata": {
        "id": "WpWATz7klpj1"
      },
      "source": [
        "### Dictionary"
      ]
    },
    {
      "cell_type": "code",
      "metadata": {
        "colab": {
          "base_uri": "https://localhost:8080/",
          "height": 116
        },
        "id": "tybwu6kwlo20",
        "outputId": "ccd83437-b315-4129-d89f-7007a04479b8"
      },
      "source": [
        "example_dictionary = {\n",
        "    \"Name\":\"Abdul Ihsan\",\n",
        "    \"Job\":\"Data Scientist\",\n",
        "    \"Company\":\"Google\"\n",
        "}\n",
        "\n",
        "display(example_dictionary)\n",
        "display(example_dictionary['Name'])\n",
        "print()\n",
        "for x, y in enumerate(example_dictionary):\n",
        "  print(x,y) #show the key\n",
        "  # print(x,example_dictionary[y]) #show the value"
      ],
      "execution_count": null,
      "outputs": [
        {
          "output_type": "display_data",
          "data": {
            "text/plain": [
              "{'Company': 'Google', 'Job': 'Data Scientist', 'Name': 'Abdul Ihsan'}"
            ]
          },
          "metadata": {
            "tags": []
          }
        },
        {
          "output_type": "display_data",
          "data": {
            "application/vnd.google.colaboratory.intrinsic+json": {
              "type": "string"
            },
            "text/plain": [
              "'Abdul Ihsan'"
            ]
          },
          "metadata": {
            "tags": []
          }
        },
        {
          "output_type": "stream",
          "text": [
            "\n",
            "0 Name\n",
            "1 Job\n",
            "2 Company\n"
          ],
          "name": "stdout"
        }
      ]
    },
    {
      "cell_type": "code",
      "metadata": {
        "colab": {
          "base_uri": "https://localhost:8080/",
          "height": 166
        },
        "id": "cix1h_l9m61j",
        "outputId": "b660c5ec-5a7f-4fd6-d8fc-fcc619e37f0a"
      },
      "source": [
        "# list in dictionary\n",
        "adv_dictionary = {\n",
        "    \"Name\":\"Abdul Ihsan\",\n",
        "    \"Job\":\"Data Scientist\",\n",
        "    \"Company\":\"Google\",\n",
        "    \"Day-to-day\":[{'Morning':'Meeting',\n",
        "                   'Afternoon':'Presentation',\n",
        "                   'Evening':'Coding'},\n",
        "                  {'Weekend':'Bobo Cantik'}],\n",
        "    \"Remuneration\":{\"BPJS\":{\"BPJS-Kesehatan\":\"007\",\n",
        "                            \"BPJS-Ketenagakerjaan\":\"008\"}}\n",
        "}\n",
        "display(adv_dictionary['Name'])\n",
        "display(adv_dictionary['Day-to-day'])\n",
        "print()\n",
        "display(adv_dictionary['Day-to-day'][0])\n",
        "print()\n",
        "display(adv_dictionary['Day-to-day'][1])\n",
        "print()\n",
        "display(adv_dictionary['Day-to-day'][0]['Evening'])"
      ],
      "execution_count": null,
      "outputs": [
        {
          "output_type": "display_data",
          "data": {
            "application/vnd.google.colaboratory.intrinsic+json": {
              "type": "string"
            },
            "text/plain": [
              "'Abdul Ihsan'"
            ]
          },
          "metadata": {
            "tags": []
          }
        },
        {
          "output_type": "display_data",
          "data": {
            "text/plain": [
              "[{'Afternoon': 'Presentation', 'Evening': 'Coding', 'Morning': 'Meeting'},\n",
              " {'Weekend': 'Bobo Cantik'}]"
            ]
          },
          "metadata": {
            "tags": []
          }
        },
        {
          "output_type": "stream",
          "text": [
            "\n"
          ],
          "name": "stdout"
        },
        {
          "output_type": "display_data",
          "data": {
            "text/plain": [
              "{'Afternoon': 'Presentation', 'Evening': 'Coding', 'Morning': 'Meeting'}"
            ]
          },
          "metadata": {
            "tags": []
          }
        },
        {
          "output_type": "stream",
          "text": [
            "\n"
          ],
          "name": "stdout"
        },
        {
          "output_type": "display_data",
          "data": {
            "text/plain": [
              "{'Weekend': 'Bobo Cantik'}"
            ]
          },
          "metadata": {
            "tags": []
          }
        },
        {
          "output_type": "stream",
          "text": [
            "\n"
          ],
          "name": "stdout"
        },
        {
          "output_type": "display_data",
          "data": {
            "application/vnd.google.colaboratory.intrinsic+json": {
              "type": "string"
            },
            "text/plain": [
              "'Coding'"
            ]
          },
          "metadata": {
            "tags": []
          }
        }
      ]
    },
    {
      "cell_type": "markdown",
      "metadata": {
        "id": "Q9CymqcLagyI"
      },
      "source": [
        "## Spotify API\n",
        "Register yourself in Spotify Developer --> https://developer.spotify.com/dashboard/login"
      ]
    },
    {
      "cell_type": "code",
      "metadata": {
        "colab": {
          "base_uri": "https://localhost:8080/"
        },
        "id": "CBIAhVnSadhZ",
        "outputId": "848d2307-1e03-4454-edc3-bac29704adf9"
      },
      "source": [
        "# # install spotipy library\n",
        "!pip install spotipy"
      ],
      "execution_count": null,
      "outputs": [
        {
          "output_type": "stream",
          "text": [
            "Collecting spotipy\n",
            "  Downloading https://files.pythonhosted.org/packages/02/9b/25b96cd2f1e2174ac787099b386e2afd427bf78dfb11e1c5857affc3409d/spotipy-2.18.0-py3-none-any.whl\n",
            "Collecting urllib3>=1.26.0\n",
            "\u001b[?25l  Downloading https://files.pythonhosted.org/packages/5f/64/43575537846896abac0b15c3e5ac678d787a4021e906703f1766bfb8ea11/urllib3-1.26.6-py2.py3-none-any.whl (138kB)\n",
            "\u001b[K     |████████████████████████████████| 143kB 4.5MB/s \n",
            "\u001b[?25hCollecting requests>=2.25.0\n",
            "\u001b[?25l  Downloading https://files.pythonhosted.org/packages/92/96/144f70b972a9c0eabbd4391ef93ccd49d0f2747f4f6a2a2738e99e5adc65/requests-2.26.0-py2.py3-none-any.whl (62kB)\n",
            "\u001b[K     |████████████████████████████████| 71kB 5.0MB/s \n",
            "\u001b[?25hRequirement already satisfied: six>=1.15.0 in /usr/local/lib/python3.7/dist-packages (from spotipy) (1.15.0)\n",
            "Requirement already satisfied: certifi>=2017.4.17 in /usr/local/lib/python3.7/dist-packages (from requests>=2.25.0->spotipy) (2021.5.30)\n",
            "Requirement already satisfied: charset-normalizer~=2.0.0; python_version >= \"3\" in /usr/local/lib/python3.7/dist-packages (from requests>=2.25.0->spotipy) (2.0.1)\n",
            "Requirement already satisfied: idna<4,>=2.5; python_version >= \"3\" in /usr/local/lib/python3.7/dist-packages (from requests>=2.25.0->spotipy) (2.10)\n",
            "\u001b[31mERROR: google-colab 1.0.0 has requirement requests~=2.23.0, but you'll have requests 2.26.0 which is incompatible.\u001b[0m\n",
            "\u001b[31mERROR: datascience 0.10.6 has requirement folium==0.2.1, but you'll have folium 0.8.3 which is incompatible.\u001b[0m\n",
            "Installing collected packages: urllib3, requests, spotipy\n",
            "  Found existing installation: urllib3 1.24.3\n",
            "    Uninstalling urllib3-1.24.3:\n",
            "      Successfully uninstalled urllib3-1.24.3\n",
            "  Found existing installation: requests 2.23.0\n",
            "    Uninstalling requests-2.23.0:\n",
            "      Successfully uninstalled requests-2.23.0\n",
            "Successfully installed requests-2.26.0 spotipy-2.18.0 urllib3-1.26.6\n"
          ],
          "name": "stdout"
        }
      ]
    },
    {
      "cell_type": "code",
      "metadata": {
        "id": "twmNPDO3arlm"
      },
      "source": [
        "# Import and set up spotipy\n",
        "import spotipy\n",
        "from spotipy.oauth2 import SpotifyClientCredentials\n",
        "\n",
        "cli_id = \"012a56913a994aa2b1040d063841dcec\"\n",
        "sec_id = \"3c758d6b1ba847718f92d3be3a5b960a\"\n",
        "\n",
        "client_credentials_manager = SpotifyClientCredentials(client_id = cli_id, \n",
        "                                                      client_secret = sec_id)\n",
        "sp = spotipy.Spotify(client_credentials_manager = client_credentials_manager)\n"
      ],
      "execution_count": null,
      "outputs": []
    },
    {
      "cell_type": "code",
      "metadata": {
        "id": "aIonD_rPbY04"
      },
      "source": [
        "# Retrieve data from Spotify API\n",
        "artist_name = []\n",
        "track_name = []\n",
        "popularity = []\n",
        "track_id = []\n",
        "\n",
        "for i in range(0, 1000, 50):\n",
        "  track_results = sp.search(q='year:2019', type='track', limit=50, offset=i)\n",
        "  for i, t in enumerate(track_results['tracks']['items']):\n",
        "    artist_name.append(t['artists'][0]['name'])\n",
        "    track_name.append(t['name'])\n",
        "    popularity.append(t['popularity'])\n",
        "    track_id.append(t['id'])"
      ],
      "execution_count": null,
      "outputs": []
    },
    {
      "cell_type": "code",
      "metadata": {
        "colab": {
          "base_uri": "https://localhost:8080/",
          "height": 376
        },
        "id": "4N_1JYQ0cIbo",
        "outputId": "8cbe6cec-16b7-4449-f7ad-257522a7151d"
      },
      "source": [
        "# load the data into dataframe\n",
        "import pandas as pd\n",
        "spotify_df = pd.DataFrame({'Artist Name':artist_name,'Track Name':track_name,\n",
        "                           'Popularity':popularity,'Track ID':track_id})\n",
        "\n",
        "print('Number of Row: {} and number of columns: {}'.format(spotify_df.shape[0],\n",
        "                                                         spotify_df.shape[1]))\n",
        "spotify_df.head(10)"
      ],
      "execution_count": null,
      "outputs": [
        {
          "output_type": "stream",
          "text": [
            "Number of Row: 1000 and number of columns: 4\n"
          ],
          "name": "stdout"
        },
        {
          "output_type": "execute_result",
          "data": {
            "text/html": [
              "<div>\n",
              "<style scoped>\n",
              "    .dataframe tbody tr th:only-of-type {\n",
              "        vertical-align: middle;\n",
              "    }\n",
              "\n",
              "    .dataframe tbody tr th {\n",
              "        vertical-align: top;\n",
              "    }\n",
              "\n",
              "    .dataframe thead th {\n",
              "        text-align: right;\n",
              "    }\n",
              "</style>\n",
              "<table border=\"1\" class=\"dataframe\">\n",
              "  <thead>\n",
              "    <tr style=\"text-align: right;\">\n",
              "      <th></th>\n",
              "      <th>Artist Name</th>\n",
              "      <th>Track Name</th>\n",
              "      <th>Popularity</th>\n",
              "      <th>Track ID</th>\n",
              "    </tr>\n",
              "  </thead>\n",
              "  <tbody>\n",
              "    <tr>\n",
              "      <th>0</th>\n",
              "      <td>Doja Cat</td>\n",
              "      <td>Streets</td>\n",
              "      <td>87</td>\n",
              "      <td>60ynsPSSKe6O3sfwRnIBRf</td>\n",
              "    </tr>\n",
              "    <tr>\n",
              "      <th>1</th>\n",
              "      <td>Schoolgirl Byebye</td>\n",
              "      <td>Year,2015</td>\n",
              "      <td>24</td>\n",
              "      <td>0UsmyJDsst2xhX1ZiFF3JW</td>\n",
              "    </tr>\n",
              "    <tr>\n",
              "      <th>2</th>\n",
              "      <td>Post Malone</td>\n",
              "      <td>Circles</td>\n",
              "      <td>87</td>\n",
              "      <td>21jGcNKet2qwijlDFuPiPb</td>\n",
              "    </tr>\n",
              "    <tr>\n",
              "      <th>3</th>\n",
              "      <td>Hazy Year</td>\n",
              "      <td>Melted</td>\n",
              "      <td>45</td>\n",
              "      <td>6NoCnaM3N02Pngli1xf0WL</td>\n",
              "    </tr>\n",
              "    <tr>\n",
              "      <th>4</th>\n",
              "      <td>Harry Styles</td>\n",
              "      <td>Watermelon Sugar</td>\n",
              "      <td>90</td>\n",
              "      <td>6UelLqGlWMcVH1E5c4H7lY</td>\n",
              "    </tr>\n",
              "    <tr>\n",
              "      <th>5</th>\n",
              "      <td>Busted</td>\n",
              "      <td>Year 3000</td>\n",
              "      <td>43</td>\n",
              "      <td>0ahXguyuTwD1gqpWKYqWYO</td>\n",
              "    </tr>\n",
              "    <tr>\n",
              "      <th>6</th>\n",
              "      <td>Roddy Ricch</td>\n",
              "      <td>The Box</td>\n",
              "      <td>85</td>\n",
              "      <td>0nbXyq5TXYPCO7pr3N8S4I</td>\n",
              "    </tr>\n",
              "    <tr>\n",
              "      <th>7</th>\n",
              "      <td>Anthem Lights</td>\n",
              "      <td>K-LOVE Fan Awards: Songs of the Year (2015 Mas...</td>\n",
              "      <td>32</td>\n",
              "      <td>5rJw9VsPNdfnV9Ar97xZG2</td>\n",
              "    </tr>\n",
              "    <tr>\n",
              "      <th>8</th>\n",
              "      <td>Juice WRLD</td>\n",
              "      <td>Robbery</td>\n",
              "      <td>83</td>\n",
              "      <td>6Hj9jySrnFppAI0sEMCZpJ</td>\n",
              "    </tr>\n",
              "    <tr>\n",
              "      <th>9</th>\n",
              "      <td>Foster The People</td>\n",
              "      <td>Pumped Up Kicks</td>\n",
              "      <td>45</td>\n",
              "      <td>2ED8sc40RVFvgqao2r3Qqn</td>\n",
              "    </tr>\n",
              "  </tbody>\n",
              "</table>\n",
              "</div>"
            ],
            "text/plain": [
              "         Artist Name  ...                Track ID\n",
              "0           Doja Cat  ...  60ynsPSSKe6O3sfwRnIBRf\n",
              "1  Schoolgirl Byebye  ...  0UsmyJDsst2xhX1ZiFF3JW\n",
              "2        Post Malone  ...  21jGcNKet2qwijlDFuPiPb\n",
              "3          Hazy Year  ...  6NoCnaM3N02Pngli1xf0WL\n",
              "4       Harry Styles  ...  6UelLqGlWMcVH1E5c4H7lY\n",
              "5             Busted  ...  0ahXguyuTwD1gqpWKYqWYO\n",
              "6        Roddy Ricch  ...  0nbXyq5TXYPCO7pr3N8S4I\n",
              "7      Anthem Lights  ...  5rJw9VsPNdfnV9Ar97xZG2\n",
              "8         Juice WRLD  ...  6Hj9jySrnFppAI0sEMCZpJ\n",
              "9  Foster The People  ...  2ED8sc40RVFvgqao2r3Qqn\n",
              "\n",
              "[10 rows x 4 columns]"
            ]
          },
          "metadata": {
            "tags": []
          },
          "execution_count": 4
        }
      ]
    },
    {
      "cell_type": "markdown",
      "metadata": {
        "id": "hELPd83-3LGu"
      },
      "source": [
        "## Twitter API"
      ]
    },
    {
      "cell_type": "markdown",
      "metadata": {
        "id": "h7WlzJDC3zSt"
      },
      "source": [
        "Register yourself in the Twitter Developer --> https://developer.twitter.com/en/apply-for-access"
      ]
    },
    {
      "cell_type": "code",
      "metadata": {
        "id": "o9k9MXKa16Z9"
      },
      "source": [
        "import tweepy as tw\n",
        "\n",
        "API_KEY = \"T280pFnl0esTCTyfoGFt98nop\"\n",
        "SECRET_KEY = \"mCM3sMf0ZwtM667fc6j6Rh6BTAs4KVpDjtWebxAZ4DS0jAmV1K\"\n",
        "BEARER_KEY = \"AAAAAAAAAAAAAAAAAAAAANkPRgEAAAAAvbI6AauwzAHRrbAX3Qw4us5L9aU%3Dp5FMIZXLOaFvlePZTKnJzuLbwMttldBRlCBieV2tXODpp3NVso\"\n",
        "ACCESS_TOKEN = \"1413641596340379649-MvWmdaLaZzsq9FB2myk8D8rjryWqpW\"\n",
        "SECRET_TOKEN = \"bg2QW0aStAUggMxq9sJrN8K0nCNfzhVoEVzrMJiMVjbOR\"\n",
        "\n",
        "auth = tw.OAuthHandler(API_KEY, SECRET_KEY)\n",
        "auth.set_access_token(ACCESS_TOKEN, SECRET_TOKEN)\n",
        "api = tw.API(auth, wait_on_rate_limit=True, wait_on_rate_limit_notify=True)\n",
        "\n",
        "search_words = \"#covid-19\"\n",
        "\n",
        "\n",
        "import pandas as pd\n",
        "counter = 1\n",
        "\n",
        "tweet_dataset = pd.DataFrame(columns=['Tweet Id', 'Tweet Date', 'Follower Count', 'Account Verified', 'Favorite Count', 'Retweets', 'Tweet Text'])\n",
        "\n",
        "for tweet in tw.Cursor(api.search, tweet_mode='extended', q=search_words, lang=\"en\").items():\n",
        "        appending_dataframe = pd.DataFrame([[tweet.id, tweet.created_at, tweet.user.followers_count, tweet.user.verified, tweet.favorite_count, tweet.retweet_count, tweet.full_text.encode('utf-8')]], columns=['Tweet Id', 'Tweet Date', 'Follower Count', 'Account Verified', 'Favorite Count', 'Retweets', 'Tweet Text'])\n",
        "        tweet_dataset = tweet_dataset.append(appending_dataframe)\n",
        "        counter+=1\n",
        "        if counter >= 1000:\n",
        "            break"
      ],
      "execution_count": 3,
      "outputs": []
    },
    {
      "cell_type": "code",
      "metadata": {
        "colab": {
          "base_uri": "https://localhost:8080/",
          "height": 323
        },
        "id": "KXjZnrhN2s4R",
        "outputId": "df1e970c-9f05-4188-9319-9695b53daed5"
      },
      "source": [
        "display(tweet_dataset.shape)\n",
        "tweet_dataset.head()"
      ],
      "execution_count": 4,
      "outputs": [
        {
          "output_type": "display_data",
          "data": {
            "text/plain": [
              "(999, 7)"
            ]
          },
          "metadata": {
            "tags": []
          }
        },
        {
          "output_type": "execute_result",
          "data": {
            "text/html": [
              "<div>\n",
              "<style scoped>\n",
              "    .dataframe tbody tr th:only-of-type {\n",
              "        vertical-align: middle;\n",
              "    }\n",
              "\n",
              "    .dataframe tbody tr th {\n",
              "        vertical-align: top;\n",
              "    }\n",
              "\n",
              "    .dataframe thead th {\n",
              "        text-align: right;\n",
              "    }\n",
              "</style>\n",
              "<table border=\"1\" class=\"dataframe\">\n",
              "  <thead>\n",
              "    <tr style=\"text-align: right;\">\n",
              "      <th></th>\n",
              "      <th>Tweet Id</th>\n",
              "      <th>Tweet Date</th>\n",
              "      <th>Follower Count</th>\n",
              "      <th>Account Verified</th>\n",
              "      <th>Favorite Count</th>\n",
              "      <th>Retweets</th>\n",
              "      <th>Tweet Text</th>\n",
              "    </tr>\n",
              "  </thead>\n",
              "  <tbody>\n",
              "    <tr>\n",
              "      <th>0</th>\n",
              "      <td>1416214747293360134</td>\n",
              "      <td>2021-07-17 01:54:42</td>\n",
              "      <td>766</td>\n",
              "      <td>False</td>\n",
              "      <td>0</td>\n",
              "      <td>1533</td>\n",
              "      <td>b'RT @FirstGentleman: Nobody:\\n\\nCovid-19:'</td>\n",
              "    </tr>\n",
              "    <tr>\n",
              "      <th>0</th>\n",
              "      <td>1416214744432726016</td>\n",
              "      <td>2021-07-17 01:54:41</td>\n",
              "      <td>2445</td>\n",
              "      <td>False</td>\n",
              "      <td>0</td>\n",
              "      <td>1468</td>\n",
              "      <td>b\"RT @RawStory: Texas man who called vaccines ...</td>\n",
              "    </tr>\n",
              "    <tr>\n",
              "      <th>0</th>\n",
              "      <td>1416214744390844418</td>\n",
              "      <td>2021-07-17 01:54:41</td>\n",
              "      <td>250</td>\n",
              "      <td>False</td>\n",
              "      <td>0</td>\n",
              "      <td>1533</td>\n",
              "      <td>b'RT @FirstGentleman: Nobody:\\n\\nCovid-19:'</td>\n",
              "    </tr>\n",
              "    <tr>\n",
              "      <th>0</th>\n",
              "      <td>1416214743816314881</td>\n",
              "      <td>2021-07-17 01:54:41</td>\n",
              "      <td>237</td>\n",
              "      <td>False</td>\n",
              "      <td>0</td>\n",
              "      <td>0</td>\n",
              "      <td>b'JUNTA USES COVID AS WEAPONS\\n\\n#MyanmarNeeds...</td>\n",
              "    </tr>\n",
              "    <tr>\n",
              "      <th>0</th>\n",
              "      <td>1416214743661035520</td>\n",
              "      <td>2021-07-17 01:54:41</td>\n",
              "      <td>136</td>\n",
              "      <td>False</td>\n",
              "      <td>0</td>\n",
              "      <td>4723</td>\n",
              "      <td>b'RT @ZNeveri: Young doctor explains why he\\xe...</td>\n",
              "    </tr>\n",
              "  </tbody>\n",
              "</table>\n",
              "</div>"
            ],
            "text/plain": [
              "              Tweet Id  ...                                         Tweet Text\n",
              "0  1416214747293360134  ...        b'RT @FirstGentleman: Nobody:\\n\\nCovid-19:'\n",
              "0  1416214744432726016  ...  b\"RT @RawStory: Texas man who called vaccines ...\n",
              "0  1416214744390844418  ...        b'RT @FirstGentleman: Nobody:\\n\\nCovid-19:'\n",
              "0  1416214743816314881  ...  b'JUNTA USES COVID AS WEAPONS\\n\\n#MyanmarNeeds...\n",
              "0  1416214743661035520  ...  b'RT @ZNeveri: Young doctor explains why he\\xe...\n",
              "\n",
              "[5 rows x 7 columns]"
            ]
          },
          "metadata": {
            "tags": []
          },
          "execution_count": 4
        }
      ]
    },
    {
      "cell_type": "code",
      "metadata": {
        "id": "KhK2QU7OLKVh"
      },
      "source": [
        ""
      ],
      "execution_count": null,
      "outputs": []
    }
  ]
}