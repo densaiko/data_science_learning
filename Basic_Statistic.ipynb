{
  "nbformat": 4,
  "nbformat_minor": 0,
  "metadata": {
    "colab": {
      "name": "Statistic in Data Science",
      "provenance": [],
      "collapsed_sections": [],
      "authorship_tag": "ABX9TyOk2J2UVFsqIOXNYmdFLQg+"
    },
    "kernelspec": {
      "name": "python3",
      "display_name": "Python 3"
    },
    "language_info": {
      "name": "python"
    }
  },
  "cells": [
    {
      "cell_type": "markdown",
      "metadata": {
        "id": "QOfNPFRZe0Wv"
      },
      "source": [
        "# Statistics in Data Science\n",
        "Created by: Ari Sulistiyo Prabowo\n",
        "\n",
        "## Basic Statistic\n",
        "  - Measures of Central Tendency\n",
        "  - Measures of Dispersion\n",
        "  - Proportion\n",
        "\n",
        "\n",
        "_____"
      ]
    },
    {
      "cell_type": "code",
      "metadata": {
        "id": "XLmKyKt1f8SW"
      },
      "source": [
        "# import library\n",
        "import pandas as pd\n",
        "import matplotlib.pyplot as plt\n",
        "import seaborn as sns"
      ],
      "execution_count": 1,
      "outputs": []
    },
    {
      "cell_type": "code",
      "metadata": {
        "colab": {
          "base_uri": "https://localhost:8080/",
          "height": 202
        },
        "id": "hELQO1nWf3Cv",
        "outputId": "7d9cbb6b-93c3-4f59-d19b-ef2f035813a7"
      },
      "source": [
        "data = pd.read_csv(\"https://raw.githubusercontent.com/densaiko/data_science_learning/main/dataset/USA_cars_datasets%20.csv\")\n",
        "data.head()"
      ],
      "execution_count": 2,
      "outputs": [
        {
          "output_type": "execute_result",
          "data": {
            "text/html": [
              "<div>\n",
              "<style scoped>\n",
              "    .dataframe tbody tr th:only-of-type {\n",
              "        vertical-align: middle;\n",
              "    }\n",
              "\n",
              "    .dataframe tbody tr th {\n",
              "        vertical-align: top;\n",
              "    }\n",
              "\n",
              "    .dataframe thead th {\n",
              "        text-align: right;\n",
              "    }\n",
              "</style>\n",
              "<table border=\"1\" class=\"dataframe\">\n",
              "  <thead>\n",
              "    <tr style=\"text-align: right;\">\n",
              "      <th></th>\n",
              "      <th>index</th>\n",
              "      <th>price</th>\n",
              "      <th>brand</th>\n",
              "      <th>model</th>\n",
              "      <th>year</th>\n",
              "      <th>title_status</th>\n",
              "      <th>mileage</th>\n",
              "      <th>color</th>\n",
              "      <th>vin</th>\n",
              "      <th>lot</th>\n",
              "      <th>state</th>\n",
              "      <th>country</th>\n",
              "      <th>condition</th>\n",
              "    </tr>\n",
              "  </thead>\n",
              "  <tbody>\n",
              "    <tr>\n",
              "      <th>0</th>\n",
              "      <td>0</td>\n",
              "      <td>6300</td>\n",
              "      <td>toyota</td>\n",
              "      <td>cruiser</td>\n",
              "      <td>2008</td>\n",
              "      <td>clean vehicle</td>\n",
              "      <td>274117</td>\n",
              "      <td>black</td>\n",
              "      <td>jtezu11f88k007763</td>\n",
              "      <td>159348797</td>\n",
              "      <td>new jersey</td>\n",
              "      <td>usa</td>\n",
              "      <td>10 days left</td>\n",
              "    </tr>\n",
              "    <tr>\n",
              "      <th>1</th>\n",
              "      <td>1</td>\n",
              "      <td>2899</td>\n",
              "      <td>ford</td>\n",
              "      <td>se</td>\n",
              "      <td>2011</td>\n",
              "      <td>clean vehicle</td>\n",
              "      <td>190552</td>\n",
              "      <td>silver</td>\n",
              "      <td>2fmdk3gc4bbb02217</td>\n",
              "      <td>166951262</td>\n",
              "      <td>tennessee</td>\n",
              "      <td>usa</td>\n",
              "      <td>6 days left</td>\n",
              "    </tr>\n",
              "    <tr>\n",
              "      <th>2</th>\n",
              "      <td>2</td>\n",
              "      <td>5350</td>\n",
              "      <td>dodge</td>\n",
              "      <td>mpv</td>\n",
              "      <td>2018</td>\n",
              "      <td>clean vehicle</td>\n",
              "      <td>39590</td>\n",
              "      <td>silver</td>\n",
              "      <td>3c4pdcgg5jt346413</td>\n",
              "      <td>167655728</td>\n",
              "      <td>georgia</td>\n",
              "      <td>usa</td>\n",
              "      <td>2 days left</td>\n",
              "    </tr>\n",
              "    <tr>\n",
              "      <th>3</th>\n",
              "      <td>3</td>\n",
              "      <td>25000</td>\n",
              "      <td>ford</td>\n",
              "      <td>door</td>\n",
              "      <td>2014</td>\n",
              "      <td>clean vehicle</td>\n",
              "      <td>64146</td>\n",
              "      <td>blue</td>\n",
              "      <td>1ftfw1et4efc23745</td>\n",
              "      <td>167753855</td>\n",
              "      <td>virginia</td>\n",
              "      <td>usa</td>\n",
              "      <td>22 hours left</td>\n",
              "    </tr>\n",
              "    <tr>\n",
              "      <th>4</th>\n",
              "      <td>4</td>\n",
              "      <td>27700</td>\n",
              "      <td>chevrolet</td>\n",
              "      <td>1500</td>\n",
              "      <td>2018</td>\n",
              "      <td>clean vehicle</td>\n",
              "      <td>6654</td>\n",
              "      <td>red</td>\n",
              "      <td>3gcpcrec2jg473991</td>\n",
              "      <td>167763266</td>\n",
              "      <td>florida</td>\n",
              "      <td>usa</td>\n",
              "      <td>22 hours left</td>\n",
              "    </tr>\n",
              "  </tbody>\n",
              "</table>\n",
              "</div>"
            ],
            "text/plain": [
              "   index  price      brand  ...       state  country      condition\n",
              "0      0   6300     toyota  ...  new jersey      usa   10 days left\n",
              "1      1   2899       ford  ...   tennessee      usa    6 days left\n",
              "2      2   5350      dodge  ...     georgia      usa    2 days left\n",
              "3      3  25000       ford  ...    virginia      usa  22 hours left\n",
              "4      4  27700  chevrolet  ...     florida      usa  22 hours left\n",
              "\n",
              "[5 rows x 13 columns]"
            ]
          },
          "metadata": {
            "tags": []
          },
          "execution_count": 2
        }
      ]
    },
    {
      "cell_type": "markdown",
      "metadata": {
        "id": "Oo42TYTIfQ6E"
      },
      "source": [
        "# Basic Statistic"
      ]
    },
    {
      "cell_type": "markdown",
      "metadata": {
        "id": "BIWV6u3EfT06"
      },
      "source": [
        "## Measures of Central Tendency"
      ]
    },
    {
      "cell_type": "code",
      "metadata": {
        "colab": {
          "base_uri": "https://localhost:8080/"
        },
        "id": "Z2MmOhXygGSq",
        "outputId": "0d655420-2411-404d-beb0-699de1fa04c6"
      },
      "source": [
        "# Mean of price in USA datasets\n",
        "mean = data['price'].mean()\n",
        "print(\"The mean of Price: {:.2f}\".format(round(mean,2)))\n",
        "\n",
        "# Mode of price in USA datasets\n",
        "mode = data['price'].mode()\n",
        "print(\"The mode of Price: {}\".format(int(mode)))\n",
        "\n",
        "# Mode of price in USA datasets\n",
        "median = data['price'].median()\n",
        "print(\"The median of Price: {}\".format(int(median)))"
      ],
      "execution_count": 3,
      "outputs": [
        {
          "output_type": "stream",
          "text": [
            "The mean of Price: 18767.67\n",
            "The mode of Price: 0\n",
            "The median of Price: 16900\n"
          ],
          "name": "stdout"
        }
      ]
    },
    {
      "cell_type": "markdown",
      "metadata": {
        "id": "T8gM4lZYiDy7"
      },
      "source": [
        "## Measures of Dispersion"
      ]
    },
    {
      "cell_type": "markdown",
      "metadata": {
        "id": "q1m_4hSzla95"
      },
      "source": [
        "The average of price between BMW and Mercedez-Benz"
      ]
    },
    {
      "cell_type": "code",
      "metadata": {
        "colab": {
          "base_uri": "https://localhost:8080/"
        },
        "id": "AZh3Ze6klXj3",
        "outputId": "6780cf94-4315-41c4-89e5-f52224be9f32"
      },
      "source": [
        "# The average of price in Mercedez-Benz\n",
        "mer = data[data['brand'] == 'mercedes-benz']\n",
        "mean_mer = mer['price'].mean()\n",
        "print(\"The average price of mercedes-benz: {:.2f}\".format(round(mean_mer,2)))\n",
        "\n",
        "# The average of price in Bmw \n",
        "bmw = data[data['brand'] == 'bmw']\n",
        "mean_bmw = bmw['price'].mean()\n",
        "print(\"The average price of bmw: {:.2f}\".format(round(mean_bmw,2)))"
      ],
      "execution_count": 4,
      "outputs": [
        {
          "output_type": "stream",
          "text": [
            "The average price of mercedes-benz: 28704.00\n",
            "The average price of bmw: 26397.06\n"
          ],
          "name": "stdout"
        }
      ]
    },
    {
      "cell_type": "markdown",
      "metadata": {
        "id": "D3NdyuPxnqQf"
      },
      "source": [
        "Dispersion of price between BMW and Mercedez-Benz"
      ]
    },
    {
      "cell_type": "code",
      "metadata": {
        "colab": {
          "base_uri": "https://localhost:8080/",
          "height": 290
        },
        "id": "KtsyfU8alUo2",
        "outputId": "b054674a-ade9-4efd-e072-79af8737b393"
      },
      "source": [
        "sns.kdeplot(bmw['price'], color='red', label='BMW').set(xlim=(0, bmw['price'].max()))\n",
        "sns.kdeplot(mer['price'], color='blue', label='Mercedez-Benz').set(xlim=(0, mer['price'].max()))\n",
        "plt.legend()\n",
        "plt.show()"
      ],
      "execution_count": 5,
      "outputs": [
        {
          "output_type": "display_data",
          "data": {
            "image/png": "[encoded data removed]",
            "text/plain": [
              "<Figure size 432x288 with 1 Axes>"
            ]
          },
          "metadata": {
            "tags": [],
            "needs_background": "light"
          }
        }
      ]
    },
    {
      "cell_type": "markdown",
      "metadata": {
        "id": "Eq1I7Y9ErDsf"
      },
      "source": [
        "Standard Deviation between BMW and Mercedez-Benz"
      ]
    },
    {
      "cell_type": "code",
      "metadata": {
        "colab": {
          "base_uri": "https://localhost:8080/"
        },
        "id": "--zM-qruqYlh",
        "outputId": "13aa0ec3-3b22-41db-831e-413a553a177a"
      },
      "source": [
        "# The standard deviation of price in Mercedez-Benz\n",
        "std_mer = mer['price'].std()\n",
        "print(\"The average price of Mercedez-Benz: {:.2f}\".format(std_mer))\n",
        "\n",
        "# The standard deviation of price in BMW \n",
        "std_bmw = bmw['price'].std()\n",
        "print(\"The average price of BMW: {:.2f}\".format(std_bmw))"
      ],
      "execution_count": 6,
      "outputs": [
        {
          "output_type": "stream",
          "text": [
            "The average price of Mercedez-Benz: 21468.48\n",
            "The average price of BMW: 18204.85\n"
          ],
          "name": "stdout"
        }
      ]
    },
    {
      "cell_type": "markdown",
      "metadata": {
        "id": "nyydn5Bfxxpy"
      },
      "source": [
        "## Proportion"
      ]
    },
    {
      "cell_type": "code",
      "metadata": {
        "colab": {
          "base_uri": "https://localhost:8080/",
          "height": 202
        },
        "id": "BHyaTFvlralQ",
        "outputId": "956b1635-4334-4e02-f321-4128cd710ba4"
      },
      "source": [
        "# what is the percentage of ford card compare to another brand?\n",
        "proportion = pd.DataFrame(data['brand'].value_counts())\n",
        "proportion = proportion.rename(columns={'brand':'Amount'})\n",
        "proportion['Proportion(%)'] = data['brand'].value_counts(normalize=True)\n",
        "proportion = proportion.rename_axis('Brand').reset_index()\n",
        "\n",
        "# show the five first rows\n",
        "proportion.head()"
      ],
      "execution_count": 7,
      "outputs": [
        {
          "output_type": "execute_result",
          "data": {
            "text/html": [
              "<div>\n",
              "<style scoped>\n",
              "    .dataframe tbody tr th:only-of-type {\n",
              "        vertical-align: middle;\n",
              "    }\n",
              "\n",
              "    .dataframe tbody tr th {\n",
              "        vertical-align: top;\n",
              "    }\n",
              "\n",
              "    .dataframe thead th {\n",
              "        text-align: right;\n",
              "    }\n",
              "</style>\n",
              "<table border=\"1\" class=\"dataframe\">\n",
              "  <thead>\n",
              "    <tr style=\"text-align: right;\">\n",
              "      <th></th>\n",
              "      <th>Brand</th>\n",
              "      <th>Amount</th>\n",
              "      <th>Proportion(%)</th>\n",
              "    </tr>\n",
              "  </thead>\n",
              "  <tbody>\n",
              "    <tr>\n",
              "      <th>0</th>\n",
              "      <td>ford</td>\n",
              "      <td>1235</td>\n",
              "      <td>0.494198</td>\n",
              "    </tr>\n",
              "    <tr>\n",
              "      <th>1</th>\n",
              "      <td>dodge</td>\n",
              "      <td>432</td>\n",
              "      <td>0.172869</td>\n",
              "    </tr>\n",
              "    <tr>\n",
              "      <th>2</th>\n",
              "      <td>nissan</td>\n",
              "      <td>312</td>\n",
              "      <td>0.124850</td>\n",
              "    </tr>\n",
              "    <tr>\n",
              "      <th>3</th>\n",
              "      <td>chevrolet</td>\n",
              "      <td>297</td>\n",
              "      <td>0.118848</td>\n",
              "    </tr>\n",
              "    <tr>\n",
              "      <th>4</th>\n",
              "      <td>gmc</td>\n",
              "      <td>42</td>\n",
              "      <td>0.016807</td>\n",
              "    </tr>\n",
              "  </tbody>\n",
              "</table>\n",
              "</div>"
            ],
            "text/plain": [
              "       Brand  Amount  Proportion(%)\n",
              "0       ford    1235       0.494198\n",
              "1      dodge     432       0.172869\n",
              "2     nissan     312       0.124850\n",
              "3  chevrolet     297       0.118848\n",
              "4        gmc      42       0.016807"
            ]
          },
          "metadata": {
            "tags": []
          },
          "execution_count": 7
        }
      ]
    },
    {
      "cell_type": "markdown",
      "metadata": {
        "id": "CgUDj-BkjuLz"
      },
      "source": [
        "### Practice\n",
        "1. What is the proportion of every single brand from usa car dataset?\n",
        "2. How many cars with ford brand, especially with green color?\n",
        "3. What is the proportion of chevrolet car in Indiana, Florida, Ohio, and Tennesee?\n",
        "4. What is the proportion of every single brand which has the range price between 10.000 - 20.000?\n",
        "5. What kind of title_status and show the proportion in usa car dataset?\n",
        "______"
      ]
    },
    {
      "cell_type": "code",
      "metadata": {
        "colab": {
          "base_uri": "https://localhost:8080/",
          "height": 907
        },
        "id": "FRDAo3WgjxPM",
        "outputId": "aec453fb-0e7f-43b6-aa1c-25ef469a7d33"
      },
      "source": [
        "# Answer 1\n",
        "ans_1 = pd.DataFrame(data['brand'].value_counts(normalize=True))\n",
        "ans_1 = ans_1.rename(columns={'brand':'Proportion'})\n",
        "ans_1 = ans_1.rename_axis('Brand').reset_index()\n",
        "\n",
        "ans_1"
      ],
      "execution_count": 8,
      "outputs": [
        {
          "output_type": "execute_result",
          "data": {
            "text/html": [
              "<div>\n",
              "<style scoped>\n",
              "    .dataframe tbody tr th:only-of-type {\n",
              "        vertical-align: middle;\n",
              "    }\n",
              "\n",
              "    .dataframe tbody tr th {\n",
              "        vertical-align: top;\n",
              "    }\n",
              "\n",
              "    .dataframe thead th {\n",
              "        text-align: right;\n",
              "    }\n",
              "</style>\n",
              "<table border=\"1\" class=\"dataframe\">\n",
              "  <thead>\n",
              "    <tr style=\"text-align: right;\">\n",
              "      <th></th>\n",
              "      <th>Brand</th>\n",
              "      <th>Proportion</th>\n",
              "    </tr>\n",
              "  </thead>\n",
              "  <tbody>\n",
              "    <tr>\n",
              "      <th>0</th>\n",
              "      <td>ford</td>\n",
              "      <td>0.494198</td>\n",
              "    </tr>\n",
              "    <tr>\n",
              "      <th>1</th>\n",
              "      <td>dodge</td>\n",
              "      <td>0.172869</td>\n",
              "    </tr>\n",
              "    <tr>\n",
              "      <th>2</th>\n",
              "      <td>nissan</td>\n",
              "      <td>0.124850</td>\n",
              "    </tr>\n",
              "    <tr>\n",
              "      <th>3</th>\n",
              "      <td>chevrolet</td>\n",
              "      <td>0.118848</td>\n",
              "    </tr>\n",
              "    <tr>\n",
              "      <th>4</th>\n",
              "      <td>gmc</td>\n",
              "      <td>0.016807</td>\n",
              "    </tr>\n",
              "    <tr>\n",
              "      <th>5</th>\n",
              "      <td>jeep</td>\n",
              "      <td>0.012005</td>\n",
              "    </tr>\n",
              "    <tr>\n",
              "      <th>6</th>\n",
              "      <td>chrysler</td>\n",
              "      <td>0.007203</td>\n",
              "    </tr>\n",
              "    <tr>\n",
              "      <th>7</th>\n",
              "      <td>bmw</td>\n",
              "      <td>0.006803</td>\n",
              "    </tr>\n",
              "    <tr>\n",
              "      <th>8</th>\n",
              "      <td>hyundai</td>\n",
              "      <td>0.006002</td>\n",
              "    </tr>\n",
              "    <tr>\n",
              "      <th>9</th>\n",
              "      <td>buick</td>\n",
              "      <td>0.005202</td>\n",
              "    </tr>\n",
              "    <tr>\n",
              "      <th>10</th>\n",
              "      <td>kia</td>\n",
              "      <td>0.005202</td>\n",
              "    </tr>\n",
              "    <tr>\n",
              "      <th>11</th>\n",
              "      <td>honda</td>\n",
              "      <td>0.004802</td>\n",
              "    </tr>\n",
              "    <tr>\n",
              "      <th>12</th>\n",
              "      <td>infiniti</td>\n",
              "      <td>0.004802</td>\n",
              "    </tr>\n",
              "    <tr>\n",
              "      <th>13</th>\n",
              "      <td>mercedes-benz</td>\n",
              "      <td>0.004002</td>\n",
              "    </tr>\n",
              "    <tr>\n",
              "      <th>14</th>\n",
              "      <td>cadillac</td>\n",
              "      <td>0.004002</td>\n",
              "    </tr>\n",
              "    <tr>\n",
              "      <th>15</th>\n",
              "      <td>heartland</td>\n",
              "      <td>0.002001</td>\n",
              "    </tr>\n",
              "    <tr>\n",
              "      <th>16</th>\n",
              "      <td>land</td>\n",
              "      <td>0.001601</td>\n",
              "    </tr>\n",
              "    <tr>\n",
              "      <th>17</th>\n",
              "      <td>peterbilt</td>\n",
              "      <td>0.001601</td>\n",
              "    </tr>\n",
              "    <tr>\n",
              "      <th>18</th>\n",
              "      <td>audi</td>\n",
              "      <td>0.001601</td>\n",
              "    </tr>\n",
              "    <tr>\n",
              "      <th>19</th>\n",
              "      <td>acura</td>\n",
              "      <td>0.001200</td>\n",
              "    </tr>\n",
              "    <tr>\n",
              "      <th>20</th>\n",
              "      <td>lexus</td>\n",
              "      <td>0.000800</td>\n",
              "    </tr>\n",
              "    <tr>\n",
              "      <th>21</th>\n",
              "      <td>mazda</td>\n",
              "      <td>0.000800</td>\n",
              "    </tr>\n",
              "    <tr>\n",
              "      <th>22</th>\n",
              "      <td>lincoln</td>\n",
              "      <td>0.000800</td>\n",
              "    </tr>\n",
              "    <tr>\n",
              "      <th>23</th>\n",
              "      <td>maserati</td>\n",
              "      <td>0.000400</td>\n",
              "    </tr>\n",
              "    <tr>\n",
              "      <th>24</th>\n",
              "      <td>jaguar</td>\n",
              "      <td>0.000400</td>\n",
              "    </tr>\n",
              "    <tr>\n",
              "      <th>25</th>\n",
              "      <td>toyota</td>\n",
              "      <td>0.000400</td>\n",
              "    </tr>\n",
              "    <tr>\n",
              "      <th>26</th>\n",
              "      <td>ram</td>\n",
              "      <td>0.000400</td>\n",
              "    </tr>\n",
              "    <tr>\n",
              "      <th>27</th>\n",
              "      <td>harley-davidson</td>\n",
              "      <td>0.000400</td>\n",
              "    </tr>\n",
              "  </tbody>\n",
              "</table>\n",
              "</div>"
            ],
            "text/plain": [
              "              Brand  Proportion\n",
              "0              ford    0.494198\n",
              "1             dodge    0.172869\n",
              "2            nissan    0.124850\n",
              "3         chevrolet    0.118848\n",
              "4               gmc    0.016807\n",
              "5              jeep    0.012005\n",
              "6          chrysler    0.007203\n",
              "7               bmw    0.006803\n",
              "8           hyundai    0.006002\n",
              "9             buick    0.005202\n",
              "10              kia    0.005202\n",
              "11            honda    0.004802\n",
              "12         infiniti    0.004802\n",
              "13    mercedes-benz    0.004002\n",
              "14         cadillac    0.004002\n",
              "15        heartland    0.002001\n",
              "16             land    0.001601\n",
              "17        peterbilt    0.001601\n",
              "18             audi    0.001601\n",
              "19            acura    0.001200\n",
              "20            lexus    0.000800\n",
              "21            mazda    0.000800\n",
              "22          lincoln    0.000800\n",
              "23         maserati    0.000400\n",
              "24           jaguar    0.000400\n",
              "25           toyota    0.000400\n",
              "26              ram    0.000400\n",
              "27  harley-davidson    0.000400"
            ]
          },
          "metadata": {
            "tags": []
          },
          "execution_count": 8
        }
      ]
    },
    {
      "cell_type": "code",
      "metadata": {
        "colab": {
          "base_uri": "https://localhost:8080/"
        },
        "id": "8SohiRhslElq",
        "outputId": "d9e12fd6-45a9-4a2c-9534-f48d68b2159d"
      },
      "source": [
        "# Answer 2\n",
        "ans_2 = data[(data['brand'] == 'ford') & (data['color'] == 'green')]\n",
        "len(ans_2)"
      ],
      "execution_count": 9,
      "outputs": [
        {
          "output_type": "execute_result",
          "data": {
            "text/plain": [
              "11"
            ]
          },
          "metadata": {
            "tags": []
          },
          "execution_count": 9
        }
      ]
    },
    {
      "cell_type": "code",
      "metadata": {
        "colab": {
          "base_uri": "https://localhost:8080/"
        },
        "id": "84Kj2qudmB-l",
        "outputId": "9c7fe873-ecc2-4bc4-f208-222ab27e6ede"
      },
      "source": [
        "# Answer 3\n",
        "ans_3 = data[(data['brand']=='chevrolet') & ((data['state']=='florida') | (data['state']=='indiana') | (data['state']=='ohio') | (data['state']=='tennese'))]\n",
        "ans_3['state'].value_counts(normalize=True)"
      ],
      "execution_count": 10,
      "outputs": [
        {
          "output_type": "execute_result",
          "data": {
            "text/plain": [
              "florida    0.777778\n",
              "indiana    0.185185\n",
              "ohio       0.037037\n",
              "Name: state, dtype: float64"
            ]
          },
          "metadata": {
            "tags": []
          },
          "execution_count": 10
        }
      ]
    },
    {
      "cell_type": "code",
      "metadata": {
        "colab": {
          "base_uri": "https://localhost:8080/",
          "height": 355
        },
        "id": "DVsX15HCmV94",
        "outputId": "a587d212-8785-41e2-cc6f-1b95d72548cf"
      },
      "source": [
        "# Answer 4\n",
        "data_range = data[(data['price'] >= 10000) & (data['price'] <= 20000 )]\n",
        "ans_4 = pd.DataFrame(data_range['brand'].value_counts())\n",
        "ans_4 = ans_4.rename(columns={'brand':'Amount'})\n",
        "ans_4['Proportion(%)'] = data_range['brand'].value_counts(normalize=True)\n",
        "ans_4 = ans_4.rename_axis('Brand').reset_index()\n",
        "\n",
        "ans_4.head(10)"
      ],
      "execution_count": 11,
      "outputs": [
        {
          "output_type": "execute_result",
          "data": {
            "text/html": [
              "<div>\n",
              "<style scoped>\n",
              "    .dataframe tbody tr th:only-of-type {\n",
              "        vertical-align: middle;\n",
              "    }\n",
              "\n",
              "    .dataframe tbody tr th {\n",
              "        vertical-align: top;\n",
              "    }\n",
              "\n",
              "    .dataframe thead th {\n",
              "        text-align: right;\n",
              "    }\n",
              "</style>\n",
              "<table border=\"1\" class=\"dataframe\">\n",
              "  <thead>\n",
              "    <tr style=\"text-align: right;\">\n",
              "      <th></th>\n",
              "      <th>Brand</th>\n",
              "      <th>Amount</th>\n",
              "      <th>Proportion(%)</th>\n",
              "    </tr>\n",
              "  </thead>\n",
              "  <tbody>\n",
              "    <tr>\n",
              "      <th>0</th>\n",
              "      <td>ford</td>\n",
              "      <td>328</td>\n",
              "      <td>0.371041</td>\n",
              "    </tr>\n",
              "    <tr>\n",
              "      <th>1</th>\n",
              "      <td>dodge</td>\n",
              "      <td>199</td>\n",
              "      <td>0.225113</td>\n",
              "    </tr>\n",
              "    <tr>\n",
              "      <th>2</th>\n",
              "      <td>nissan</td>\n",
              "      <td>176</td>\n",
              "      <td>0.199095</td>\n",
              "    </tr>\n",
              "    <tr>\n",
              "      <th>3</th>\n",
              "      <td>chevrolet</td>\n",
              "      <td>102</td>\n",
              "      <td>0.115385</td>\n",
              "    </tr>\n",
              "    <tr>\n",
              "      <th>4</th>\n",
              "      <td>jeep</td>\n",
              "      <td>17</td>\n",
              "      <td>0.019231</td>\n",
              "    </tr>\n",
              "    <tr>\n",
              "      <th>5</th>\n",
              "      <td>gmc</td>\n",
              "      <td>17</td>\n",
              "      <td>0.019231</td>\n",
              "    </tr>\n",
              "    <tr>\n",
              "      <th>6</th>\n",
              "      <td>infiniti</td>\n",
              "      <td>12</td>\n",
              "      <td>0.013575</td>\n",
              "    </tr>\n",
              "    <tr>\n",
              "      <th>7</th>\n",
              "      <td>kia</td>\n",
              "      <td>6</td>\n",
              "      <td>0.006787</td>\n",
              "    </tr>\n",
              "    <tr>\n",
              "      <th>8</th>\n",
              "      <td>chrysler</td>\n",
              "      <td>6</td>\n",
              "      <td>0.006787</td>\n",
              "    </tr>\n",
              "    <tr>\n",
              "      <th>9</th>\n",
              "      <td>mercedes-benz</td>\n",
              "      <td>5</td>\n",
              "      <td>0.005656</td>\n",
              "    </tr>\n",
              "  </tbody>\n",
              "</table>\n",
              "</div>"
            ],
            "text/plain": [
              "           Brand  Amount  Proportion(%)\n",
              "0           ford     328       0.371041\n",
              "1          dodge     199       0.225113\n",
              "2         nissan     176       0.199095\n",
              "3      chevrolet     102       0.115385\n",
              "4           jeep      17       0.019231\n",
              "5            gmc      17       0.019231\n",
              "6       infiniti      12       0.013575\n",
              "7            kia       6       0.006787\n",
              "8       chrysler       6       0.006787\n",
              "9  mercedes-benz       5       0.005656"
            ]
          },
          "metadata": {
            "tags": []
          },
          "execution_count": 11
        }
      ]
    },
    {
      "cell_type": "code",
      "metadata": {
        "colab": {
          "base_uri": "https://localhost:8080/",
          "height": 110
        },
        "id": "USVMgrF_nRWE",
        "outputId": "15ffcc35-3935-4792-ecad-86166b1ba63d"
      },
      "source": [
        "# Answer 5\n",
        "ans_5 = pd.DataFrame(data['title_status'].value_counts(normalize=True))\n",
        "ans_5 = ans_5.rename(columns={'title_status':'Proportion'})\n",
        "ans_5 = ans_5.rename_axis('title_status').reset_index()\n",
        "\n",
        "ans_5"
      ],
      "execution_count": 12,
      "outputs": [
        {
          "output_type": "execute_result",
          "data": {
            "text/html": [
              "<div>\n",
              "<style scoped>\n",
              "    .dataframe tbody tr th:only-of-type {\n",
              "        vertical-align: middle;\n",
              "    }\n",
              "\n",
              "    .dataframe tbody tr th {\n",
              "        vertical-align: top;\n",
              "    }\n",
              "\n",
              "    .dataframe thead th {\n",
              "        text-align: right;\n",
              "    }\n",
              "</style>\n",
              "<table border=\"1\" class=\"dataframe\">\n",
              "  <thead>\n",
              "    <tr style=\"text-align: right;\">\n",
              "      <th></th>\n",
              "      <th>title_status</th>\n",
              "      <th>Proportion</th>\n",
              "    </tr>\n",
              "  </thead>\n",
              "  <tbody>\n",
              "    <tr>\n",
              "      <th>0</th>\n",
              "      <td>clean vehicle</td>\n",
              "      <td>0.934774</td>\n",
              "    </tr>\n",
              "    <tr>\n",
              "      <th>1</th>\n",
              "      <td>salvage insurance</td>\n",
              "      <td>0.065226</td>\n",
              "    </tr>\n",
              "  </tbody>\n",
              "</table>\n",
              "</div>"
            ],
            "text/plain": [
              "        title_status  Proportion\n",
              "0      clean vehicle    0.934774\n",
              "1  salvage insurance    0.065226"
            ]
          },
          "metadata": {
            "tags": []
          },
          "execution_count": 12
        }
      ]
    }
  ]
}