{
  "cells": [
    {
      "cell_type": "markdown",
      "id": "fd38042b",
      "metadata": {
        "id": "fd38042b"
      },
      "source": [
        "# Predicting Number of Orders (Regression)\n",
        "created by: Ari Sulistiyo Prabowo\n",
        "\n",
        "List of contents:\n",
        "- Data Preparation\n",
        "- Exploratory Data Analysis (EDA)\n",
        "- Data Preprocessing\n",
        "- Modelling\n",
        "___"
      ]
    },
    {
      "cell_type": "code",
      "execution_count": null,
      "id": "94654056",
      "metadata": {
        "id": "94654056"
      },
      "outputs": [],
      "source": [
        "# import library\n",
        "import pandas as pd\n",
        "import numpy as np\n",
        "\n",
        "# pre-processing & model\n",
        "from sklearn.preprocessing import LabelEncoder, PolynomialFeatures\n",
        "from sklearn.model_selection import train_test_split\n",
        "from sklearn.ensemble import GradientBoostingRegressor\n",
        "from sklearn.linear_model import LinearRegression\n",
        "from sklearn.metrics import mean_absolute_error, mean_squared_error, r2_score\n",
        "\n",
        "# visualization\n",
        "import matplotlib.pyplot as plt\n",
        "import seaborn as sns\n",
        "import plotly.express as px\n",
        "\n",
        "import warnings\n",
        "warnings.filterwarnings('ignore')"
      ]
    },
    {
      "cell_type": "markdown",
      "id": "2d907336",
      "metadata": {
        "id": "2d907336"
      },
      "source": [
        "### Data Preparation"
      ]
    },
    {
      "cell_type": "code",
      "execution_count": null,
      "id": "d347113f",
      "metadata": {
        "scrolled": false,
        "id": "d347113f",
        "outputId": "1a2af410-19bd-4b3f-bdc5-242a74481a78"
      },
      "outputs": [
        {
          "data": {
            "text/plain": [
              "(188340, 10)"
            ]
          },
          "metadata": {},
          "output_type": "display_data"
        },
        {
          "name": "stdout",
          "output_type": "stream",
          "text": [
            "<class 'pandas.core.frame.DataFrame'>\n",
            "RangeIndex: 188340 entries, 0 to 188339\n",
            "Data columns (total 10 columns):\n",
            " #   Column         Non-Null Count   Dtype  \n",
            "---  ------         --------------   -----  \n",
            " 0   ID             188340 non-null  object \n",
            " 1   Store_id       188340 non-null  int64  \n",
            " 2   Store_Type     188340 non-null  object \n",
            " 3   Location_Type  188340 non-null  object \n",
            " 4   Region_Code    188340 non-null  object \n",
            " 5   Date           188340 non-null  object \n",
            " 6   Holiday        188340 non-null  int64  \n",
            " 7   Discount       188340 non-null  object \n",
            " 8   #Order         188340 non-null  int64  \n",
            " 9   Sales          188340 non-null  float64\n",
            "dtypes: float64(1), int64(3), object(6)\n",
            "memory usage: 14.4+ MB\n"
          ]
        },
        {
          "data": {
            "text/plain": [
              "None"
            ]
          },
          "metadata": {},
          "output_type": "display_data"
        },
        {
          "data": {
            "text/html": [
              "<div>\n",
              "<style scoped>\n",
              "    .dataframe tbody tr th:only-of-type {\n",
              "        vertical-align: middle;\n",
              "    }\n",
              "\n",
              "    .dataframe tbody tr th {\n",
              "        vertical-align: top;\n",
              "    }\n",
              "\n",
              "    .dataframe thead th {\n",
              "        text-align: right;\n",
              "    }\n",
              "</style>\n",
              "<table border=\"1\" class=\"dataframe\">\n",
              "  <thead>\n",
              "    <tr style=\"text-align: right;\">\n",
              "      <th></th>\n",
              "      <th>Store_id</th>\n",
              "      <th>Holiday</th>\n",
              "      <th>#Order</th>\n",
              "      <th>Sales</th>\n",
              "    </tr>\n",
              "  </thead>\n",
              "  <tbody>\n",
              "    <tr>\n",
              "      <th>count</th>\n",
              "      <td>188340.000000</td>\n",
              "      <td>188340.000000</td>\n",
              "      <td>188340.000000</td>\n",
              "      <td>188340.000000</td>\n",
              "    </tr>\n",
              "    <tr>\n",
              "      <th>mean</th>\n",
              "      <td>183.000000</td>\n",
              "      <td>0.131783</td>\n",
              "      <td>68.205692</td>\n",
              "      <td>42784.327982</td>\n",
              "    </tr>\n",
              "    <tr>\n",
              "      <th>std</th>\n",
              "      <td>105.366308</td>\n",
              "      <td>0.338256</td>\n",
              "      <td>30.467415</td>\n",
              "      <td>18456.708302</td>\n",
              "    </tr>\n",
              "    <tr>\n",
              "      <th>min</th>\n",
              "      <td>1.000000</td>\n",
              "      <td>0.000000</td>\n",
              "      <td>0.000000</td>\n",
              "      <td>0.000000</td>\n",
              "    </tr>\n",
              "    <tr>\n",
              "      <th>25%</th>\n",
              "      <td>92.000000</td>\n",
              "      <td>0.000000</td>\n",
              "      <td>48.000000</td>\n",
              "      <td>30426.000000</td>\n",
              "    </tr>\n",
              "    <tr>\n",
              "      <th>50%</th>\n",
              "      <td>183.000000</td>\n",
              "      <td>0.000000</td>\n",
              "      <td>63.000000</td>\n",
              "      <td>39678.000000</td>\n",
              "    </tr>\n",
              "    <tr>\n",
              "      <th>75%</th>\n",
              "      <td>274.000000</td>\n",
              "      <td>0.000000</td>\n",
              "      <td>82.000000</td>\n",
              "      <td>51909.000000</td>\n",
              "    </tr>\n",
              "    <tr>\n",
              "      <th>max</th>\n",
              "      <td>365.000000</td>\n",
              "      <td>1.000000</td>\n",
              "      <td>371.000000</td>\n",
              "      <td>247215.000000</td>\n",
              "    </tr>\n",
              "  </tbody>\n",
              "</table>\n",
              "</div>"
            ],
            "text/plain": [
              "            Store_id        Holiday         #Order          Sales\n",
              "count  188340.000000  188340.000000  188340.000000  188340.000000\n",
              "mean      183.000000       0.131783      68.205692   42784.327982\n",
              "std       105.366308       0.338256      30.467415   18456.708302\n",
              "min         1.000000       0.000000       0.000000       0.000000\n",
              "25%        92.000000       0.000000      48.000000   30426.000000\n",
              "50%       183.000000       0.000000      63.000000   39678.000000\n",
              "75%       274.000000       0.000000      82.000000   51909.000000\n",
              "max       365.000000       1.000000     371.000000  247215.000000"
            ]
          },
          "metadata": {},
          "output_type": "display_data"
        },
        {
          "data": {
            "text/html": [
              "<div>\n",
              "<style scoped>\n",
              "    .dataframe tbody tr th:only-of-type {\n",
              "        vertical-align: middle;\n",
              "    }\n",
              "\n",
              "    .dataframe tbody tr th {\n",
              "        vertical-align: top;\n",
              "    }\n",
              "\n",
              "    .dataframe thead th {\n",
              "        text-align: right;\n",
              "    }\n",
              "</style>\n",
              "<table border=\"1\" class=\"dataframe\">\n",
              "  <thead>\n",
              "    <tr style=\"text-align: right;\">\n",
              "      <th></th>\n",
              "      <th>ID</th>\n",
              "      <th>Store_id</th>\n",
              "      <th>Store_Type</th>\n",
              "      <th>Location_Type</th>\n",
              "      <th>Region_Code</th>\n",
              "      <th>Date</th>\n",
              "      <th>Holiday</th>\n",
              "      <th>Discount</th>\n",
              "      <th>#Order</th>\n",
              "      <th>Sales</th>\n",
              "    </tr>\n",
              "  </thead>\n",
              "  <tbody>\n",
              "    <tr>\n",
              "      <th>0</th>\n",
              "      <td>T1000001</td>\n",
              "      <td>1</td>\n",
              "      <td>S1</td>\n",
              "      <td>L3</td>\n",
              "      <td>R1</td>\n",
              "      <td>2018-01-01</td>\n",
              "      <td>1</td>\n",
              "      <td>Yes</td>\n",
              "      <td>9</td>\n",
              "      <td>7011.84</td>\n",
              "    </tr>\n",
              "    <tr>\n",
              "      <th>1</th>\n",
              "      <td>T1000002</td>\n",
              "      <td>253</td>\n",
              "      <td>S4</td>\n",
              "      <td>L2</td>\n",
              "      <td>R1</td>\n",
              "      <td>2018-01-01</td>\n",
              "      <td>1</td>\n",
              "      <td>Yes</td>\n",
              "      <td>60</td>\n",
              "      <td>51789.12</td>\n",
              "    </tr>\n",
              "    <tr>\n",
              "      <th>2</th>\n",
              "      <td>T1000003</td>\n",
              "      <td>252</td>\n",
              "      <td>S3</td>\n",
              "      <td>L2</td>\n",
              "      <td>R1</td>\n",
              "      <td>2018-01-01</td>\n",
              "      <td>1</td>\n",
              "      <td>Yes</td>\n",
              "      <td>42</td>\n",
              "      <td>36868.20</td>\n",
              "    </tr>\n",
              "    <tr>\n",
              "      <th>3</th>\n",
              "      <td>T1000004</td>\n",
              "      <td>251</td>\n",
              "      <td>S2</td>\n",
              "      <td>L3</td>\n",
              "      <td>R1</td>\n",
              "      <td>2018-01-01</td>\n",
              "      <td>1</td>\n",
              "      <td>Yes</td>\n",
              "      <td>23</td>\n",
              "      <td>19715.16</td>\n",
              "    </tr>\n",
              "    <tr>\n",
              "      <th>4</th>\n",
              "      <td>T1000005</td>\n",
              "      <td>250</td>\n",
              "      <td>S2</td>\n",
              "      <td>L3</td>\n",
              "      <td>R4</td>\n",
              "      <td>2018-01-01</td>\n",
              "      <td>1</td>\n",
              "      <td>Yes</td>\n",
              "      <td>62</td>\n",
              "      <td>45614.52</td>\n",
              "    </tr>\n",
              "  </tbody>\n",
              "</table>\n",
              "</div>"
            ],
            "text/plain": [
              "         ID  Store_id Store_Type Location_Type Region_Code        Date  \\\n",
              "0  T1000001         1         S1            L3          R1  2018-01-01   \n",
              "1  T1000002       253         S4            L2          R1  2018-01-01   \n",
              "2  T1000003       252         S3            L2          R1  2018-01-01   \n",
              "3  T1000004       251         S2            L3          R1  2018-01-01   \n",
              "4  T1000005       250         S2            L3          R4  2018-01-01   \n",
              "\n",
              "   Holiday Discount  #Order     Sales  \n",
              "0        1      Yes       9   7011.84  \n",
              "1        1      Yes      60  51789.12  \n",
              "2        1      Yes      42  36868.20  \n",
              "3        1      Yes      23  19715.16  \n",
              "4        1      Yes      62  45614.52  "
            ]
          },
          "execution_count": 2,
          "metadata": {},
          "output_type": "execute_result"
        }
      ],
      "source": [
        "#reading the data\n",
        "data = pd.read_csv(\"/Users/ari/Documents/Data Ari/Data Science/Project/Number of Orders Prediction/supplement_data.csv\")\n",
        "display(data.shape)\n",
        "display(data.info())\n",
        "display(data.describe())\n",
        "data.head()"
      ]
    },
    {
      "cell_type": "code",
      "execution_count": null,
      "id": "61964cf6",
      "metadata": {
        "id": "61964cf6"
      },
      "outputs": [],
      "source": [
        "# check any null values\n",
        "\n",
        "def check_data_quality(input_data):\n",
        "  \"\"\"\n",
        "  Data quality is on the most importent before applying any missing learning model\n",
        "  Some of ML models are very sensitive towards the missing value, duplicated data and others\n",
        "  input_data: variable that you save to read the data\n",
        "  \"\"\"\n",
        "  #Shows the result in the percentage of data duplication\n",
        "  duplication = input_data.duplicated().sum()/input_data.shape[0]*100\n",
        "  print(\"There are around {:.2f}% of data duplication \\n\".format(duplication))\n",
        "\n",
        "  #Shows the result in the percentage of null value\n",
        "  type_null = pd.DataFrame(input_data.dtypes).T.rename(index = {0: 'Columns Type'})\n",
        "  type_null = type_null.append(pd.DataFrame(input_data.isnull().sum()).T.rename(index = {0: 'Amount of Null Values'}))\n",
        "  type_null = type_null.append(pd.DataFrame(input_data.isnull().sum()/input_data.shape[0]*100).T.rename(index = {0: 'Percentage of Null Values'}))\n",
        "  \n",
        "  return(type_null.T)"
      ]
    },
    {
      "cell_type": "code",
      "execution_count": null,
      "id": "4444e531",
      "metadata": {
        "scrolled": false,
        "id": "4444e531",
        "outputId": "cded071f-0944-48ef-c6e6-ac504d1e4793"
      },
      "outputs": [
        {
          "name": "stdout",
          "output_type": "stream",
          "text": [
            "There are around 0.00% of data duplication \n",
            "\n"
          ]
        },
        {
          "data": {
            "text/html": [
              "<div>\n",
              "<style scoped>\n",
              "    .dataframe tbody tr th:only-of-type {\n",
              "        vertical-align: middle;\n",
              "    }\n",
              "\n",
              "    .dataframe tbody tr th {\n",
              "        vertical-align: top;\n",
              "    }\n",
              "\n",
              "    .dataframe thead th {\n",
              "        text-align: right;\n",
              "    }\n",
              "</style>\n",
              "<table border=\"1\" class=\"dataframe\">\n",
              "  <thead>\n",
              "    <tr style=\"text-align: right;\">\n",
              "      <th></th>\n",
              "      <th>Columns Type</th>\n",
              "      <th>Amount of Null Values</th>\n",
              "      <th>Percentage of Null Values</th>\n",
              "    </tr>\n",
              "  </thead>\n",
              "  <tbody>\n",
              "    <tr>\n",
              "      <th>ID</th>\n",
              "      <td>object</td>\n",
              "      <td>0</td>\n",
              "      <td>0.0</td>\n",
              "    </tr>\n",
              "    <tr>\n",
              "      <th>Store_id</th>\n",
              "      <td>int64</td>\n",
              "      <td>0</td>\n",
              "      <td>0.0</td>\n",
              "    </tr>\n",
              "    <tr>\n",
              "      <th>Store_Type</th>\n",
              "      <td>object</td>\n",
              "      <td>0</td>\n",
              "      <td>0.0</td>\n",
              "    </tr>\n",
              "    <tr>\n",
              "      <th>Location_Type</th>\n",
              "      <td>object</td>\n",
              "      <td>0</td>\n",
              "      <td>0.0</td>\n",
              "    </tr>\n",
              "    <tr>\n",
              "      <th>Region_Code</th>\n",
              "      <td>object</td>\n",
              "      <td>0</td>\n",
              "      <td>0.0</td>\n",
              "    </tr>\n",
              "    <tr>\n",
              "      <th>Date</th>\n",
              "      <td>object</td>\n",
              "      <td>0</td>\n",
              "      <td>0.0</td>\n",
              "    </tr>\n",
              "    <tr>\n",
              "      <th>Holiday</th>\n",
              "      <td>int64</td>\n",
              "      <td>0</td>\n",
              "      <td>0.0</td>\n",
              "    </tr>\n",
              "    <tr>\n",
              "      <th>Discount</th>\n",
              "      <td>object</td>\n",
              "      <td>0</td>\n",
              "      <td>0.0</td>\n",
              "    </tr>\n",
              "    <tr>\n",
              "      <th>#Order</th>\n",
              "      <td>int64</td>\n",
              "      <td>0</td>\n",
              "      <td>0.0</td>\n",
              "    </tr>\n",
              "    <tr>\n",
              "      <th>Sales</th>\n",
              "      <td>float64</td>\n",
              "      <td>0</td>\n",
              "      <td>0.0</td>\n",
              "    </tr>\n",
              "  </tbody>\n",
              "</table>\n",
              "</div>"
            ],
            "text/plain": [
              "              Columns Type Amount of Null Values Percentage of Null Values\n",
              "ID                  object                     0                       0.0\n",
              "Store_id             int64                     0                       0.0\n",
              "Store_Type          object                     0                       0.0\n",
              "Location_Type       object                     0                       0.0\n",
              "Region_Code         object                     0                       0.0\n",
              "Date                object                     0                       0.0\n",
              "Holiday              int64                     0                       0.0\n",
              "Discount            object                     0                       0.0\n",
              "#Order               int64                     0                       0.0\n",
              "Sales              float64                     0                       0.0"
            ]
          },
          "execution_count": 4,
          "metadata": {},
          "output_type": "execute_result"
        }
      ],
      "source": [
        "check_data_quality(data)"
      ]
    },
    {
      "cell_type": "markdown",
      "id": "442c6bb1",
      "metadata": {
        "id": "442c6bb1"
      },
      "source": [
        "### Exploratory Data Analysis"
      ]
    },
    {
      "cell_type": "code",
      "execution_count": null,
      "id": "e82693b9",
      "metadata": {
        "id": "e82693b9",
        "outputId": "d7bf2b62-005d-46bd-f152-9cfb2fe436ff"
      },
      "outputs": [
        {
          "name": "stdout",
          "output_type": "stream",
          "text": [
            "There are 365 unique stores in the dataset\n"
          ]
        }
      ],
      "source": [
        "# stores insight\n",
        "unique_store = data['Store_id'].nunique()\n",
        "print(\"There are {} unique stores in the dataset\".format(unique_store))"
      ]
    },
    {
      "cell_type": "code",
      "execution_count": null,
      "id": "8edca110",
      "metadata": {
        "id": "8edca110"
      },
      "outputs": [],
      "source": [
        "# counting the categorical data\n",
        "def countplot_cat(variable,p,l):\n",
        "    \"\"\"\n",
        "    This function is used to visualize the categorical data that has more than four unique values\n",
        "    variable: input your field/column\n",
        "    \"\"\"\n",
        "    \n",
        "    fig, ax = plt.subplots(1,1, figsize=(p,l))\n",
        "\n",
        "    sns.countplot(data=data, x=variable)\n",
        "\n",
        "    total = float(len(data))\n",
        "\n",
        "    for p in ax.patches:\n",
        "            percentage = '{:.2f}%'.format(100*p.get_height()/total)\n",
        "            x = p.get_x() + p.get_width() / 2.5\n",
        "            y = p.get_y() + p.get_height() / .98\n",
        "            ax.annotate(percentage, (x,y))\n",
        "\n",
        "    plt.show()"
      ]
    },
    {
      "cell_type": "code",
      "execution_count": null,
      "id": "58a09bc0",
      "metadata": {
        "scrolled": false,
        "id": "58a09bc0",
        "outputId": "907ba34f-7ef4-49a0-95bb-1fae9f5efb68"
      },
      "outputs": [
        {
          "data": {
            "image/png": "[encoded data removed]",
            "text/plain": [
              "<Figure size 864x504 with 1 Axes>"
            ]
          },
          "metadata": {
            "needs_background": "light"
          },
          "output_type": "display_data"
        }
      ],
      "source": [
        "countplot_cat(variable='Location_Type',p=12,l=7)"
      ]
    },
    {
      "cell_type": "code",
      "execution_count": null,
      "id": "669cd0ec",
      "metadata": {
        "id": "669cd0ec",
        "outputId": "a6f57c93-16d0-4cd8-a276-0ba882ad6bf7"
      },
      "outputs": [
        {
          "data": {
            "image/png": "[encoded data removed]",
            "text/plain": [
              "<Figure size 720x360 with 1 Axes>"
            ]
          },
          "metadata": {
            "needs_background": "light"
          },
          "output_type": "display_data"
        }
      ],
      "source": [
        "countplot_cat(variable='Holiday',p=10,l=5)"
      ]
    },
    {
      "cell_type": "code",
      "execution_count": null,
      "id": "aadd4a25",
      "metadata": {
        "scrolled": false,
        "id": "aadd4a25",
        "outputId": "38ed2336-c42f-4530-a2c4-5e5bce99e3b6"
      },
      "outputs": [
        {
          "data": {
            "image/png": "[encoded data removed]",
            "text/plain": [
              "<Figure size 1224x792 with 4 Axes>"
            ]
          },
          "metadata": {},
          "output_type": "display_data"
        }
      ],
      "source": [
        "# visualize the categorical data in pie chart\n",
        "cat_cols = ['Store_Type','Location_Type','Region_Code','Discount']\n",
        "\n",
        "fig, axes = plt.subplots(2,2, figsize=(17,11))\n",
        "axes = [ax for axes_row in axes for ax in axes_row]\n",
        "\n",
        "for i, col in enumerate(cat_cols):\n",
        "  _ = data[col].value_counts()[::-1].plot(kind='pie',ax=axes[i], title=col, autopct='%1.1f%%', shadow=True, fontsize=14)\n",
        "  _ = axes[i].set_ylabel('')\n",
        "\n",
        "_ = plt.tight_layout()"
      ]
    },
    {
      "cell_type": "code",
      "execution_count": null,
      "id": "fb24a786",
      "metadata": {
        "id": "fb24a786",
        "outputId": "eccddecc-5863-469f-aa3e-6a6e6687b200"
      },
      "outputs": [
        {
          "data": {
            "image/png": "[encoded data removed]",
            "text/plain": [
              "<Figure size 864x504 with 1 Axes>"
            ]
          },
          "metadata": {
            "needs_background": "light"
          },
          "output_type": "display_data"
        }
      ],
      "source": [
        "# visualization target variable\n",
        "plt.figure(figsize=(12,7))\n",
        "sns.histplot(data=data, x='#Order')\n",
        "plt.show()"
      ]
    },
    {
      "cell_type": "markdown",
      "id": "99adf0d3",
      "metadata": {
        "id": "99adf0d3"
      },
      "source": [
        "### Data Preprocessing\n",
        "This step, I do the preprocessing things to be able to put the data into the model. It contains:\n",
        "- Feature Encoder\n",
        "- Separate the dataset into training data (80%) and testing data (20%)"
      ]
    },
    {
      "cell_type": "code",
      "execution_count": null,
      "id": "96521753",
      "metadata": {
        "id": "96521753"
      },
      "outputs": [],
      "source": [
        "cat_cols = ['Store_Type', 'Location_Type', 'Region_Code','Discount']\n",
        "\n",
        "#create new variable so the original variable keep remaining\n",
        "encod_data = data.copy()\n",
        "\n",
        "#label encoder object\n",
        "label_encod = LabelEncoder()\n",
        "\n",
        "#encode the data\n",
        "for i in cat_cols:\n",
        "    encod_data[i] = label_encod.fit_transform(encod_data[i])"
      ]
    },
    {
      "cell_type": "code",
      "execution_count": null,
      "id": "b439d0f9",
      "metadata": {
        "id": "b439d0f9"
      },
      "outputs": [],
      "source": [
        "#separate independent variable and target variable\n",
        "X = encod_data.drop(['#Order','ID','Store_id','Date','Sales'], axis=1) #independent\n",
        "y = encod_data['#Order'] #target\n",
        "\n",
        "#separate training data (80%) and testing data (20%)\n",
        "X_train, X_test, y_train, y_test = train_test_split(X, y, test_size=0.2, random_state=43)"
      ]
    },
    {
      "cell_type": "markdown",
      "id": "d8a202f2",
      "metadata": {
        "id": "d8a202f2"
      },
      "source": [
        "### Modelling\n",
        "In this stage, I use two different models (GradientBoostingClassifer & XGBoost)"
      ]
    },
    {
      "cell_type": "code",
      "execution_count": null,
      "id": "c7a28a18",
      "metadata": {
        "id": "c7a28a18",
        "outputId": "a0634ba1-a5e7-4107-b2c0-27fb4d8aef40"
      },
      "outputs": [
        {
          "name": "stdout",
          "output_type": "stream",
          "text": [
            "For training data ---------\n",
            "Mean Absolute Error: 16.18\n",
            "Mean Squared Error: 497.89\n",
            "R2 Score: 0.46 \n",
            "\n",
            "For testing data ---------\n",
            "Mean Absolute Error: 16.09\n",
            "Mean Squared Error: 488.78\n",
            "R2 Score: 0.47\n"
          ]
        }
      ],
      "source": [
        "lr = LinearRegression()\n",
        "\n",
        "lr.fit(X_train, y_train)\n",
        "\n",
        "y_pred_train = lr.predict(X_train)\n",
        "y_pred_test = lr.predict(X_test)\n",
        "\n",
        "print('For training data ---------')\n",
        "print(\"Mean Absolute Error: {:.2f}\".format(mean_absolute_error(y_train, y_pred_train)))\n",
        "print(\"Mean Squared Error: {:.2f}\".format(mean_squared_error(y_train, y_pred_train)))\n",
        "print(\"R2 Score: {:.2f} \\n\".format(r2_score(y_train, y_pred_train)))\n",
        "\n",
        "print('For testing data ---------')\n",
        "print(\"Mean Absolute Error: {:.2f}\".format(mean_absolute_error(y_test, y_pred_test)))\n",
        "print(\"Mean Squared Error: {:.2f}\".format(mean_squared_error(y_test, y_pred_test)))\n",
        "print(\"R2 Score: {:.2f}\".format(r2_score(y_test, y_pred_test)))"
      ]
    },
    {
      "cell_type": "code",
      "execution_count": null,
      "id": "b6d449cf",
      "metadata": {
        "scrolled": true,
        "id": "b6d449cf",
        "outputId": "9372449e-65ab-44c6-9c3e-e84e63271ffb"
      },
      "outputs": [
        {
          "name": "stdout",
          "output_type": "stream",
          "text": [
            "For training data ---------\n",
            "Mean Absolute Error: 13.09\n",
            "Mean Squared Error: 361.47\n",
            "R2 Score: 0.61 \n",
            "\n",
            "For testing data ---------\n",
            "Mean Absolute Error: 13.00\n",
            "Mean Squared Error: 352.70\n",
            "R2 Score: 0.62\n"
          ]
        }
      ],
      "source": [
        "gb = GradientBoostingRegressor()\n",
        "\n",
        "gb.fit(X_train, y_train)\n",
        "\n",
        "y_pred_train_gb = gb.predict(X_train)\n",
        "y_pred_test_gb = gb.predict(X_test)\n",
        "\n",
        "print('For training data ---------')\n",
        "print(\"Mean Absolute Error: {:.2f}\".format(mean_absolute_error(y_train, y_pred_train_gb)))\n",
        "print(\"Mean Squared Error: {:.2f}\".format(mean_squared_error(y_train, y_pred_train_gb)))\n",
        "print(\"R2 Score: {:.2f} \\n\".format(r2_score(y_train, y_pred_train_gb)))\n",
        "\n",
        "print('For testing data ---------')\n",
        "print(\"Mean Absolute Error: {:.2f}\".format(mean_absolute_error(y_test, y_pred_test_gb)))\n",
        "print(\"Mean Squared Error: {:.2f}\".format(mean_squared_error(y_test, y_pred_test_gb)))\n",
        "print(\"R2 Score: {:.2f}\".format(r2_score(y_test, y_pred_test_gb)))"
      ]
    },
    {
      "cell_type": "code",
      "execution_count": null,
      "id": "ada8fd67",
      "metadata": {
        "id": "ada8fd67"
      },
      "outputs": [],
      "source": [
        ""
      ]
    }
  ],
  "metadata": {
    "kernelspec": {
      "display_name": "Python 3 (ipykernel)",
      "language": "python",
      "name": "python3"
    },
    "language_info": {
      "codemirror_mode": {
        "name": "ipython",
        "version": 3
      },
      "file_extension": ".py",
      "mimetype": "text/x-python",
      "name": "python",
      "nbconvert_exporter": "python",
      "pygments_lexer": "ipython3",
      "version": "3.9.7"
    },
    "colab": {
      "name": "Number of Order Prediction (Regression).ipynb",
      "provenance": []
    }
  },
  "nbformat": 4,
  "nbformat_minor": 5
}