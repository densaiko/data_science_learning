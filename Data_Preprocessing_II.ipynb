{
  "nbformat": 4,
  "nbformat_minor": 0,
  "metadata": {
    "colab": {
      "provenance": [],
      "toc_visible": true,
      "mount_file_id": "1z4Co_6UV9sHNVgSjWLem7AxXiRRlVPW2",
      "authorship_tag": "ABX9TyOQxjGTlOcXBZDOp3DwZ3DY"
    },
    "kernelspec": {
      "name": "python3",
      "display_name": "Python 3"
    },
    "language_info": {
      "name": "python"
    }
  },
  "cells": [
    {
      "cell_type": "markdown",
      "source": [
        "# Data Preprocessing II\n",
        "\n",
        "List of contents:\n",
        "- **Cleansing data**\n",
        "  - Text cleansing (regex) \n",
        "  - Removing conjunction and any common words (how, is, am, form etc) \n",
        "- **Pre-processing data**\n",
        "  - Stemming \n",
        "  - Lemmatization \n",
        "  - Tokenization \n",
        "    - Bag of Works \n",
        "    - TF-IDF \n",
        "  - Imbalance data (supervised learning)\n",
        "    - Oversampling\n",
        "    - Undersampling\n",
        "    - SMOTE\n",
        "\n",
        "\n",
        "Created by: Ari Sulistiyo Prabowo"
      ],
      "metadata": {
        "id": "951wxz250KRn"
      }
    },
    {
      "cell_type": "code",
      "source": [
        "#import library\n",
        "import pandas as pd\n",
        "import numpy as np\n",
        "\n",
        "#visualization library\n",
        "import matplotlib.pyplot as plt\n",
        "import seaborn as sns\n",
        "\n",
        "#wordcloud library\n",
        "from wordcloud import WordCloud, STOPWORDS\n",
        "import datetime, nltk\n",
        "import string\n",
        "from nltk.corpus import stopwords\n",
        "from nltk.tokenize import word_tokenize \n",
        "from nltk.stem import PorterStemmer\n",
        "from nltk.stem.wordnet import WordNetLemmatizer\n",
        "from sklearn.feature_extraction.text import CountVectorizer\n",
        "from sklearn.feature_extraction.text import TfidfVectorizer\n",
        "\n",
        "#machine learning library\n",
        "from sklearn import svm\n",
        "from sklearn import preprocessing, metrics, feature_selection\n",
        "from sklearn.preprocessing import LabelEncoder, OneHotEncoder, StandardScaler, MinMaxScaler\n",
        "from sklearn.svm import SVC\n",
        "from sklearn.tree import DecisionTreeClassifier\n",
        "from sklearn.naive_bayes import MultinomialNB\n",
        "from sklearn.ensemble import GradientBoostingClassifier\n",
        "from sklearn.model_selection import train_test_split, GridSearchCV, learning_curve\n",
        "from sklearn.metrics import classification_report, confusion_matrix\n",
        "from imblearn.over_sampling import RandomOverSampler\n",
        "from imblearn.under_sampling import RandomUnderSampler\n",
        "from collections import Counter\n",
        "from sklearn.linear_model import LogisticRegression\n",
        "from sklearn.ensemble import GradientBoostingClassifier\n",
        "from sklearn.metrics import classification_report, accuracy_score, confusion_matrix\n",
        "\n",
        "#nltk\n",
        "nltk.download('stopwords')\n",
        "nltk.download('punkt')\n",
        "nltk.download('wordnet')\n",
        "nltk.download('omw-1.4')\n",
        "\n",
        "import warnings\n",
        "warnings.filterwarnings('ignore')"
      ],
      "metadata": {
        "colab": {
          "base_uri": "https://localhost:8080/"
        },
        "id": "6YcJcJjl2Vh9",
        "outputId": "f376fba5-3d92-4484-d355-a8a710b8ff63"
      },
      "execution_count": 23,
      "outputs": [
        {
          "output_type": "stream",
          "name": "stderr",
          "text": [
            "[nltk_data] Downloading package stopwords to /root/nltk_data...\n",
            "[nltk_data]   Package stopwords is already up-to-date!\n",
            "[nltk_data] Downloading package punkt to /root/nltk_data...\n",
            "[nltk_data]   Package punkt is already up-to-date!\n",
            "[nltk_data] Downloading package wordnet to /root/nltk_data...\n",
            "[nltk_data]   Package wordnet is already up-to-date!\n",
            "[nltk_data] Downloading package omw-1.4 to /root/nltk_data...\n",
            "[nltk_data]   Package omw-1.4 is already up-to-date!\n"
          ]
        }
      ]
    },
    {
      "cell_type": "markdown",
      "source": [
        "## Reading Dataset"
      ],
      "metadata": {
        "id": "3Xkptm8E2-7h"
      }
    },
    {
      "cell_type": "code",
      "source": [
        "# pip install --upgrade xlrd"
      ],
      "metadata": {
        "id": "mvOgzNnK4aEf"
      },
      "execution_count": 24,
      "outputs": []
    },
    {
      "cell_type": "code",
      "source": [
        "# news dataset\n",
        "news_data = pd.read_excel(\"/content/drive/MyDrive/Data Ari Gmail/Data_Ari/Data_Science/Digital Skola/Indonesia Version/Data Preprocessing II/News Title.xls\", sheet_name='Data Train')\n",
        "news_data.head()"
      ],
      "metadata": {
        "colab": {
          "base_uri": "https://localhost:8080/",
          "height": 206
        },
        "id": "pMYlR9kR24m-",
        "outputId": "56eddd9a-6652-4f3c-b0d1-99653e0d53b4"
      },
      "execution_count": 25,
      "outputs": [
        {
          "output_type": "execute_result",
          "data": {
            "text/plain": [
              "   No                                         News Title       Category\n",
              "0   1  Google+ rolls out 'Stories' for tricked out ph...     Technology\n",
              "1   2                    Dov Charney's Redeeming Quality       Business\n",
              "2   3   White God adds Un Certain Regard to the Palm Dog  Entertainment\n",
              "3   4  Google shows off Androids for wearables, cars,...     Technology\n",
              "4   5         China May new bank loans at 870.8 bln yuan       Business"
            ],
            "text/html": [
              "\n",
              "  <div id=\"df-edccc3e8-660b-4f8b-bf9d-e09ac916383b\">\n",
              "    <div class=\"colab-df-container\">\n",
              "      <div>\n",
              "<style scoped>\n",
              "    .dataframe tbody tr th:only-of-type {\n",
              "        vertical-align: middle;\n",
              "    }\n",
              "\n",
              "    .dataframe tbody tr th {\n",
              "        vertical-align: top;\n",
              "    }\n",
              "\n",
              "    .dataframe thead th {\n",
              "        text-align: right;\n",
              "    }\n",
              "</style>\n",
              "<table border=\"1\" class=\"dataframe\">\n",
              "  <thead>\n",
              "    <tr style=\"text-align: right;\">\n",
              "      <th></th>\n",
              "      <th>No</th>\n",
              "      <th>News Title</th>\n",
              "      <th>Category</th>\n",
              "    </tr>\n",
              "  </thead>\n",
              "  <tbody>\n",
              "    <tr>\n",
              "      <th>0</th>\n",
              "      <td>1</td>\n",
              "      <td>Google+ rolls out 'Stories' for tricked out ph...</td>\n",
              "      <td>Technology</td>\n",
              "    </tr>\n",
              "    <tr>\n",
              "      <th>1</th>\n",
              "      <td>2</td>\n",
              "      <td>Dov Charney's Redeeming Quality</td>\n",
              "      <td>Business</td>\n",
              "    </tr>\n",
              "    <tr>\n",
              "      <th>2</th>\n",
              "      <td>3</td>\n",
              "      <td>White God adds Un Certain Regard to the Palm Dog</td>\n",
              "      <td>Entertainment</td>\n",
              "    </tr>\n",
              "    <tr>\n",
              "      <th>3</th>\n",
              "      <td>4</td>\n",
              "      <td>Google shows off Androids for wearables, cars,...</td>\n",
              "      <td>Technology</td>\n",
              "    </tr>\n",
              "    <tr>\n",
              "      <th>4</th>\n",
              "      <td>5</td>\n",
              "      <td>China May new bank loans at 870.8 bln yuan</td>\n",
              "      <td>Business</td>\n",
              "    </tr>\n",
              "  </tbody>\n",
              "</table>\n",
              "</div>\n",
              "      <button class=\"colab-df-convert\" onclick=\"convertToInteractive('df-edccc3e8-660b-4f8b-bf9d-e09ac916383b')\"\n",
              "              title=\"Convert this dataframe to an interactive table.\"\n",
              "              style=\"display:none;\">\n",
              "        \n",
              "  <svg xmlns=\"http://www.w3.org/2000/svg\" height=\"24px\"viewBox=\"0 0 24 24\"\n",
              "       width=\"24px\">\n",
              "    <path d=\"M0 0h24v24H0V0z\" fill=\"none\"/>\n",
              "    <path d=\"M18.56 5.44l.94 2.06.94-2.06 2.06-.94-2.06-.94-.94-2.06-.94 2.06-2.06.94zm-11 1L8.5 8.5l.94-2.06 2.06-.94-2.06-.94L8.5 2.5l-.94 2.06-2.06.94zm10 10l.94 2.06.94-2.06 2.06-.94-2.06-.94-.94-2.06-.94 2.06-2.06.94z\"/><path d=\"M17.41 7.96l-1.37-1.37c-.4-.4-.92-.59-1.43-.59-.52 0-1.04.2-1.43.59L10.3 9.45l-7.72 7.72c-.78.78-.78 2.05 0 2.83L4 21.41c.39.39.9.59 1.41.59.51 0 1.02-.2 1.41-.59l7.78-7.78 2.81-2.81c.8-.78.8-2.07 0-2.86zM5.41 20L4 18.59l7.72-7.72 1.47 1.35L5.41 20z\"/>\n",
              "  </svg>\n",
              "      </button>\n",
              "      \n",
              "  <style>\n",
              "    .colab-df-container {\n",
              "      display:flex;\n",
              "      flex-wrap:wrap;\n",
              "      gap: 12px;\n",
              "    }\n",
              "\n",
              "    .colab-df-convert {\n",
              "      background-color: #E8F0FE;\n",
              "      border: none;\n",
              "      border-radius: 50%;\n",
              "      cursor: pointer;\n",
              "      display: none;\n",
              "      fill: #1967D2;\n",
              "      height: 32px;\n",
              "      padding: 0 0 0 0;\n",
              "      width: 32px;\n",
              "    }\n",
              "\n",
              "    .colab-df-convert:hover {\n",
              "      background-color: #E2EBFA;\n",
              "      box-shadow: 0px 1px 2px rgba(60, 64, 67, 0.3), 0px 1px 3px 1px rgba(60, 64, 67, 0.15);\n",
              "      fill: #174EA6;\n",
              "    }\n",
              "\n",
              "    [theme=dark] .colab-df-convert {\n",
              "      background-color: #3B4455;\n",
              "      fill: #D2E3FC;\n",
              "    }\n",
              "\n",
              "    [theme=dark] .colab-df-convert:hover {\n",
              "      background-color: #434B5C;\n",
              "      box-shadow: 0px 1px 3px 1px rgba(0, 0, 0, 0.15);\n",
              "      filter: drop-shadow(0px 1px 2px rgba(0, 0, 0, 0.3));\n",
              "      fill: #FFFFFF;\n",
              "    }\n",
              "  </style>\n",
              "\n",
              "      <script>\n",
              "        const buttonEl =\n",
              "          document.querySelector('#df-edccc3e8-660b-4f8b-bf9d-e09ac916383b button.colab-df-convert');\n",
              "        buttonEl.style.display =\n",
              "          google.colab.kernel.accessAllowed ? 'block' : 'none';\n",
              "\n",
              "        async function convertToInteractive(key) {\n",
              "          const element = document.querySelector('#df-edccc3e8-660b-4f8b-bf9d-e09ac916383b');\n",
              "          const dataTable =\n",
              "            await google.colab.kernel.invokeFunction('convertToInteractive',\n",
              "                                                     [key], {});\n",
              "          if (!dataTable) return;\n",
              "\n",
              "          const docLinkHtml = 'Like what you see? Visit the ' +\n",
              "            '<a target=\"_blank\" href=https://colab.research.google.com/notebooks/data_table.ipynb>data table notebook</a>'\n",
              "            + ' to learn more about interactive tables.';\n",
              "          element.innerHTML = '';\n",
              "          dataTable['output_type'] = 'display_data';\n",
              "          await google.colab.output.renderOutput(dataTable, element);\n",
              "          const docLink = document.createElement('div');\n",
              "          docLink.innerHTML = docLinkHtml;\n",
              "          element.appendChild(docLink);\n",
              "        }\n",
              "      </script>\n",
              "    </div>\n",
              "  </div>\n",
              "  "
            ]
          },
          "metadata": {},
          "execution_count": 25
        }
      ]
    },
    {
      "cell_type": "code",
      "source": [
        "news_data.info()"
      ],
      "metadata": {
        "colab": {
          "base_uri": "https://localhost:8080/"
        },
        "id": "V8jsmEbB3gRR",
        "outputId": "6e3a2971-1b75-4c32-b044-fadcaa9f69cf"
      },
      "execution_count": 26,
      "outputs": [
        {
          "output_type": "stream",
          "name": "stdout",
          "text": [
            "<class 'pandas.core.frame.DataFrame'>\n",
            "RangeIndex: 65535 entries, 0 to 65534\n",
            "Data columns (total 3 columns):\n",
            " #   Column      Non-Null Count  Dtype \n",
            "---  ------      --------------  ----- \n",
            " 0   No          65535 non-null  int64 \n",
            " 1   News Title  65535 non-null  object\n",
            " 2   Category    65535 non-null  object\n",
            "dtypes: int64(1), object(2)\n",
            "memory usage: 1.5+ MB\n"
          ]
        }
      ]
    },
    {
      "cell_type": "code",
      "source": [
        "# check any null values\n",
        "print(\"how many null values\", news_data.isnull().sum())\n",
        "\n",
        "# check any duplicate values\n",
        "print(\"how many duplicate values\",news_data.duplicated().sum())"
      ],
      "metadata": {
        "colab": {
          "base_uri": "https://localhost:8080/"
        },
        "id": "riZlxkV44loY",
        "outputId": "2a581a29-b7af-4c2a-8488-b3c75d2a25a3"
      },
      "execution_count": 27,
      "outputs": [
        {
          "output_type": "stream",
          "name": "stdout",
          "text": [
            "how many null values No            0\n",
            "News Title    0\n",
            "Category      0\n",
            "dtype: int64\n",
            "how many duplicate values 0\n"
          ]
        }
      ]
    },
    {
      "cell_type": "markdown",
      "source": [
        "The news title dataset is free from null values and duplicated values"
      ],
      "metadata": {
        "id": "vVm3F9sK47y5"
      }
    },
    {
      "cell_type": "markdown",
      "source": [
        "## Data cleansing"
      ],
      "metadata": {
        "id": "fxWVlWeP5o3f"
      }
    },
    {
      "cell_type": "markdown",
      "source": [
        "### Cleansing with regex (special character)"
      ],
      "metadata": {
        "id": "VnzoG_uS5uGN"
      }
    },
    {
      "cell_type": "code",
      "source": [
        "news_data['News Title Claned'] = news_data['News Title'].str.replace(r'[^A-Za-z0-9]+', ' ', regex=True)\n",
        "news_data.head()"
      ],
      "metadata": {
        "colab": {
          "base_uri": "https://localhost:8080/",
          "height": 206
        },
        "id": "9eZdEXDl5yB_",
        "outputId": "2953c47c-944f-4439-90e1-18952b478493"
      },
      "execution_count": 28,
      "outputs": [
        {
          "output_type": "execute_result",
          "data": {
            "text/plain": [
              "   No                                         News Title       Category  \\\n",
              "0   1  Google+ rolls out 'Stories' for tricked out ph...     Technology   \n",
              "1   2                    Dov Charney's Redeeming Quality       Business   \n",
              "2   3   White God adds Un Certain Regard to the Palm Dog  Entertainment   \n",
              "3   4  Google shows off Androids for wearables, cars,...     Technology   \n",
              "4   5         China May new bank loans at 870.8 bln yuan       Business   \n",
              "\n",
              "                                   News Title Claned  \n",
              "0  Google rolls out Stories for tricked out photo...  \n",
              "1                    Dov Charney s Redeeming Quality  \n",
              "2   White God adds Un Certain Regard to the Palm Dog  \n",
              "3   Google shows off Androids for wearables cars TVs  \n",
              "4         China May new bank loans at 870 8 bln yuan  "
            ],
            "text/html": [
              "\n",
              "  <div id=\"df-1e296cb4-1a31-46ef-9dff-0a214686d4d8\">\n",
              "    <div class=\"colab-df-container\">\n",
              "      <div>\n",
              "<style scoped>\n",
              "    .dataframe tbody tr th:only-of-type {\n",
              "        vertical-align: middle;\n",
              "    }\n",
              "\n",
              "    .dataframe tbody tr th {\n",
              "        vertical-align: top;\n",
              "    }\n",
              "\n",
              "    .dataframe thead th {\n",
              "        text-align: right;\n",
              "    }\n",
              "</style>\n",
              "<table border=\"1\" class=\"dataframe\">\n",
              "  <thead>\n",
              "    <tr style=\"text-align: right;\">\n",
              "      <th></th>\n",
              "      <th>No</th>\n",
              "      <th>News Title</th>\n",
              "      <th>Category</th>\n",
              "      <th>News Title Claned</th>\n",
              "    </tr>\n",
              "  </thead>\n",
              "  <tbody>\n",
              "    <tr>\n",
              "      <th>0</th>\n",
              "      <td>1</td>\n",
              "      <td>Google+ rolls out 'Stories' for tricked out ph...</td>\n",
              "      <td>Technology</td>\n",
              "      <td>Google rolls out Stories for tricked out photo...</td>\n",
              "    </tr>\n",
              "    <tr>\n",
              "      <th>1</th>\n",
              "      <td>2</td>\n",
              "      <td>Dov Charney's Redeeming Quality</td>\n",
              "      <td>Business</td>\n",
              "      <td>Dov Charney s Redeeming Quality</td>\n",
              "    </tr>\n",
              "    <tr>\n",
              "      <th>2</th>\n",
              "      <td>3</td>\n",
              "      <td>White God adds Un Certain Regard to the Palm Dog</td>\n",
              "      <td>Entertainment</td>\n",
              "      <td>White God adds Un Certain Regard to the Palm Dog</td>\n",
              "    </tr>\n",
              "    <tr>\n",
              "      <th>3</th>\n",
              "      <td>4</td>\n",
              "      <td>Google shows off Androids for wearables, cars,...</td>\n",
              "      <td>Technology</td>\n",
              "      <td>Google shows off Androids for wearables cars TVs</td>\n",
              "    </tr>\n",
              "    <tr>\n",
              "      <th>4</th>\n",
              "      <td>5</td>\n",
              "      <td>China May new bank loans at 870.8 bln yuan</td>\n",
              "      <td>Business</td>\n",
              "      <td>China May new bank loans at 870 8 bln yuan</td>\n",
              "    </tr>\n",
              "  </tbody>\n",
              "</table>\n",
              "</div>\n",
              "      <button class=\"colab-df-convert\" onclick=\"convertToInteractive('df-1e296cb4-1a31-46ef-9dff-0a214686d4d8')\"\n",
              "              title=\"Convert this dataframe to an interactive table.\"\n",
              "              style=\"display:none;\">\n",
              "        \n",
              "  <svg xmlns=\"http://www.w3.org/2000/svg\" height=\"24px\"viewBox=\"0 0 24 24\"\n",
              "       width=\"24px\">\n",
              "    <path d=\"M0 0h24v24H0V0z\" fill=\"none\"/>\n",
              "    <path d=\"M18.56 5.44l.94 2.06.94-2.06 2.06-.94-2.06-.94-.94-2.06-.94 2.06-2.06.94zm-11 1L8.5 8.5l.94-2.06 2.06-.94-2.06-.94L8.5 2.5l-.94 2.06-2.06.94zm10 10l.94 2.06.94-2.06 2.06-.94-2.06-.94-.94-2.06-.94 2.06-2.06.94z\"/><path d=\"M17.41 7.96l-1.37-1.37c-.4-.4-.92-.59-1.43-.59-.52 0-1.04.2-1.43.59L10.3 9.45l-7.72 7.72c-.78.78-.78 2.05 0 2.83L4 21.41c.39.39.9.59 1.41.59.51 0 1.02-.2 1.41-.59l7.78-7.78 2.81-2.81c.8-.78.8-2.07 0-2.86zM5.41 20L4 18.59l7.72-7.72 1.47 1.35L5.41 20z\"/>\n",
              "  </svg>\n",
              "      </button>\n",
              "      \n",
              "  <style>\n",
              "    .colab-df-container {\n",
              "      display:flex;\n",
              "      flex-wrap:wrap;\n",
              "      gap: 12px;\n",
              "    }\n",
              "\n",
              "    .colab-df-convert {\n",
              "      background-color: #E8F0FE;\n",
              "      border: none;\n",
              "      border-radius: 50%;\n",
              "      cursor: pointer;\n",
              "      display: none;\n",
              "      fill: #1967D2;\n",
              "      height: 32px;\n",
              "      padding: 0 0 0 0;\n",
              "      width: 32px;\n",
              "    }\n",
              "\n",
              "    .colab-df-convert:hover {\n",
              "      background-color: #E2EBFA;\n",
              "      box-shadow: 0px 1px 2px rgba(60, 64, 67, 0.3), 0px 1px 3px 1px rgba(60, 64, 67, 0.15);\n",
              "      fill: #174EA6;\n",
              "    }\n",
              "\n",
              "    [theme=dark] .colab-df-convert {\n",
              "      background-color: #3B4455;\n",
              "      fill: #D2E3FC;\n",
              "    }\n",
              "\n",
              "    [theme=dark] .colab-df-convert:hover {\n",
              "      background-color: #434B5C;\n",
              "      box-shadow: 0px 1px 3px 1px rgba(0, 0, 0, 0.15);\n",
              "      filter: drop-shadow(0px 1px 2px rgba(0, 0, 0, 0.3));\n",
              "      fill: #FFFFFF;\n",
              "    }\n",
              "  </style>\n",
              "\n",
              "      <script>\n",
              "        const buttonEl =\n",
              "          document.querySelector('#df-1e296cb4-1a31-46ef-9dff-0a214686d4d8 button.colab-df-convert');\n",
              "        buttonEl.style.display =\n",
              "          google.colab.kernel.accessAllowed ? 'block' : 'none';\n",
              "\n",
              "        async function convertToInteractive(key) {\n",
              "          const element = document.querySelector('#df-1e296cb4-1a31-46ef-9dff-0a214686d4d8');\n",
              "          const dataTable =\n",
              "            await google.colab.kernel.invokeFunction('convertToInteractive',\n",
              "                                                     [key], {});\n",
              "          if (!dataTable) return;\n",
              "\n",
              "          const docLinkHtml = 'Like what you see? Visit the ' +\n",
              "            '<a target=\"_blank\" href=https://colab.research.google.com/notebooks/data_table.ipynb>data table notebook</a>'\n",
              "            + ' to learn more about interactive tables.';\n",
              "          element.innerHTML = '';\n",
              "          dataTable['output_type'] = 'display_data';\n",
              "          await google.colab.output.renderOutput(dataTable, element);\n",
              "          const docLink = document.createElement('div');\n",
              "          docLink.innerHTML = docLinkHtml;\n",
              "          element.appendChild(docLink);\n",
              "        }\n",
              "      </script>\n",
              "    </div>\n",
              "  </div>\n",
              "  "
            ]
          },
          "metadata": {},
          "execution_count": 28
        }
      ]
    },
    {
      "cell_type": "markdown",
      "source": [
        "### Cleansing Conjunction and Punctuation"
      ],
      "metadata": {
        "id": "avp4Epj8_scI"
      }
    },
    {
      "cell_type": "code",
      "source": [
        "def process_text(text):\n",
        "  from nltk.corpus import stopwords \n",
        "  from nltk.tokenize import word_tokenize\n",
        "  \n",
        "  #remove the punction that is not important\n",
        "  nopunc = [char for char in text if char not in string.punctuation]\n",
        "  nopunc = ''.join(nopunc)\n",
        "  nopunc = nopunc.lower()\n",
        "  \n",
        "  #remove useless word in data\n",
        "  stop_words = set(stopwords.words('english')) \n",
        "  \n",
        "  word_tokens = word_tokenize(nopunc) \n",
        "  \n",
        "  clean_words = [w for w in word_tokens if not w in stop_words] \n",
        "  return clean_words"
      ],
      "metadata": {
        "id": "vu6jzUUMAp_Y"
      },
      "execution_count": 29,
      "outputs": []
    },
    {
      "cell_type": "code",
      "source": [
        "news_data['News Title'].apply(process_text)"
      ],
      "metadata": {
        "colab": {
          "base_uri": "https://localhost:8080/"
        },
        "id": "x6gx1VHeAqsc",
        "outputId": "03c04129-c29a-4661-9e8d-a5d5d4ae94d0"
      },
      "execution_count": 30,
      "outputs": [
        {
          "output_type": "execute_result",
          "data": {
            "text/plain": [
              "0        [google, rolls, stories, tricked, photo, playb...\n",
              "1                      [dov, charneys, redeeming, quality]\n",
              "2        [white, god, adds, un, certain, regard, palm, ...\n",
              "3          [google, shows, androids, wearables, cars, tvs]\n",
              "4          [china, may, new, bank, loans, 8708, bln, yuan]\n",
              "                               ...                        \n",
              "65530    [xbox, one, homebrew, likely, reality, short, ...\n",
              "65531    [maker, recalls, 19, million, rearfacing, infa...\n",
              "65532              [watch, first, ninja, turtles, trailer]\n",
              "65533    [23052014dogs, triumph, cannes, canine, thrill...\n",
              "65534    [frontpoint, security, ceo, chris, villar, ran...\n",
              "Name: News Title, Length: 65535, dtype: object"
            ]
          },
          "metadata": {},
          "execution_count": 30
        }
      ]
    },
    {
      "cell_type": "code",
      "source": [
        "string.punctuation"
      ],
      "metadata": {
        "colab": {
          "base_uri": "https://localhost:8080/",
          "height": 35
        },
        "id": "b-23JfpcBl-K",
        "outputId": "b27c4e65-a6a9-46da-c9e4-728b48bf1ba8"
      },
      "execution_count": 31,
      "outputs": [
        {
          "output_type": "execute_result",
          "data": {
            "text/plain": [
              "'!\"#$%&\\'()*+,-./:;<=>?@[\\\\]^_`{|}~'"
            ],
            "application/vnd.google.colaboratory.intrinsic+json": {
              "type": "string"
            }
          },
          "metadata": {},
          "execution_count": 31
        }
      ]
    },
    {
      "cell_type": "code",
      "source": [
        "# example to take out the punctuation\n",
        "nopunc = [char for char in news_data['News Title'][0] if char not in string.punctuation]\n",
        "nopunc = ''.join(nopunc)\n",
        "nopunc = nopunc.lower()\n",
        "nopunc"
      ],
      "metadata": {
        "colab": {
          "base_uri": "https://localhost:8080/",
          "height": 35
        },
        "id": "DpRMJc_j_7S1",
        "outputId": "e891e02b-0e5f-4315-f403-c5db8047a1c5"
      },
      "execution_count": 32,
      "outputs": [
        {
          "output_type": "execute_result",
          "data": {
            "text/plain": [
              "'google rolls out stories for tricked out photo playback'"
            ],
            "application/vnd.google.colaboratory.intrinsic+json": {
              "type": "string"
            }
          },
          "metadata": {},
          "execution_count": 32
        }
      ]
    },
    {
      "cell_type": "code",
      "source": [
        "# example tokenization\n",
        "word_tokens = word_tokenize(nopunc) \n",
        "word_tokens"
      ],
      "metadata": {
        "colab": {
          "base_uri": "https://localhost:8080/"
        },
        "id": "zVY7AgPwB-gF",
        "outputId": "1042d024-fec2-4aba-8fc4-43a06c29fd74"
      },
      "execution_count": 33,
      "outputs": [
        {
          "output_type": "execute_result",
          "data": {
            "text/plain": [
              "['google',\n",
              " 'rolls',\n",
              " 'out',\n",
              " 'stories',\n",
              " 'for',\n",
              " 'tricked',\n",
              " 'out',\n",
              " 'photo',\n",
              " 'playback']"
            ]
          },
          "metadata": {},
          "execution_count": 33
        }
      ]
    },
    {
      "cell_type": "code",
      "source": [
        "# example implementation of stopwords\n",
        "stop_words = set(stopwords.words('english'))\n",
        "\n",
        "clean_words = [w for w in word_tokens if not w in stop_words] \n",
        "clean_words"
      ],
      "metadata": {
        "colab": {
          "base_uri": "https://localhost:8080/"
        },
        "id": "VfVxznI5CJZ9",
        "outputId": "18d6f663-6dc6-4aea-f579-e6d4c019a83e"
      },
      "execution_count": 34,
      "outputs": [
        {
          "output_type": "execute_result",
          "data": {
            "text/plain": [
              "['google', 'rolls', 'stories', 'tricked', 'photo', 'playback']"
            ]
          },
          "metadata": {},
          "execution_count": 34
        }
      ]
    },
    {
      "cell_type": "markdown",
      "source": [
        "## Data Pre-processing"
      ],
      "metadata": {
        "id": "6Sf0Qiji5nEW"
      }
    },
    {
      "cell_type": "markdown",
      "source": [
        "### Stemming"
      ],
      "metadata": {
        "id": "KPgadc5JMjZU"
      }
    },
    {
      "cell_type": "code",
      "source": [
        "# example implementation of stemming\n",
        "ps = PorterStemmer()\n",
        "\n",
        "stemmed_words = []\n",
        "\n",
        "for w in clean_words:\n",
        "  stemmed_words.append(ps.stem(w))\n",
        "\n",
        "stemmed_words"
      ],
      "metadata": {
        "colab": {
          "base_uri": "https://localhost:8080/"
        },
        "id": "XruN3CUD4v9u",
        "outputId": "d3362fd0-b07b-4134-ff40-f98eb63cddb2"
      },
      "execution_count": 35,
      "outputs": [
        {
          "output_type": "execute_result",
          "data": {
            "text/plain": [
              "['googl', 'roll', 'stori', 'trick', 'photo', 'playback']"
            ]
          },
          "metadata": {},
          "execution_count": 35
        }
      ]
    },
    {
      "cell_type": "markdown",
      "source": [
        "### Lemmatization"
      ],
      "metadata": {
        "id": "f5ssCKn5NBNh"
      }
    },
    {
      "cell_type": "code",
      "source": [
        "# example implementation of lemmatization \n",
        "lem = WordNetLemmatizer()\n",
        "\n",
        "lem_words = []\n",
        "\n",
        "for w in clean_words:\n",
        "  lem_words.append(lem.lemmatize(w))\n",
        "\n",
        "lem_words"
      ],
      "metadata": {
        "colab": {
          "base_uri": "https://localhost:8080/"
        },
        "id": "ytspJxInM0wd",
        "outputId": "179da620-2a97-49aa-cf5d-a778770e4e62"
      },
      "execution_count": null,
      "outputs": [
        {
          "output_type": "execute_result",
          "data": {
            "text/plain": [
              "['google', 'roll', 'story', 'tricked', 'photo', 'playback']"
            ]
          },
          "metadata": {},
          "execution_count": 22
        }
      ]
    },
    {
      "cell_type": "markdown",
      "source": [
        "### Tokenization\n",
        "- Bag of Work\n",
        "- TF-IDF"
      ],
      "metadata": {
        "id": "GD6n4saHDDx0"
      }
    },
    {
      "cell_type": "code",
      "source": [
        "def modelling(model, X_train, y_train, X_text, y_test):\n",
        "  #basic machine learning\n",
        "  MNB = model\n",
        "  MNB.fit(X_train, y_train)\n",
        "\n",
        "  y_train_pred = MNB.predict(X_train)\n",
        "  y_test_pred = MNB.predict(X_text)\n",
        "\n",
        "  # Compute accuracy on training set\n",
        "  train_accuracy = MNB.score(X_train, y_train)\n",
        "\n",
        "  # Compute accuracy on testing set\n",
        "  test_accuracy = MNB.score(X_text, y_test)\n",
        "\n",
        "  print('Training accuracy {:.2f}%'.format(train_accuracy*100))\n",
        "  print('Testing accuracy {:.2f}%'.format(test_accuracy*100))"
      ],
      "metadata": {
        "id": "8tgkb-4lUuyz"
      },
      "execution_count": 40,
      "outputs": []
    },
    {
      "cell_type": "markdown",
      "source": [
        "#### Bag of Work\n",
        "CounterVectorizer provides a simple way to both build a vocabulary of known words and tokenize a collection of text, but also to encode new documents using that vocabulary.\n",
        "\n",
        "An encoded vector is returned with a length of the entire vocabulary and an integer count for the number of times each word appeared.\n",
        "\n",
        "![Screen Shot 2022-11-25 at 06.51.33.png](data:image/png;base64,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)"
      ],
      "metadata": {
        "id": "sRg1QaBrDIgj"
      }
    },
    {
      "cell_type": "code",
      "source": [
        "#example Bag of Word\n",
        "\n",
        "sent1 = 'my favorite search engine is google'\n",
        "sent2 = 'hell ya google'\n",
        "\n",
        "cv = CountVectorizer()\n",
        "\n",
        "X = cv.fit_transform([sent1,sent2])\n",
        "\n",
        "bow_sklearn = pd.DataFrame(X.toarray(),columns=cv.get_feature_names())\n",
        "bow_sklearn.head()"
      ],
      "metadata": {
        "colab": {
          "base_uri": "https://localhost:8080/",
          "height": 112
        },
        "id": "UXCzVO0CGVU3",
        "outputId": "709561a4-0e10-4e55-afbe-a09f78d0c1e0"
      },
      "execution_count": 39,
      "outputs": [
        {
          "output_type": "execute_result",
          "data": {
            "text/plain": [
              "   engine  favorite  google  hell  is  my  search  ya\n",
              "0       1         1       1     0   1   1       1   0\n",
              "1       0         0       1     1   0   0       0   1"
            ],
            "text/html": [
              "\n",
              "  <div id=\"df-2158253b-3fba-4dfb-8b60-a2558cfbc903\">\n",
              "    <div class=\"colab-df-container\">\n",
              "      <div>\n",
              "<style scoped>\n",
              "    .dataframe tbody tr th:only-of-type {\n",
              "        vertical-align: middle;\n",
              "    }\n",
              "\n",
              "    .dataframe tbody tr th {\n",
              "        vertical-align: top;\n",
              "    }\n",
              "\n",
              "    .dataframe thead th {\n",
              "        text-align: right;\n",
              "    }\n",
              "</style>\n",
              "<table border=\"1\" class=\"dataframe\">\n",
              "  <thead>\n",
              "    <tr style=\"text-align: right;\">\n",
              "      <th></th>\n",
              "      <th>engine</th>\n",
              "      <th>favorite</th>\n",
              "      <th>google</th>\n",
              "      <th>hell</th>\n",
              "      <th>is</th>\n",
              "      <th>my</th>\n",
              "      <th>search</th>\n",
              "      <th>ya</th>\n",
              "    </tr>\n",
              "  </thead>\n",
              "  <tbody>\n",
              "    <tr>\n",
              "      <th>0</th>\n",
              "      <td>1</td>\n",
              "      <td>1</td>\n",
              "      <td>1</td>\n",
              "      <td>0</td>\n",
              "      <td>1</td>\n",
              "      <td>1</td>\n",
              "      <td>1</td>\n",
              "      <td>0</td>\n",
              "    </tr>\n",
              "    <tr>\n",
              "      <th>1</th>\n",
              "      <td>0</td>\n",
              "      <td>0</td>\n",
              "      <td>1</td>\n",
              "      <td>1</td>\n",
              "      <td>0</td>\n",
              "      <td>0</td>\n",
              "      <td>0</td>\n",
              "      <td>1</td>\n",
              "    </tr>\n",
              "  </tbody>\n",
              "</table>\n",
              "</div>\n",
              "      <button class=\"colab-df-convert\" onclick=\"convertToInteractive('df-2158253b-3fba-4dfb-8b60-a2558cfbc903')\"\n",
              "              title=\"Convert this dataframe to an interactive table.\"\n",
              "              style=\"display:none;\">\n",
              "        \n",
              "  <svg xmlns=\"http://www.w3.org/2000/svg\" height=\"24px\"viewBox=\"0 0 24 24\"\n",
              "       width=\"24px\">\n",
              "    <path d=\"M0 0h24v24H0V0z\" fill=\"none\"/>\n",
              "    <path d=\"M18.56 5.44l.94 2.06.94-2.06 2.06-.94-2.06-.94-.94-2.06-.94 2.06-2.06.94zm-11 1L8.5 8.5l.94-2.06 2.06-.94-2.06-.94L8.5 2.5l-.94 2.06-2.06.94zm10 10l.94 2.06.94-2.06 2.06-.94-2.06-.94-.94-2.06-.94 2.06-2.06.94z\"/><path d=\"M17.41 7.96l-1.37-1.37c-.4-.4-.92-.59-1.43-.59-.52 0-1.04.2-1.43.59L10.3 9.45l-7.72 7.72c-.78.78-.78 2.05 0 2.83L4 21.41c.39.39.9.59 1.41.59.51 0 1.02-.2 1.41-.59l7.78-7.78 2.81-2.81c.8-.78.8-2.07 0-2.86zM5.41 20L4 18.59l7.72-7.72 1.47 1.35L5.41 20z\"/>\n",
              "  </svg>\n",
              "      </button>\n",
              "      \n",
              "  <style>\n",
              "    .colab-df-container {\n",
              "      display:flex;\n",
              "      flex-wrap:wrap;\n",
              "      gap: 12px;\n",
              "    }\n",
              "\n",
              "    .colab-df-convert {\n",
              "      background-color: #E8F0FE;\n",
              "      border: none;\n",
              "      border-radius: 50%;\n",
              "      cursor: pointer;\n",
              "      display: none;\n",
              "      fill: #1967D2;\n",
              "      height: 32px;\n",
              "      padding: 0 0 0 0;\n",
              "      width: 32px;\n",
              "    }\n",
              "\n",
              "    .colab-df-convert:hover {\n",
              "      background-color: #E2EBFA;\n",
              "      box-shadow: 0px 1px 2px rgba(60, 64, 67, 0.3), 0px 1px 3px 1px rgba(60, 64, 67, 0.15);\n",
              "      fill: #174EA6;\n",
              "    }\n",
              "\n",
              "    [theme=dark] .colab-df-convert {\n",
              "      background-color: #3B4455;\n",
              "      fill: #D2E3FC;\n",
              "    }\n",
              "\n",
              "    [theme=dark] .colab-df-convert:hover {\n",
              "      background-color: #434B5C;\n",
              "      box-shadow: 0px 1px 3px 1px rgba(0, 0, 0, 0.15);\n",
              "      filter: drop-shadow(0px 1px 2px rgba(0, 0, 0, 0.3));\n",
              "      fill: #FFFFFF;\n",
              "    }\n",
              "  </style>\n",
              "\n",
              "      <script>\n",
              "        const buttonEl =\n",
              "          document.querySelector('#df-2158253b-3fba-4dfb-8b60-a2558cfbc903 button.colab-df-convert');\n",
              "        buttonEl.style.display =\n",
              "          google.colab.kernel.accessAllowed ? 'block' : 'none';\n",
              "\n",
              "        async function convertToInteractive(key) {\n",
              "          const element = document.querySelector('#df-2158253b-3fba-4dfb-8b60-a2558cfbc903');\n",
              "          const dataTable =\n",
              "            await google.colab.kernel.invokeFunction('convertToInteractive',\n",
              "                                                     [key], {});\n",
              "          if (!dataTable) return;\n",
              "\n",
              "          const docLinkHtml = 'Like what you see? Visit the ' +\n",
              "            '<a target=\"_blank\" href=https://colab.research.google.com/notebooks/data_table.ipynb>data table notebook</a>'\n",
              "            + ' to learn more about interactive tables.';\n",
              "          element.innerHTML = '';\n",
              "          dataTable['output_type'] = 'display_data';\n",
              "          await google.colab.output.renderOutput(dataTable, element);\n",
              "          const docLink = document.createElement('div');\n",
              "          docLink.innerHTML = docLinkHtml;\n",
              "          element.appendChild(docLink);\n",
              "        }\n",
              "      </script>\n",
              "    </div>\n",
              "  </div>\n",
              "  "
            ]
          },
          "metadata": {},
          "execution_count": 39
        }
      ]
    },
    {
      "cell_type": "code",
      "source": [
        "# calculate the Bag of Word in news data\n",
        "message_bow = CountVectorizer(analyzer=process_text).fit_transform(news_data['News Title'])\n",
        "message_bow.shape"
      ],
      "metadata": {
        "colab": {
          "base_uri": "https://localhost:8080/"
        },
        "id": "eDbAKBlvH4OT",
        "outputId": "40d69e72-f4dc-480a-b430-1726e99bba9e"
      },
      "execution_count": 41,
      "outputs": [
        {
          "output_type": "execute_result",
          "data": {
            "text/plain": [
              "(65535, 33751)"
            ]
          },
          "metadata": {},
          "execution_count": 41
        }
      ]
    },
    {
      "cell_type": "code",
      "source": [
        "#split the dataset into 80% training data and 20% testing data\n",
        "X_train_bow, X_test_bow, y_train_bow, y_test_bow = train_test_split(message_bow, news_data['Category'], test_size=0.20, random_state=0)"
      ],
      "metadata": {
        "id": "iKT7uWs4IcVh"
      },
      "execution_count": 43,
      "outputs": []
    },
    {
      "cell_type": "code",
      "source": [
        "# modelling and test the model with the test data\n",
        "modelling(MultinomialNB(), X_train_bow, y_train_bow, X_test_bow, y_test_bow)"
      ],
      "metadata": {
        "colab": {
          "base_uri": "https://localhost:8080/"
        },
        "id": "AMoZYUZqUw8c",
        "outputId": "be095fd6-59bc-406c-e8c3-01a9b223c084"
      },
      "execution_count": 44,
      "outputs": [
        {
          "output_type": "stream",
          "name": "stdout",
          "text": [
            "Training accuracy 93.94%\n",
            "Testing accuracy 90.63%\n"
          ]
        }
      ]
    },
    {
      "cell_type": "markdown",
      "source": [
        "#### TF-IDF\n",
        "- Term Frequency(TF), count the number of words occur in each document. \n",
        "  - The formula = “number of occurrences of the word in the document” / “number of words in the document”\n",
        "- IDF(Inverse Document Frequency), the amount of information a given word provides across the document.\n",
        "  - The formula = \"log(number of documents / number of documents that contain the word)\"\n",
        "\n",
        "In conclusion, TF-IDF is a way of measuring how relevant a word is to a document in a collection of documents.\n",
        "\n",
        "credit to [Fabio Ciusano, Two minutes NLP — Learn TF-IDF with easy examples](https://medium.com/nlplanet/two-minutes-nlp-learn-tf-idf-with-easy-examples-7c15957b4cb3)"
      ],
      "metadata": {
        "id": "AFEIZs-XI1yj"
      }
    },
    {
      "cell_type": "code",
      "source": [
        "idf_matrix = TfidfVectorizer(analyzer=process_text, min_df=0., max_df=1., use_idf=True).fit_transform(news_data['News Title'])\n",
        "idf_matrix.shape"
      ],
      "metadata": {
        "colab": {
          "base_uri": "https://localhost:8080/"
        },
        "id": "2yYXtETnI43r",
        "outputId": "c4cb580b-f498-48ce-99ed-c390d442f061"
      },
      "execution_count": 45,
      "outputs": [
        {
          "output_type": "execute_result",
          "data": {
            "text/plain": [
              "(65535, 33751)"
            ]
          },
          "metadata": {},
          "execution_count": 45
        }
      ]
    },
    {
      "cell_type": "code",
      "source": [
        "#split the dataset into 80% training data and 20% testing data\n",
        "X_train_idf, X_test_idf, y_train_idf, y_test_idf = train_test_split(idf_matrix, news_data['Category'], test_size=0.20, random_state=0)"
      ],
      "metadata": {
        "id": "rnb5E-TfRX2h"
      },
      "execution_count": 46,
      "outputs": []
    },
    {
      "cell_type": "code",
      "source": [
        "# modelling and test the model with the test data\n",
        "modelling(MultinomialNB(), X_train_idf, y_train_idf, X_test_idf, y_test_idf)"
      ],
      "metadata": {
        "colab": {
          "base_uri": "https://localhost:8080/"
        },
        "id": "-oCNnwEIUmAi",
        "outputId": "4b2c91f8-3c36-48e8-851b-386f1ab7946d"
      },
      "execution_count": 47,
      "outputs": [
        {
          "output_type": "stream",
          "name": "stdout",
          "text": [
            "Training accuracy 92.93%\n",
            "Testing accuracy 89.49%\n"
          ]
        }
      ]
    },
    {
      "cell_type": "markdown",
      "source": [
        "## Imbalance Dataset"
      ],
      "metadata": {
        "id": "niABmUScMm_C"
      }
    },
    {
      "cell_type": "code",
      "source": [
        "# human capital\n",
        "human_cap = pd.read_csv(\"https://raw.githubusercontent.com/densaiko/data_science_learning/main/dataset/Human%20Capital.csv\")\n",
        "print(\"Diabetes data contain {} rows and {} columns \\n\".format(human_cap.shape[0], human_cap.shape[1]))\n",
        "print(human_cap.info(), '\\n')\n",
        "human_cap.describe()"
      ],
      "metadata": {
        "colab": {
          "base_uri": "https://localhost:8080/",
          "height": 793
        },
        "id": "VSNxKvxsMojZ",
        "outputId": "fc49d056-ada7-4a89-f6de-f925bed7abd5"
      },
      "execution_count": 48,
      "outputs": [
        {
          "output_type": "stream",
          "name": "stdout",
          "text": [
            "Diabetes data contain 54808 rows and 13 columns \n",
            "\n",
            "<class 'pandas.core.frame.DataFrame'>\n",
            "RangeIndex: 54808 entries, 0 to 54807\n",
            "Data columns (total 13 columns):\n",
            " #   Column                Non-Null Count  Dtype  \n",
            "---  ------                --------------  -----  \n",
            " 0   employee_id           54808 non-null  int64  \n",
            " 1   department            54808 non-null  object \n",
            " 2   region                54808 non-null  object \n",
            " 3   education             52399 non-null  object \n",
            " 4   gender                54808 non-null  object \n",
            " 5   recruitment_channel   54808 non-null  object \n",
            " 6   no_of_trainings       54808 non-null  int64  \n",
            " 7   age                   54808 non-null  int64  \n",
            " 8   previous_year_rating  50684 non-null  float64\n",
            " 9   length_of_service     54808 non-null  int64  \n",
            " 10  awards_won            54808 non-null  int64  \n",
            " 11  avg_training_score    52248 non-null  float64\n",
            " 12  is_promoted           54808 non-null  int64  \n",
            "dtypes: float64(2), int64(6), object(5)\n",
            "memory usage: 5.4+ MB\n",
            "None \n",
            "\n"
          ]
        },
        {
          "output_type": "execute_result",
          "data": {
            "text/plain": [
              "        employee_id  no_of_trainings           age  previous_year_rating  \\\n",
              "count  54808.000000     54808.000000  54808.000000          50684.000000   \n",
              "mean   39195.830627         1.253011     34.803915              3.329256   \n",
              "std    22586.581449         0.609264      7.660169              1.259993   \n",
              "min        1.000000         1.000000     20.000000              1.000000   \n",
              "25%    19669.750000         1.000000     29.000000              3.000000   \n",
              "50%    39225.500000         1.000000     33.000000              3.000000   \n",
              "75%    58730.500000         1.000000     39.000000              4.000000   \n",
              "max    78298.000000        10.000000     60.000000              5.000000   \n",
              "\n",
              "       length_of_service    awards_won  avg_training_score   is_promoted  \n",
              "count       54808.000000  54808.000000        52248.000000  54808.000000  \n",
              "mean            5.865512      0.023172           63.712238      0.085170  \n",
              "std             4.265094      0.150450           13.521910      0.279137  \n",
              "min             1.000000      0.000000           39.000000      0.000000  \n",
              "25%             3.000000      0.000000           51.000000      0.000000  \n",
              "50%             5.000000      0.000000           60.000000      0.000000  \n",
              "75%             7.000000      0.000000           77.000000      0.000000  \n",
              "max            37.000000      1.000000           99.000000      1.000000  "
            ],
            "text/html": [
              "\n",
              "  <div id=\"df-193fcf0c-949d-48f2-a190-2b7dabd7d868\">\n",
              "    <div class=\"colab-df-container\">\n",
              "      <div>\n",
              "<style scoped>\n",
              "    .dataframe tbody tr th:only-of-type {\n",
              "        vertical-align: middle;\n",
              "    }\n",
              "\n",
              "    .dataframe tbody tr th {\n",
              "        vertical-align: top;\n",
              "    }\n",
              "\n",
              "    .dataframe thead th {\n",
              "        text-align: right;\n",
              "    }\n",
              "</style>\n",
              "<table border=\"1\" class=\"dataframe\">\n",
              "  <thead>\n",
              "    <tr style=\"text-align: right;\">\n",
              "      <th></th>\n",
              "      <th>employee_id</th>\n",
              "      <th>no_of_trainings</th>\n",
              "      <th>age</th>\n",
              "      <th>previous_year_rating</th>\n",
              "      <th>length_of_service</th>\n",
              "      <th>awards_won</th>\n",
              "      <th>avg_training_score</th>\n",
              "      <th>is_promoted</th>\n",
              "    </tr>\n",
              "  </thead>\n",
              "  <tbody>\n",
              "    <tr>\n",
              "      <th>count</th>\n",
              "      <td>54808.000000</td>\n",
              "      <td>54808.000000</td>\n",
              "      <td>54808.000000</td>\n",
              "      <td>50684.000000</td>\n",
              "      <td>54808.000000</td>\n",
              "      <td>54808.000000</td>\n",
              "      <td>52248.000000</td>\n",
              "      <td>54808.000000</td>\n",
              "    </tr>\n",
              "    <tr>\n",
              "      <th>mean</th>\n",
              "      <td>39195.830627</td>\n",
              "      <td>1.253011</td>\n",
              "      <td>34.803915</td>\n",
              "      <td>3.329256</td>\n",
              "      <td>5.865512</td>\n",
              "      <td>0.023172</td>\n",
              "      <td>63.712238</td>\n",
              "      <td>0.085170</td>\n",
              "    </tr>\n",
              "    <tr>\n",
              "      <th>std</th>\n",
              "      <td>22586.581449</td>\n",
              "      <td>0.609264</td>\n",
              "      <td>7.660169</td>\n",
              "      <td>1.259993</td>\n",
              "      <td>4.265094</td>\n",
              "      <td>0.150450</td>\n",
              "      <td>13.521910</td>\n",
              "      <td>0.279137</td>\n",
              "    </tr>\n",
              "    <tr>\n",
              "      <th>min</th>\n",
              "      <td>1.000000</td>\n",
              "      <td>1.000000</td>\n",
              "      <td>20.000000</td>\n",
              "      <td>1.000000</td>\n",
              "      <td>1.000000</td>\n",
              "      <td>0.000000</td>\n",
              "      <td>39.000000</td>\n",
              "      <td>0.000000</td>\n",
              "    </tr>\n",
              "    <tr>\n",
              "      <th>25%</th>\n",
              "      <td>19669.750000</td>\n",
              "      <td>1.000000</td>\n",
              "      <td>29.000000</td>\n",
              "      <td>3.000000</td>\n",
              "      <td>3.000000</td>\n",
              "      <td>0.000000</td>\n",
              "      <td>51.000000</td>\n",
              "      <td>0.000000</td>\n",
              "    </tr>\n",
              "    <tr>\n",
              "      <th>50%</th>\n",
              "      <td>39225.500000</td>\n",
              "      <td>1.000000</td>\n",
              "      <td>33.000000</td>\n",
              "      <td>3.000000</td>\n",
              "      <td>5.000000</td>\n",
              "      <td>0.000000</td>\n",
              "      <td>60.000000</td>\n",
              "      <td>0.000000</td>\n",
              "    </tr>\n",
              "    <tr>\n",
              "      <th>75%</th>\n",
              "      <td>58730.500000</td>\n",
              "      <td>1.000000</td>\n",
              "      <td>39.000000</td>\n",
              "      <td>4.000000</td>\n",
              "      <td>7.000000</td>\n",
              "      <td>0.000000</td>\n",
              "      <td>77.000000</td>\n",
              "      <td>0.000000</td>\n",
              "    </tr>\n",
              "    <tr>\n",
              "      <th>max</th>\n",
              "      <td>78298.000000</td>\n",
              "      <td>10.000000</td>\n",
              "      <td>60.000000</td>\n",
              "      <td>5.000000</td>\n",
              "      <td>37.000000</td>\n",
              "      <td>1.000000</td>\n",
              "      <td>99.000000</td>\n",
              "      <td>1.000000</td>\n",
              "    </tr>\n",
              "  </tbody>\n",
              "</table>\n",
              "</div>\n",
              "      <button class=\"colab-df-convert\" onclick=\"convertToInteractive('df-193fcf0c-949d-48f2-a190-2b7dabd7d868')\"\n",
              "              title=\"Convert this dataframe to an interactive table.\"\n",
              "              style=\"display:none;\">\n",
              "        \n",
              "  <svg xmlns=\"http://www.w3.org/2000/svg\" height=\"24px\"viewBox=\"0 0 24 24\"\n",
              "       width=\"24px\">\n",
              "    <path d=\"M0 0h24v24H0V0z\" fill=\"none\"/>\n",
              "    <path d=\"M18.56 5.44l.94 2.06.94-2.06 2.06-.94-2.06-.94-.94-2.06-.94 2.06-2.06.94zm-11 1L8.5 8.5l.94-2.06 2.06-.94-2.06-.94L8.5 2.5l-.94 2.06-2.06.94zm10 10l.94 2.06.94-2.06 2.06-.94-2.06-.94-.94-2.06-.94 2.06-2.06.94z\"/><path d=\"M17.41 7.96l-1.37-1.37c-.4-.4-.92-.59-1.43-.59-.52 0-1.04.2-1.43.59L10.3 9.45l-7.72 7.72c-.78.78-.78 2.05 0 2.83L4 21.41c.39.39.9.59 1.41.59.51 0 1.02-.2 1.41-.59l7.78-7.78 2.81-2.81c.8-.78.8-2.07 0-2.86zM5.41 20L4 18.59l7.72-7.72 1.47 1.35L5.41 20z\"/>\n",
              "  </svg>\n",
              "      </button>\n",
              "      \n",
              "  <style>\n",
              "    .colab-df-container {\n",
              "      display:flex;\n",
              "      flex-wrap:wrap;\n",
              "      gap: 12px;\n",
              "    }\n",
              "\n",
              "    .colab-df-convert {\n",
              "      background-color: #E8F0FE;\n",
              "      border: none;\n",
              "      border-radius: 50%;\n",
              "      cursor: pointer;\n",
              "      display: none;\n",
              "      fill: #1967D2;\n",
              "      height: 32px;\n",
              "      padding: 0 0 0 0;\n",
              "      width: 32px;\n",
              "    }\n",
              "\n",
              "    .colab-df-convert:hover {\n",
              "      background-color: #E2EBFA;\n",
              "      box-shadow: 0px 1px 2px rgba(60, 64, 67, 0.3), 0px 1px 3px 1px rgba(60, 64, 67, 0.15);\n",
              "      fill: #174EA6;\n",
              "    }\n",
              "\n",
              "    [theme=dark] .colab-df-convert {\n",
              "      background-color: #3B4455;\n",
              "      fill: #D2E3FC;\n",
              "    }\n",
              "\n",
              "    [theme=dark] .colab-df-convert:hover {\n",
              "      background-color: #434B5C;\n",
              "      box-shadow: 0px 1px 3px 1px rgba(0, 0, 0, 0.15);\n",
              "      filter: drop-shadow(0px 1px 2px rgba(0, 0, 0, 0.3));\n",
              "      fill: #FFFFFF;\n",
              "    }\n",
              "  </style>\n",
              "\n",
              "      <script>\n",
              "        const buttonEl =\n",
              "          document.querySelector('#df-193fcf0c-949d-48f2-a190-2b7dabd7d868 button.colab-df-convert');\n",
              "        buttonEl.style.display =\n",
              "          google.colab.kernel.accessAllowed ? 'block' : 'none';\n",
              "\n",
              "        async function convertToInteractive(key) {\n",
              "          const element = document.querySelector('#df-193fcf0c-949d-48f2-a190-2b7dabd7d868');\n",
              "          const dataTable =\n",
              "            await google.colab.kernel.invokeFunction('convertToInteractive',\n",
              "                                                     [key], {});\n",
              "          if (!dataTable) return;\n",
              "\n",
              "          const docLinkHtml = 'Like what you see? Visit the ' +\n",
              "            '<a target=\"_blank\" href=https://colab.research.google.com/notebooks/data_table.ipynb>data table notebook</a>'\n",
              "            + ' to learn more about interactive tables.';\n",
              "          element.innerHTML = '';\n",
              "          dataTable['output_type'] = 'display_data';\n",
              "          await google.colab.output.renderOutput(dataTable, element);\n",
              "          const docLink = document.createElement('div');\n",
              "          docLink.innerHTML = docLinkHtml;\n",
              "          element.appendChild(docLink);\n",
              "        }\n",
              "      </script>\n",
              "    </div>\n",
              "  </div>\n",
              "  "
            ]
          },
          "metadata": {},
          "execution_count": 48
        }
      ]
    },
    {
      "cell_type": "code",
      "source": [
        "def label_encoding(data):\n",
        "  \"\"\"\n",
        "  Let's encode the non_numerical data into a numerical value\n",
        "  data: your dataset\n",
        "  \"\"\"\n",
        "  \n",
        "  data_new = data.copy()\n",
        "  data_new = data_new.dropna()\n",
        "\n",
        "  #find non numerical variable/field\n",
        "  object_data = data_new.select_dtypes(include=['object']).columns.to_list()\n",
        "\n",
        "  #label encoder object\n",
        "  label_encoding = LabelEncoder()\n",
        "\n",
        "  #encode the data into a label\n",
        "  for i in object_data:\n",
        "    data_new[i] = label_encoding.fit_transform(data_new[i])\n",
        "\n",
        "  return data_new"
      ],
      "metadata": {
        "id": "l57Zg9TuOoNR"
      },
      "execution_count": 49,
      "outputs": []
    },
    {
      "cell_type": "code",
      "source": [
        "new_human_cap = label_encoding(human_cap)\n",
        "new_human_cap.head()"
      ],
      "metadata": {
        "colab": {
          "base_uri": "https://localhost:8080/",
          "height": 270
        },
        "id": "MpbKu62jOp0t",
        "outputId": "50868624-19b1-4e77-c1e6-920df9a8cd5f"
      },
      "execution_count": 50,
      "outputs": [
        {
          "output_type": "execute_result",
          "data": {
            "text/plain": [
              "   employee_id  department  region  education  gender  recruitment_channel  \\\n",
              "0        65438           7      31          2       0                    2   \n",
              "1        65141           4      14          0       1                    0   \n",
              "2         7513           7      10          0       1                    2   \n",
              "3         2542           7      15          0       1                    0   \n",
              "4        48945           8      18          0       1                    0   \n",
              "\n",
              "   no_of_trainings  age  previous_year_rating  length_of_service  awards_won  \\\n",
              "0                1   35                   5.0                  8           0   \n",
              "1                1   30                   5.0                  4           0   \n",
              "2                1   34                   3.0                  7           0   \n",
              "3                2   39                   1.0                 10           0   \n",
              "4                1   45                   3.0                  2           0   \n",
              "\n",
              "   avg_training_score  is_promoted  \n",
              "0                49.0            0  \n",
              "1                60.0            0  \n",
              "2                50.0            0  \n",
              "3                50.0            0  \n",
              "4                73.0            0  "
            ],
            "text/html": [
              "\n",
              "  <div id=\"df-ca0b51b8-7ad4-43bf-88f8-e806492870a9\">\n",
              "    <div class=\"colab-df-container\">\n",
              "      <div>\n",
              "<style scoped>\n",
              "    .dataframe tbody tr th:only-of-type {\n",
              "        vertical-align: middle;\n",
              "    }\n",
              "\n",
              "    .dataframe tbody tr th {\n",
              "        vertical-align: top;\n",
              "    }\n",
              "\n",
              "    .dataframe thead th {\n",
              "        text-align: right;\n",
              "    }\n",
              "</style>\n",
              "<table border=\"1\" class=\"dataframe\">\n",
              "  <thead>\n",
              "    <tr style=\"text-align: right;\">\n",
              "      <th></th>\n",
              "      <th>employee_id</th>\n",
              "      <th>department</th>\n",
              "      <th>region</th>\n",
              "      <th>education</th>\n",
              "      <th>gender</th>\n",
              "      <th>recruitment_channel</th>\n",
              "      <th>no_of_trainings</th>\n",
              "      <th>age</th>\n",
              "      <th>previous_year_rating</th>\n",
              "      <th>length_of_service</th>\n",
              "      <th>awards_won</th>\n",
              "      <th>avg_training_score</th>\n",
              "      <th>is_promoted</th>\n",
              "    </tr>\n",
              "  </thead>\n",
              "  <tbody>\n",
              "    <tr>\n",
              "      <th>0</th>\n",
              "      <td>65438</td>\n",
              "      <td>7</td>\n",
              "      <td>31</td>\n",
              "      <td>2</td>\n",
              "      <td>0</td>\n",
              "      <td>2</td>\n",
              "      <td>1</td>\n",
              "      <td>35</td>\n",
              "      <td>5.0</td>\n",
              "      <td>8</td>\n",
              "      <td>0</td>\n",
              "      <td>49.0</td>\n",
              "      <td>0</td>\n",
              "    </tr>\n",
              "    <tr>\n",
              "      <th>1</th>\n",
              "      <td>65141</td>\n",
              "      <td>4</td>\n",
              "      <td>14</td>\n",
              "      <td>0</td>\n",
              "      <td>1</td>\n",
              "      <td>0</td>\n",
              "      <td>1</td>\n",
              "      <td>30</td>\n",
              "      <td>5.0</td>\n",
              "      <td>4</td>\n",
              "      <td>0</td>\n",
              "      <td>60.0</td>\n",
              "      <td>0</td>\n",
              "    </tr>\n",
              "    <tr>\n",
              "      <th>2</th>\n",
              "      <td>7513</td>\n",
              "      <td>7</td>\n",
              "      <td>10</td>\n",
              "      <td>0</td>\n",
              "      <td>1</td>\n",
              "      <td>2</td>\n",
              "      <td>1</td>\n",
              "      <td>34</td>\n",
              "      <td>3.0</td>\n",
              "      <td>7</td>\n",
              "      <td>0</td>\n",
              "      <td>50.0</td>\n",
              "      <td>0</td>\n",
              "    </tr>\n",
              "    <tr>\n",
              "      <th>3</th>\n",
              "      <td>2542</td>\n",
              "      <td>7</td>\n",
              "      <td>15</td>\n",
              "      <td>0</td>\n",
              "      <td>1</td>\n",
              "      <td>0</td>\n",
              "      <td>2</td>\n",
              "      <td>39</td>\n",
              "      <td>1.0</td>\n",
              "      <td>10</td>\n",
              "      <td>0</td>\n",
              "      <td>50.0</td>\n",
              "      <td>0</td>\n",
              "    </tr>\n",
              "    <tr>\n",
              "      <th>4</th>\n",
              "      <td>48945</td>\n",
              "      <td>8</td>\n",
              "      <td>18</td>\n",
              "      <td>0</td>\n",
              "      <td>1</td>\n",
              "      <td>0</td>\n",
              "      <td>1</td>\n",
              "      <td>45</td>\n",
              "      <td>3.0</td>\n",
              "      <td>2</td>\n",
              "      <td>0</td>\n",
              "      <td>73.0</td>\n",
              "      <td>0</td>\n",
              "    </tr>\n",
              "  </tbody>\n",
              "</table>\n",
              "</div>\n",
              "      <button class=\"colab-df-convert\" onclick=\"convertToInteractive('df-ca0b51b8-7ad4-43bf-88f8-e806492870a9')\"\n",
              "              title=\"Convert this dataframe to an interactive table.\"\n",
              "              style=\"display:none;\">\n",
              "        \n",
              "  <svg xmlns=\"http://www.w3.org/2000/svg\" height=\"24px\"viewBox=\"0 0 24 24\"\n",
              "       width=\"24px\">\n",
              "    <path d=\"M0 0h24v24H0V0z\" fill=\"none\"/>\n",
              "    <path d=\"M18.56 5.44l.94 2.06.94-2.06 2.06-.94-2.06-.94-.94-2.06-.94 2.06-2.06.94zm-11 1L8.5 8.5l.94-2.06 2.06-.94-2.06-.94L8.5 2.5l-.94 2.06-2.06.94zm10 10l.94 2.06.94-2.06 2.06-.94-2.06-.94-.94-2.06-.94 2.06-2.06.94z\"/><path d=\"M17.41 7.96l-1.37-1.37c-.4-.4-.92-.59-1.43-.59-.52 0-1.04.2-1.43.59L10.3 9.45l-7.72 7.72c-.78.78-.78 2.05 0 2.83L4 21.41c.39.39.9.59 1.41.59.51 0 1.02-.2 1.41-.59l7.78-7.78 2.81-2.81c.8-.78.8-2.07 0-2.86zM5.41 20L4 18.59l7.72-7.72 1.47 1.35L5.41 20z\"/>\n",
              "  </svg>\n",
              "      </button>\n",
              "      \n",
              "  <style>\n",
              "    .colab-df-container {\n",
              "      display:flex;\n",
              "      flex-wrap:wrap;\n",
              "      gap: 12px;\n",
              "    }\n",
              "\n",
              "    .colab-df-convert {\n",
              "      background-color: #E8F0FE;\n",
              "      border: none;\n",
              "      border-radius: 50%;\n",
              "      cursor: pointer;\n",
              "      display: none;\n",
              "      fill: #1967D2;\n",
              "      height: 32px;\n",
              "      padding: 0 0 0 0;\n",
              "      width: 32px;\n",
              "    }\n",
              "\n",
              "    .colab-df-convert:hover {\n",
              "      background-color: #E2EBFA;\n",
              "      box-shadow: 0px 1px 2px rgba(60, 64, 67, 0.3), 0px 1px 3px 1px rgba(60, 64, 67, 0.15);\n",
              "      fill: #174EA6;\n",
              "    }\n",
              "\n",
              "    [theme=dark] .colab-df-convert {\n",
              "      background-color: #3B4455;\n",
              "      fill: #D2E3FC;\n",
              "    }\n",
              "\n",
              "    [theme=dark] .colab-df-convert:hover {\n",
              "      background-color: #434B5C;\n",
              "      box-shadow: 0px 1px 3px 1px rgba(0, 0, 0, 0.15);\n",
              "      filter: drop-shadow(0px 1px 2px rgba(0, 0, 0, 0.3));\n",
              "      fill: #FFFFFF;\n",
              "    }\n",
              "  </style>\n",
              "\n",
              "      <script>\n",
              "        const buttonEl =\n",
              "          document.querySelector('#df-ca0b51b8-7ad4-43bf-88f8-e806492870a9 button.colab-df-convert');\n",
              "        buttonEl.style.display =\n",
              "          google.colab.kernel.accessAllowed ? 'block' : 'none';\n",
              "\n",
              "        async function convertToInteractive(key) {\n",
              "          const element = document.querySelector('#df-ca0b51b8-7ad4-43bf-88f8-e806492870a9');\n",
              "          const dataTable =\n",
              "            await google.colab.kernel.invokeFunction('convertToInteractive',\n",
              "                                                     [key], {});\n",
              "          if (!dataTable) return;\n",
              "\n",
              "          const docLinkHtml = 'Like what you see? Visit the ' +\n",
              "            '<a target=\"_blank\" href=https://colab.research.google.com/notebooks/data_table.ipynb>data table notebook</a>'\n",
              "            + ' to learn more about interactive tables.';\n",
              "          element.innerHTML = '';\n",
              "          dataTable['output_type'] = 'display_data';\n",
              "          await google.colab.output.renderOutput(dataTable, element);\n",
              "          const docLink = document.createElement('div');\n",
              "          docLink.innerHTML = docLinkHtml;\n",
              "          element.appendChild(docLink);\n",
              "        }\n",
              "      </script>\n",
              "    </div>\n",
              "  </div>\n",
              "  "
            ]
          },
          "metadata": {},
          "execution_count": 50
        }
      ]
    },
    {
      "cell_type": "code",
      "source": [
        "X = new_human_cap.drop('is_promoted', axis=1)\n",
        "y = new_human_cap['is_promoted']\n",
        "\n",
        "#implement train test split\n",
        "X_train, X_test, y_train, y_test = train_test_split(X, y, test_size=0.2, random_state=43)"
      ],
      "metadata": {
        "id": "LIQrYe31M3yH"
      },
      "execution_count": 51,
      "outputs": []
    },
    {
      "cell_type": "code",
      "source": [
        "def modelling(X_train, y_train, X_test, y_test):\n",
        "\n",
        "  # modelling with logistic regression\n",
        "  clf = GradientBoostingClassifier()\n",
        "  clf.fit(X_train, y_train)\n",
        "\n",
        "  # Evaluation\n",
        "  y_predict_train = clf.predict(X_train)\n",
        "  y_predict_test = clf.predict(X_test)\n",
        "\n",
        "  training_acc = accuracy_score(y_train, y_predict_train)\n",
        "  testing_acc = accuracy_score(y_test, y_predict_test)\n",
        "\n",
        "  print(\"Training Accuracy: {}\".format(training_acc))\n",
        "  print(\"Testing Accuracy: {}\".format(testing_acc))"
      ],
      "metadata": {
        "id": "mPcWJjrSPPgB"
      },
      "execution_count": 52,
      "outputs": []
    },
    {
      "cell_type": "code",
      "source": [
        "modelling(X_train, y_train, X_test, y_test)"
      ],
      "metadata": {
        "colab": {
          "base_uri": "https://localhost:8080/"
        },
        "id": "FvqcgB1yQOIa",
        "outputId": "48046b66-0b66-4450-da92-3435eb7b3e72"
      },
      "execution_count": 53,
      "outputs": [
        {
          "output_type": "stream",
          "name": "stdout",
          "text": [
            "Training Accuracy: 0.9356673134971971\n",
            "Testing Accuracy: 0.9379042690815006\n"
          ]
        }
      ]
    },
    {
      "cell_type": "markdown",
      "source": [
        "### Oversampling"
      ],
      "metadata": {
        "id": "BAz5upQPNA-A"
      }
    },
    {
      "cell_type": "code",
      "source": [
        "#set the oversampling\n",
        "oversample = RandomOverSampler(sampling_strategy=0.5) #set your strategy\n",
        "\n",
        "#fit the data\n",
        "X_over, y_over = oversample.fit_resample(X_train, y_train)\n",
        "\n",
        "print(Counter(y_train))\n",
        "print(Counter(y_over))"
      ],
      "metadata": {
        "colab": {
          "base_uri": "https://localhost:8080/"
        },
        "id": "gSzSAr2YMtan",
        "outputId": "95fb597c-35d1-4edd-c072-2d1bf449e991"
      },
      "execution_count": 55,
      "outputs": [
        {
          "output_type": "stream",
          "name": "stdout",
          "text": [
            "Counter({0: 33805, 1: 3299})\n",
            "Counter({0: 33805, 1: 16902})\n"
          ]
        }
      ]
    },
    {
      "cell_type": "code",
      "source": [
        "modelling(X_over, y_over, X_test, y_test)"
      ],
      "metadata": {
        "colab": {
          "base_uri": "https://localhost:8080/"
        },
        "id": "MXhKD1sUPtT2",
        "outputId": "78c4d26d-99d9-4bb0-92fe-f7279f4fd992"
      },
      "execution_count": 56,
      "outputs": [
        {
          "output_type": "stream",
          "name": "stdout",
          "text": [
            "Training Accuracy: 0.8003628690318891\n",
            "Testing Accuracy: 0.9055627425614489\n"
          ]
        }
      ]
    },
    {
      "cell_type": "markdown",
      "source": [
        "### Undersampling"
      ],
      "metadata": {
        "id": "aj5V4eiONDAw"
      }
    },
    {
      "cell_type": "code",
      "source": [
        "#set the undersampling\n",
        "undersample = RandomUnderSampler(sampling_strategy=0.5) #set your strategy\n",
        "\n",
        "#fit the data\n",
        "X_under, y_under = undersample.fit_resample(X_train, y_train)\n",
        "\n",
        "print(Counter(y_train))\n",
        "print(Counter(y_under))"
      ],
      "metadata": {
        "colab": {
          "base_uri": "https://localhost:8080/"
        },
        "id": "6bj5huNjM_Nz",
        "outputId": "6bc2344e-e42b-4ec1-f399-03965aae753c"
      },
      "execution_count": 57,
      "outputs": [
        {
          "output_type": "stream",
          "name": "stdout",
          "text": [
            "Counter({0: 33805, 1: 3299})\n",
            "Counter({0: 6598, 1: 3299})\n"
          ]
        }
      ]
    },
    {
      "cell_type": "code",
      "source": [
        "modelling(X_under, y_under, X_test, y_test)"
      ],
      "metadata": {
        "colab": {
          "base_uri": "https://localhost:8080/"
        },
        "id": "leP-WyaUP3Bf",
        "outputId": "b9856138-706e-4fab-e0e2-f847ed78f15c"
      },
      "execution_count": 58,
      "outputs": [
        {
          "output_type": "stream",
          "name": "stdout",
          "text": [
            "Training Accuracy: 0.7966050318278266\n",
            "Testing Accuracy: 0.8988788270806382\n"
          ]
        }
      ]
    },
    {
      "cell_type": "markdown",
      "source": [
        "### SMOTE"
      ],
      "metadata": {
        "id": "DJlGRRKgNJH1"
      }
    },
    {
      "cell_type": "code",
      "source": [
        "# Handling imbalance data\n",
        "from imblearn.over_sampling import SMOTE\n",
        "\n",
        "sm = SMOTE(random_state=43, sampling_strategy=0.5)\n",
        "\n",
        "# Fit the over sampling\n",
        "X_train_smote, y_train_smote = sm.fit_resample(X_train, y_train)\n",
        "\n",
        "print(\"Before over sampling: {}\".format(Counter(y_train)))\n",
        "print(\"After over sampling: {}\".format(Counter(y_train_smote)))"
      ],
      "metadata": {
        "colab": {
          "base_uri": "https://localhost:8080/"
        },
        "id": "RtkuUvxGNGF_",
        "outputId": "7ed9cef5-ab77-4042-b62e-a03529d7d615"
      },
      "execution_count": 59,
      "outputs": [
        {
          "output_type": "stream",
          "name": "stdout",
          "text": [
            "Before over sampling: Counter({0: 33805, 1: 3299})\n",
            "After over sampling: Counter({0: 33805, 1: 16902})\n"
          ]
        }
      ]
    },
    {
      "cell_type": "code",
      "source": [
        "modelling(X_train_smote, y_train_smote, X_test, y_test)"
      ],
      "metadata": {
        "colab": {
          "base_uri": "https://localhost:8080/"
        },
        "id": "d3Rv4K4kOEuf",
        "outputId": "835687b3-22c0-4d68-8b01-7819592ffd28"
      },
      "execution_count": 60,
      "outputs": [
        {
          "output_type": "stream",
          "name": "stdout",
          "text": [
            "Training Accuracy: 0.9120634231960084\n",
            "Testing Accuracy: 0.9223803363518758\n"
          ]
        }
      ]
    },
    {
      "cell_type": "code",
      "source": [],
      "metadata": {
        "id": "9f_YX-hG2dCu"
      },
      "execution_count": null,
      "outputs": []
    }
  ]
}