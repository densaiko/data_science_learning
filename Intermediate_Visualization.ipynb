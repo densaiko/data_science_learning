{
  "nbformat": 4,
  "nbformat_minor": 0,
  "metadata": {
    "colab": {
      "name": "Intermediate Visualization",
      "provenance": [],
      "collapsed_sections": [],
      "authorship_tag": "ABX9TyN0xiyz+H56vJahwrURIGtI"
    },
    "kernelspec": {
      "name": "python3",
      "display_name": "Python 3"
    },
    "language_info": {
      "name": "python"
    }
  },
  "cells": [
    {
      "cell_type": "markdown",
      "metadata": {
        "id": "o8irP3T2aQr8"
      },
      "source": [
        "# Intermediate Visualization\n",
        "created by Ari Sulistiyo Prabowo\n",
        "\n",
        "This notebook is created to teach student about an advanced statistic. All the code is free to reuse by everyone.\n",
        "\n",
        "**Contents**\n",
        "- Box plot\n",
        "- Scatter plot\n",
        "- Annotation\n",
        "- Axis\n",
        "- Legend\n",
        "\n",
        "_____"
      ]
    },
    {
      "cell_type": "code",
      "metadata": {
        "colab": {
          "base_uri": "https://localhost:8080/",
          "height": 302
        },
        "id": "L6OrOncckfvh",
        "outputId": "33910b93-2c3b-45fb-a152-38b5d0b66585"
      },
      "source": [
        "# Import library\n",
        "import matplotlib.pyplot as plt\n",
        "import numpy as np\n",
        "import pandas as pd\n",
        "\n",
        "data = pd.read_csv(\"https://raw.githubusercontent.com/densaiko/data_science_learning/main/dataset/Transformer.csv\")\n",
        "data.head()"
      ],
      "execution_count": null,
      "outputs": [
        {
          "output_type": "execute_result",
          "data": {
            "text/html": [
              "<div>\n",
              "<style scoped>\n",
              "    .dataframe tbody tr th:only-of-type {\n",
              "        vertical-align: middle;\n",
              "    }\n",
              "\n",
              "    .dataframe tbody tr th {\n",
              "        vertical-align: top;\n",
              "    }\n",
              "\n",
              "    .dataframe thead th {\n",
              "        text-align: right;\n",
              "    }\n",
              "</style>\n",
              "<table border=\"1\" class=\"dataframe\">\n",
              "  <thead>\n",
              "    <tr style=\"text-align: right;\">\n",
              "      <th></th>\n",
              "      <th>Unnamed: 0</th>\n",
              "      <th>Hydrogen</th>\n",
              "      <th>Oxigen</th>\n",
              "      <th>Nitrogen</th>\n",
              "      <th>Methane</th>\n",
              "      <th>CO</th>\n",
              "      <th>CO2</th>\n",
              "      <th>Ethylene</th>\n",
              "      <th>Ethane</th>\n",
              "      <th>Acethylene</th>\n",
              "      <th>DBDS</th>\n",
              "      <th>Power factor</th>\n",
              "      <th>Interfacial V</th>\n",
              "      <th>Dielectric rigidity</th>\n",
              "      <th>Water content</th>\n",
              "      <th>Health index</th>\n",
              "      <th>Life expectation</th>\n",
              "      <th>event</th>\n",
              "    </tr>\n",
              "  </thead>\n",
              "  <tbody>\n",
              "    <tr>\n",
              "      <th>0</th>\n",
              "      <td>0</td>\n",
              "      <td>2845</td>\n",
              "      <td>5860</td>\n",
              "      <td>27842</td>\n",
              "      <td>7406</td>\n",
              "      <td>32</td>\n",
              "      <td>1344</td>\n",
              "      <td>16684</td>\n",
              "      <td>5467</td>\n",
              "      <td>7</td>\n",
              "      <td>19.0</td>\n",
              "      <td>1.00</td>\n",
              "      <td>45</td>\n",
              "      <td>55</td>\n",
              "      <td>0</td>\n",
              "      <td>95.2</td>\n",
              "      <td>19.0</td>\n",
              "      <td>Not Working</td>\n",
              "    </tr>\n",
              "    <tr>\n",
              "      <th>1</th>\n",
              "      <td>1</td>\n",
              "      <td>12886</td>\n",
              "      <td>61</td>\n",
              "      <td>25041</td>\n",
              "      <td>877</td>\n",
              "      <td>83</td>\n",
              "      <td>864</td>\n",
              "      <td>4</td>\n",
              "      <td>305</td>\n",
              "      <td>0</td>\n",
              "      <td>45.0</td>\n",
              "      <td>1.00</td>\n",
              "      <td>45</td>\n",
              "      <td>55</td>\n",
              "      <td>0</td>\n",
              "      <td>85.5</td>\n",
              "      <td>19.0</td>\n",
              "      <td>Not Working</td>\n",
              "    </tr>\n",
              "    <tr>\n",
              "      <th>2</th>\n",
              "      <td>2</td>\n",
              "      <td>2820</td>\n",
              "      <td>16400</td>\n",
              "      <td>56300</td>\n",
              "      <td>144</td>\n",
              "      <td>257</td>\n",
              "      <td>1080</td>\n",
              "      <td>206</td>\n",
              "      <td>11</td>\n",
              "      <td>2190</td>\n",
              "      <td>1.0</td>\n",
              "      <td>1.00</td>\n",
              "      <td>39</td>\n",
              "      <td>52</td>\n",
              "      <td>11</td>\n",
              "      <td>85.3</td>\n",
              "      <td>19.0</td>\n",
              "      <td>Not Working</td>\n",
              "    </tr>\n",
              "    <tr>\n",
              "      <th>3</th>\n",
              "      <td>3</td>\n",
              "      <td>1099</td>\n",
              "      <td>70</td>\n",
              "      <td>37520</td>\n",
              "      <td>545</td>\n",
              "      <td>184</td>\n",
              "      <td>1402</td>\n",
              "      <td>6</td>\n",
              "      <td>230</td>\n",
              "      <td>0</td>\n",
              "      <td>87.0</td>\n",
              "      <td>4.58</td>\n",
              "      <td>33</td>\n",
              "      <td>49</td>\n",
              "      <td>5</td>\n",
              "      <td>85.3</td>\n",
              "      <td>6.0</td>\n",
              "      <td>Not Working</td>\n",
              "    </tr>\n",
              "    <tr>\n",
              "      <th>4</th>\n",
              "      <td>4</td>\n",
              "      <td>3210</td>\n",
              "      <td>3570</td>\n",
              "      <td>47900</td>\n",
              "      <td>160</td>\n",
              "      <td>360</td>\n",
              "      <td>2130</td>\n",
              "      <td>4</td>\n",
              "      <td>43</td>\n",
              "      <td>4</td>\n",
              "      <td>1.0</td>\n",
              "      <td>0.77</td>\n",
              "      <td>44</td>\n",
              "      <td>55</td>\n",
              "      <td>3</td>\n",
              "      <td>85.2</td>\n",
              "      <td>6.0</td>\n",
              "      <td>Not Working</td>\n",
              "    </tr>\n",
              "  </tbody>\n",
              "</table>\n",
              "</div>"
            ],
            "text/plain": [
              "   Unnamed: 0  Hydrogen  Oxigen  ...  Health index  Life expectation        event\n",
              "0           0      2845    5860  ...          95.2              19.0  Not Working\n",
              "1           1     12886      61  ...          85.5              19.0  Not Working\n",
              "2           2      2820   16400  ...          85.3              19.0  Not Working\n",
              "3           3      1099      70  ...          85.3               6.0  Not Working\n",
              "4           4      3210    3570  ...          85.2               6.0  Not Working\n",
              "\n",
              "[5 rows x 18 columns]"
            ]
          },
          "metadata": {
            "tags": []
          },
          "execution_count": 31
        }
      ]
    },
    {
      "cell_type": "markdown",
      "metadata": {
        "id": "Sv3TWz6uS7sP"
      },
      "source": [
        "## Boxplot"
      ]
    },
    {
      "cell_type": "code",
      "metadata": {
        "colab": {
          "base_uri": "https://localhost:8080/",
          "height": 264
        },
        "id": "DedxwW1QS7Hs",
        "outputId": "13e7ed60-50ea-4a4a-da56-cfc5860241f9"
      },
      "source": [
        "# Univariate boxplot\n",
        "# plt.boxplot(x=data['CO'], vert=True)\n",
        "data['CO'].plot(kind='box', vert=False)\n",
        "plt.show()"
      ],
      "execution_count": null,
      "outputs": [
        {
          "output_type": "display_data",
          "data": {
            "image/png": "[encoded data removed]",
            "text/plain": [
              "<Figure size 432x288 with 1 Axes>"
            ]
          },
          "metadata": {
            "tags": [],
            "needs_background": "light"
          }
        }
      ]
    },
    {
      "cell_type": "markdown",
      "metadata": {
        "id": "uLOlldgbT1pe"
      },
      "source": [
        "## Scatter Plot"
      ]
    },
    {
      "cell_type": "code",
      "metadata": {
        "colab": {
          "base_uri": "https://localhost:8080/",
          "height": 282
        },
        "id": "1uXAxSjQTZBZ",
        "outputId": "aca4812b-dc1d-4294-9ba9-6c0b9a822dab"
      },
      "source": [
        "# Two numerical variables\n",
        "plt.scatter(x=data['CO'], y=data['CO2'], marker='o')"
      ],
      "execution_count": null,
      "outputs": [
        {
          "output_type": "execute_result",
          "data": {
            "text/plain": [
              "<matplotlib.collections.PathCollection at 0x7fd2988c1250>"
            ]
          },
          "metadata": {
            "tags": []
          },
          "execution_count": 13
        },
        {
          "output_type": "display_data",
          "data": {
            "image/png": "[encoded data removed]",
            "text/plain": [
              "<Figure size 432x288 with 1 Axes>"
            ]
          },
          "metadata": {
            "tags": [],
            "needs_background": "light"
          }
        }
      ]
    },
    {
      "cell_type": "markdown",
      "metadata": {
        "id": "J4jpONN7dm-m"
      },
      "source": [
        "## Subplots\n",
        "To show multiple chart in one single cell execution"
      ]
    },
    {
      "cell_type": "code",
      "metadata": {
        "id": "xhjgBtcFikCV"
      },
      "source": [
        "# show boxplots in one row\n",
        "fig, (ax1, ax2) = plt.subplots(1,2, figsize=(12,4))\n",
        "fig.suptitle('Two Boxplot in one rows')\n",
        "\n",
        "# First plot\n",
        "ax1.boxplot(data['CO'], vert=False)\n",
        "\n",
        "# Second plot\n",
        "ax2.boxplot(data['CO2'], vert=False)\n",
        "\n",
        "# Spacing between plot\n",
        "fig.tight_layout(pad = 3) \n",
        "\n",
        "plt.show()"
      ],
      "execution_count": null,
      "outputs": []
    },
    {
      "cell_type": "code",
      "metadata": {
        "colab": {
          "base_uri": "https://localhost:8080/",
          "height": 283
        },
        "id": "u5H0P15ddpMz",
        "outputId": "ebeead98-d25c-447c-de46-fd558f66e3e5"
      },
      "source": [
        "# show boxplots in one row\n",
        "fig, (ax1, ax2) = plt.subplots(1,2, figsize=(12,4))\n",
        "fig.suptitle('Two Boxplot in one rows') #Giving the title for the subplots\n",
        "# data['CO'].plot(kind='box', vert=False, ax=ax1)\n",
        "\n",
        "ax1.boxplot(data['CO'], vert=False)\n",
        "ax2.boxplot(data['CO2'], vert=False)\n",
        "fig.tight_layout(pad = 3)\n",
        "plt.show()"
      ],
      "execution_count": null,
      "outputs": [
        {
          "output_type": "display_data",
          "data": {
            "image/png": "[encoded data removed]",
            "text/plain": [
              "<Figure size 864x288 with 2 Axes>"
            ]
          },
          "metadata": {
            "tags": [],
            "needs_background": "light"
          }
        }
      ]
    },
    {
      "cell_type": "code",
      "metadata": {
        "colab": {
          "base_uri": "https://localhost:8080/",
          "height": 494
        },
        "id": "UplJdQZWf8xs",
        "outputId": "91a03181-926c-44c9-88a5-0d1f6a598316"
      },
      "source": [
        "# show four scatter plots in two colums and two rows\n",
        "fig, ((ax1, ax2), (ax3, ax4)) = plt.subplots(2,2, figsize=(12,7))\n",
        "fig.suptitle(\"Four Scatter Plots\")\n",
        "\n",
        "# Oxygen with Hydrogen\n",
        "ax1.scatter(x=data['Oxigen'], y=data['Hydrogen'])\n",
        "ax1.set_xlabel('Gorila') \n",
        "ax1.set_ylabel(\"Coklat\")\n",
        "\n",
        "# Oxygen with Nitrogen\n",
        "ax2.scatter(x=data['Oxigen'], y=data['Nitrogen'])\n",
        "\n",
        "# Oxygen with Methane\n",
        "ax3.scatter(x=data['Oxigen'], y=data['Methane'])\n",
        "\n",
        "# Oxygen with Ethylene\n",
        "ax4.scatter(x=data['Oxigen'], y=data['Ethylene'])\n",
        "\n",
        "fig.tight_layout(pad = 3)\n",
        "\n",
        "plt.show()"
      ],
      "execution_count": null,
      "outputs": [
        {
          "output_type": "display_data",
          "data": {
            "image/png": "[encoded data removed]",
            "text/plain": [
              "<Figure size 864x504 with 4 Axes>"
            ]
          },
          "metadata": {
            "tags": [],
            "needs_background": "light"
          }
        }
      ]
    },
    {
      "cell_type": "markdown",
      "metadata": {
        "id": "KfbsFQPRjvuJ"
      },
      "source": [
        "## Annotation\n",
        "has a meaning to highlight the information in our visualization\n"
      ]
    },
    {
      "cell_type": "code",
      "metadata": {
        "colab": {
          "base_uri": "https://localhost:8080/",
          "height": 264
        },
        "id": "7_ctLdQ4eKbB",
        "outputId": "def8da4c-fded-42af-801c-9b1d27e5fa89"
      },
      "source": [
        "# Show the distribution of a data and its measure of central tendency\n",
        "plt.hist(x=data['CO'])\n",
        "plt.text(1200, 220, \"Median Age: \" + str(data['CO'].median()), \n",
        "        style = 'italic', fontsize=10)\n",
        "plt.text(1200, 200, \"Mean Age: \" + str(data['CO'].mean()), \n",
        "        style = 'italic', fontsize=10)\n",
        "plt.show()"
      ],
      "execution_count": null,
      "outputs": [
        {
          "output_type": "display_data",
          "data": {
            "image/png": "[encoded data removed]",
            "text/plain": [
              "<Figure size 432x288 with 1 Axes>"
            ]
          },
          "metadata": {
            "tags": [],
            "needs_background": "light"
          }
        }
      ]
    },
    {
      "cell_type": "code",
      "metadata": {
        "colab": {
          "base_uri": "https://localhost:8080/",
          "height": 264
        },
        "id": "DdlFTEf3klxN",
        "outputId": "1d522195-d748-48ff-90bd-d764a3341065"
      },
      "source": [
        "# Show the proportion of event in bar chart\n",
        "fig, ax = plt.subplots()\n",
        "## Get the count of event\n",
        "event = pd.DataFrame(data['event'].value_counts())\n",
        "event = event.rename(columns={'event':'Amount'})\n",
        "event = event.rename_axis('Event').reset_index()\n",
        "event\n",
        "\n",
        "## Show the plot\n",
        "plt.bar(list(event['Event']), list(event['Amount']))\n",
        "\n",
        "## Show the annotation\n",
        "for p in ax.patches:\n",
        "  number = '{}'.format(p.get_height().astype('int64'))\n",
        "  ax.annotate(number, (p.get_x() + p.get_width()/2., p.get_height()), ha='center', va='center',\n",
        "              xytext=(0,-100), textcoords='offset points', color='white', fontweight='semibold')"
      ],
      "execution_count": null,
      "outputs": [
        {
          "output_type": "display_data",
          "data": {
            "image/png": "[encoded data removed]",
            "text/plain": [
              "<Figure size 432x288 with 1 Axes>"
            ]
          },
          "metadata": {
            "tags": [],
            "needs_background": "light"
          }
        }
      ]
    },
    {
      "cell_type": "markdown",
      "metadata": {
        "id": "XCMyPcPgrXyc"
      },
      "source": [
        "## Axis"
      ]
    },
    {
      "cell_type": "code",
      "metadata": {
        "colab": {
          "base_uri": "https://localhost:8080/",
          "height": 282
        },
        "id": "CXyEM4GBmjtu",
        "outputId": "c88accb0-ebee-4e34-afe4-35477c03ce75"
      },
      "source": [
        "# Create label in x_axis and y_axis for a single chart\n",
        "\n",
        "# Bar Chart\n",
        "plt.bar(list(event['Event']), list(event['Amount']), color='green')\n",
        "\n",
        "# Label\n",
        "plt.ylabel('Amount', fontweight='semibold', fontsize=13)\n",
        "plt.xlabel('Event', fontweight='semibold', fontsize=13)\n",
        "# plt.xticks([])\n",
        "# plt.yticks([])\n",
        "\n",
        "plt.show()"
      ],
      "execution_count": null,
      "outputs": [
        {
          "output_type": "display_data",
          "data": {
            "image/png": "[encoded data removed]",
            "text/plain": [
              "<Figure size 432x288 with 1 Axes>"
            ]
          },
          "metadata": {
            "tags": [],
            "needs_background": "light"
          }
        }
      ]
    },
    {
      "cell_type": "code",
      "metadata": {
        "colab": {
          "base_uri": "https://localhost:8080/",
          "height": 282
        },
        "id": "SUwsxV0ht7IE",
        "outputId": "1ffe46b3-4fee-491e-aa65-f176b5f09337"
      },
      "source": [
        "# Show scatter plot with custom label in x-axis and y-axis\n",
        "plt.scatter(data['Ethylene'], data['Ethane'], color='red')\n",
        "\n",
        "# Label\n",
        "plt.ylabel('Ethane', fontweight='semibold', fontsize=13)\n",
        "plt.xlabel('Ethylene', fontweight='semibold', fontsize=13)\n",
        "# plt.xticks([])\n",
        "# plt.yticks([])\n",
        "\n",
        "plt.show()"
      ],
      "execution_count": null,
      "outputs": [
        {
          "output_type": "display_data",
          "data": {
            "image/png": "[encoded data removed]",
            "text/plain": [
              "<Figure size 432x288 with 1 Axes>"
            ]
          },
          "metadata": {
            "tags": [],
            "needs_background": "light"
          }
        }
      ]
    },
    {
      "cell_type": "markdown",
      "metadata": {
        "id": "37QAbSpAu1aj"
      },
      "source": [
        "## Legend"
      ]
    },
    {
      "cell_type": "code",
      "metadata": {
        "colab": {
          "base_uri": "https://localhost:8080/",
          "height": 411
        },
        "id": "KEs5WEHWuP3o",
        "outputId": "689bc06b-1c27-49ec-d958-7dfe1714eae4"
      },
      "source": [
        "# Create a pie chart and show the legend of event\n",
        "event_legend = event.set_index('Event')\n",
        "\n",
        "plt.figure(figsize=(12,7))\n",
        "plt.pie(event_legend['Amount'], autopct=\"%1.2f%%\", textprops=dict(color=\"white\", size=16))\n",
        "\n",
        "## Legend\n",
        "plt.legend(['Working', 'Not Working'])\n",
        "plt.show()"
      ],
      "execution_count": null,
      "outputs": [
        {
          "output_type": "display_data",
          "data": {
            "image/png": "[encoded data removed]",
            "text/plain": [
              "<Figure size 864x504 with 1 Axes>"
            ]
          },
          "metadata": {
            "tags": []
          }
        }
      ]
    },
    {
      "cell_type": "code",
      "metadata": {
        "colab": {
          "base_uri": "https://localhost:8080/",
          "height": 264
        },
        "id": "23sFuNqbx2MT",
        "outputId": "2591fed2-ac30-4386-b4d7-9847f298db2d"
      },
      "source": [
        "# Create a line chart and show the in each event\n",
        "\n",
        "## Random sample 40 working and 40 not working\n",
        "data_2 = data.apply(lambda x: x.sample(n=40, random_state=1))\n",
        "data_2 = data_2.reset_index()\n",
        "\n",
        "data_2_w = data_2[data_2['event'] == 'Working']\n",
        "data_2_nw = data_2[data_2['event'] == 'Not Working']\n",
        "\n",
        "## Line plot with legend\n",
        "plt.plot(data_2_w['CO'], label='Working')\n",
        "plt.plot(data_2_nw['CO'], label='Not Working')\n",
        "plt.legend()\n",
        "\n",
        "plt.show()"
      ],
      "execution_count": null,
      "outputs": [
        {
          "output_type": "display_data",
          "data": {
            "image/png": "[encoded data removed]",
            "text/plain": [
              "<Figure size 432x288 with 1 Axes>"
            ]
          },
          "metadata": {
            "tags": [],
            "needs_background": "light"
          }
        }
      ]
    },
    {
      "cell_type": "code",
      "metadata": {
        "colab": {
          "base_uri": "https://localhost:8080/",
          "height": 305
        },
        "id": "p3ZzoJuz0DaA",
        "outputId": "cebc702d-951e-4f0e-954e-3f34c3926c86"
      },
      "source": [
        "data = pd.read_csv('https://raw.githubusercontent.com/densaiko/data_science_learning/main/dataset/BankChurners.csv')\n",
        "data.head()"
      ],
      "execution_count": null,
      "outputs": [
        {
          "output_type": "execute_result",
          "data": {
            "text/html": [
              "<div>\n",
              "<style scoped>\n",
              "    .dataframe tbody tr th:only-of-type {\n",
              "        vertical-align: middle;\n",
              "    }\n",
              "\n",
              "    .dataframe tbody tr th {\n",
              "        vertical-align: top;\n",
              "    }\n",
              "\n",
              "    .dataframe thead th {\n",
              "        text-align: right;\n",
              "    }\n",
              "</style>\n",
              "<table border=\"1\" class=\"dataframe\">\n",
              "  <thead>\n",
              "    <tr style=\"text-align: right;\">\n",
              "      <th></th>\n",
              "      <th>CLIENTNUM</th>\n",
              "      <th>Attrition_Flag</th>\n",
              "      <th>Customer_Age</th>\n",
              "      <th>Gender</th>\n",
              "      <th>Dependent_count</th>\n",
              "      <th>Education_Level</th>\n",
              "      <th>Marital_Status</th>\n",
              "      <th>Income_Category</th>\n",
              "      <th>Card_Category</th>\n",
              "      <th>Months_on_book</th>\n",
              "      <th>Total_Relationship_Count</th>\n",
              "      <th>Months_Inactive_12_mon</th>\n",
              "      <th>Contacts_Count_12_mon</th>\n",
              "      <th>Credit_Limit</th>\n",
              "      <th>Total_Revolving_Bal</th>\n",
              "      <th>Avg_Open_To_Buy</th>\n",
              "      <th>Total_Amt_Chng_Q4_Q1</th>\n",
              "      <th>Total_Trans_Amt</th>\n",
              "      <th>Total_Trans_Ct</th>\n",
              "      <th>Total_Ct_Chng_Q4_Q1</th>\n",
              "      <th>Avg_Utilization_Ratio</th>\n",
              "      <th>Naive_Bayes_Classifier_Attrition_Flag_Card_Category_Contacts_Count_12_mon_Dependent_count_Education_Level_Months_Inactive_12_mon_1</th>\n",
              "      <th>Naive_Bayes_Classifier_Attrition_Flag_Card_Category_Contacts_Count_12_mon_Dependent_count_Education_Level_Months_Inactive_12_mon_2</th>\n",
              "    </tr>\n",
              "  </thead>\n",
              "  <tbody>\n",
              "    <tr>\n",
              "      <th>0</th>\n",
              "      <td>768805383</td>\n",
              "      <td>Existing Customer</td>\n",
              "      <td>45</td>\n",
              "      <td>M</td>\n",
              "      <td>3</td>\n",
              "      <td>High School</td>\n",
              "      <td>Married</td>\n",
              "      <td>$60K - $80K</td>\n",
              "      <td>Blue</td>\n",
              "      <td>39</td>\n",
              "      <td>5</td>\n",
              "      <td>1</td>\n",
              "      <td>3</td>\n",
              "      <td>12691.0</td>\n",
              "      <td>777</td>\n",
              "      <td>11914.0</td>\n",
              "      <td>1.335</td>\n",
              "      <td>1144</td>\n",
              "      <td>42</td>\n",
              "      <td>1.625</td>\n",
              "      <td>0.061</td>\n",
              "      <td>0.000093</td>\n",
              "      <td>0.99991</td>\n",
              "    </tr>\n",
              "    <tr>\n",
              "      <th>1</th>\n",
              "      <td>818770008</td>\n",
              "      <td>Existing Customer</td>\n",
              "      <td>49</td>\n",
              "      <td>F</td>\n",
              "      <td>5</td>\n",
              "      <td>Graduate</td>\n",
              "      <td>Single</td>\n",
              "      <td>Less than $40K</td>\n",
              "      <td>Blue</td>\n",
              "      <td>44</td>\n",
              "      <td>6</td>\n",
              "      <td>1</td>\n",
              "      <td>2</td>\n",
              "      <td>8256.0</td>\n",
              "      <td>864</td>\n",
              "      <td>7392.0</td>\n",
              "      <td>1.541</td>\n",
              "      <td>1291</td>\n",
              "      <td>33</td>\n",
              "      <td>3.714</td>\n",
              "      <td>0.105</td>\n",
              "      <td>0.000057</td>\n",
              "      <td>0.99994</td>\n",
              "    </tr>\n",
              "    <tr>\n",
              "      <th>2</th>\n",
              "      <td>713982108</td>\n",
              "      <td>Existing Customer</td>\n",
              "      <td>51</td>\n",
              "      <td>M</td>\n",
              "      <td>3</td>\n",
              "      <td>Graduate</td>\n",
              "      <td>Married</td>\n",
              "      <td>$80K - $120K</td>\n",
              "      <td>Blue</td>\n",
              "      <td>36</td>\n",
              "      <td>4</td>\n",
              "      <td>1</td>\n",
              "      <td>0</td>\n",
              "      <td>3418.0</td>\n",
              "      <td>0</td>\n",
              "      <td>3418.0</td>\n",
              "      <td>2.594</td>\n",
              "      <td>1887</td>\n",
              "      <td>20</td>\n",
              "      <td>2.333</td>\n",
              "      <td>0.000</td>\n",
              "      <td>0.000021</td>\n",
              "      <td>0.99998</td>\n",
              "    </tr>\n",
              "    <tr>\n",
              "      <th>3</th>\n",
              "      <td>769911858</td>\n",
              "      <td>Existing Customer</td>\n",
              "      <td>40</td>\n",
              "      <td>F</td>\n",
              "      <td>4</td>\n",
              "      <td>High School</td>\n",
              "      <td>Unknown</td>\n",
              "      <td>Less than $40K</td>\n",
              "      <td>Blue</td>\n",
              "      <td>34</td>\n",
              "      <td>3</td>\n",
              "      <td>4</td>\n",
              "      <td>1</td>\n",
              "      <td>3313.0</td>\n",
              "      <td>2517</td>\n",
              "      <td>796.0</td>\n",
              "      <td>1.405</td>\n",
              "      <td>1171</td>\n",
              "      <td>20</td>\n",
              "      <td>2.333</td>\n",
              "      <td>0.760</td>\n",
              "      <td>0.000134</td>\n",
              "      <td>0.99987</td>\n",
              "    </tr>\n",
              "    <tr>\n",
              "      <th>4</th>\n",
              "      <td>709106358</td>\n",
              "      <td>Existing Customer</td>\n",
              "      <td>40</td>\n",
              "      <td>M</td>\n",
              "      <td>3</td>\n",
              "      <td>Uneducated</td>\n",
              "      <td>Married</td>\n",
              "      <td>$60K - $80K</td>\n",
              "      <td>Blue</td>\n",
              "      <td>21</td>\n",
              "      <td>5</td>\n",
              "      <td>1</td>\n",
              "      <td>0</td>\n",
              "      <td>4716.0</td>\n",
              "      <td>0</td>\n",
              "      <td>4716.0</td>\n",
              "      <td>2.175</td>\n",
              "      <td>816</td>\n",
              "      <td>28</td>\n",
              "      <td>2.500</td>\n",
              "      <td>0.000</td>\n",
              "      <td>0.000022</td>\n",
              "      <td>0.99998</td>\n",
              "    </tr>\n",
              "  </tbody>\n",
              "</table>\n",
              "</div>"
            ],
            "text/plain": [
              "   CLIENTNUM  ... Naive_Bayes_Classifier_Attrition_Flag_Card_Category_Contacts_Count_12_mon_Dependent_count_Education_Level_Months_Inactive_12_mon_2\n",
              "0  768805383  ...                                            0.99991                                                                                \n",
              "1  818770008  ...                                            0.99994                                                                                \n",
              "2  713982108  ...                                            0.99998                                                                                \n",
              "3  769911858  ...                                            0.99987                                                                                \n",
              "4  709106358  ...                                            0.99998                                                                                \n",
              "\n",
              "[5 rows x 23 columns]"
            ]
          },
          "metadata": {
            "tags": []
          },
          "execution_count": 168
        }
      ]
    },
    {
      "cell_type": "code",
      "metadata": {
        "id": "Bbg4Z8e20FiU"
      },
      "source": [
        ""
      ],
      "execution_count": null,
      "outputs": []
    },
    {
      "cell_type": "markdown",
      "metadata": {
        "id": "l-5OqdWT0WvA"
      },
      "source": [
        "### **Question 1** - Show the Credit_Limit in line chart in each marital_status\n",
        "Notes:\n",
        "- Show the label both x_axis and y_axis\n",
        "- Show the legend"
      ]
    },
    {
      "cell_type": "markdown",
      "metadata": {
        "id": "vkszsEXo0ojI"
      },
      "source": [
        "### **Question 2** - Show the proportion of Card_category in percentage in a bar chart\n",
        "Notes:\n",
        "- Give the annotate in percent\n",
        "- Remove the thicker both x_axis and y_axis"
      ]
    }
  ]
}